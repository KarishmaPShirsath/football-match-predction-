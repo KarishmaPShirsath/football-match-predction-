{
 "cells": [
  {
   "cell_type": "markdown",
   "id": "c104e20c",
   "metadata": {},
   "source": [
    "## Football Match Result Prediction"
   ]
  },
  {
   "cell_type": "markdown",
   "id": "457094f8",
   "metadata": {},
   "source": [
    "####  Abhishek Naithani - c0871411\n",
    "#### Karishma Shirsath - c0871245\n",
    "#### Tejaswi Kalla - c0852124\n",
    "#### Venkata Sai Charan Yerapasetty - c0863224"
   ]
  },
  {
   "cell_type": "markdown",
   "id": "206bd97b",
   "metadata": {},
   "source": [
    "1. [Libraries used](#libraries)\n",
    "2. [Web Scraping Data](#scraping)\n",
    "3. [Converting the data to csv and loading](#Convert)\n",
    "4. [Pandas Profiling of raw data](#raw_profile)\n",
    "5. [Data Pre-processing](#pre_process)\n",
    "6. [Data Cleaning](#clean)\n",
    "7. [Visualization](#visualization)\n",
    "8. [Processing the data for prediction](#prediction)\n",
    "9. [Applying ML Models](#model)"
   ]
  },
  {
   "cell_type": "markdown",
   "id": "4df78b1b",
   "metadata": {},
   "source": [
    "## 1. Libraries Used <a class=\"anchor\" id=\"libraries\"></a>\n"
   ]
  },
  {
   "cell_type": "code",
   "execution_count": 233,
   "id": "24d58142",
   "metadata": {},
   "outputs": [
    {
     "data": {
      "text/html": [
       "        <script type=\"text/javascript\">\n",
       "        window.PlotlyConfig = {MathJaxConfig: 'local'};\n",
       "        if (window.MathJax) {MathJax.Hub.Config({SVG: {font: \"STIX-Web\"}});}\n",
       "        if (typeof require !== 'undefined') {\n",
       "        require.undef(\"plotly\");\n",
       "        requirejs.config({\n",
       "            paths: {\n",
       "                'plotly': ['https://cdn.plot.ly/plotly-2.9.0.min']\n",
       "            }\n",
       "        });\n",
       "        require(['plotly'], function(Plotly) {\n",
       "            window._Plotly = Plotly;\n",
       "        });\n",
       "        }\n",
       "        </script>\n",
       "        "
      ]
     },
     "metadata": {},
     "output_type": "display_data"
    }
   ],
   "source": [
    "import pandas as pd\n",
    "import requests\n",
    "import pandas_profiling\n",
    "import warnings\n",
    "warnings.filterwarnings('ignore')\n",
    "import matplotlib.pyplot as plt\n",
    "import seaborn as sns\n",
    "import plotly.express as px\n",
    "from bs4 import BeautifulSoup\n",
    "from sklearn.ensemble import RandomForestClassifier\n",
    "from sklearn.metrics import accuracy_score\n",
    "from sklearn.metrics import classification_report, confusion_matrix\n",
    "import xgboost as xgb\n",
    "from sklearn.tree import DecisionTreeClassifier\n",
    "from sklearn.linear_model import LogisticRegression\n",
    "from sklearn.metrics import roc_curve, auc\n",
    "from plotly.offline import init_notebook_mode, iplot\n",
    "init_notebook_mode(connected=True)"
   ]
  },
  {
   "cell_type": "markdown",
   "id": "d81999c6",
   "metadata": {},
   "source": [
    "## 2. Web Scrapping data <a class=\"anchor\" id=\"scraping\"></a>\n",
    "\n",
    "<div class=\"alert alert-block alert-info\">\n",
    "    \n",
    "We have scrapped the data from the online site fbref, this site provides the data of all the matches in the laliga. For the scrapping we have considered data from multiple seasons(2022-2014) and the we have used the beautiful soup to get all the matches data and then concatinatced the shooting data of individual matches on the date column. Our final dataset contains all the details of every match played in laliga from 2022-2023 season to 2015-2014 season.\n",
    "    \n",
    "</div>"
   ]
  },
  {
   "cell_type": "code",
   "execution_count": 2,
   "id": "68c71ec7",
   "metadata": {},
   "outputs": [],
   "source": [
    "years = list(range(2022, 2014, -1))"
   ]
  },
  {
   "cell_type": "code",
   "execution_count": 3,
   "id": "5f390459",
   "metadata": {},
   "outputs": [],
   "source": [
    "all_matches = []"
   ]
  },
  {
   "cell_type": "code",
   "execution_count": 5,
   "id": "8e2d71f0",
   "metadata": {},
   "outputs": [],
   "source": [
    "standings_url = \"https://fbref.com/en/comps/12/2022-2023/2022-2023-La-Liga-Stats\""
   ]
  },
  {
   "cell_type": "code",
   "execution_count": 6,
   "id": "1ba31c43",
   "metadata": {},
   "outputs": [],
   "source": [
    "import time\n",
    "for year in years:\n",
    "    \n",
    "    #getting individual team links\n",
    "    data = requests.get(standings_url)\n",
    "    soup = BeautifulSoup(data.text)\n",
    "    time.sleep(5)\n",
    "    standings_table = soup.select('table.stats_table')[0]\n",
    "\n",
    "    links = [l.get(\"href\") for l in standings_table.find_all('a')]\n",
    "    links = [l for l in links if '/squads/' in l]\n",
    "    team_urls = [f\"https://fbref.com{l}\" for l in links]\n",
    "    \n",
    "    #to iterate and get the data from previous seasons\n",
    "    previous_season = soup.select(\"a.prev\")[0].get(\"href\")\n",
    "    standings_url = f\"https://fbref.com{previous_season}\"\n",
    "    \n",
    "    for team_url in team_urls:\n",
    "        team_name = team_url.split(\"/\")[-1].replace(\"-Stats\", \"\").replace(\"-\", \" \")\n",
    "\n",
    "        #getting the details of all matches from scores & fixtures table\n",
    "        data = requests.get(team_url)\n",
    "        matches = pd.read_html(data.text, match=\"Scores & Fixtures\")[0]\n",
    "        soup = BeautifulSoup(data.text)\n",
    "        time.sleep(5)\n",
    "        links = [l.get(\"href\") for l in soup.find_all('a')]\n",
    "        links = [l for l in links if l and 'all_comps/shooting/' in l]\n",
    "\n",
    "        #to get the shooting details of all the matches\n",
    "        data = requests.get(f\"https://fbref.com{links[0]}\")\n",
    "        shooting = pd.read_html(data.text, match=\"Shooting\")[0]\n",
    "        shooting.columns = shooting.columns.droplevel()\n",
    "        try:\n",
    "            team_data = matches.merge(shooting[[\"Date\", \"Sh\", \"SoT\", \"Dist\", \"PK\", \"PKatt\"]], on=\"Date\") # merging both tables data\n",
    "        except ValueError:\n",
    "            continue\n",
    "        team_data = team_data[team_data[\"Comp\"] == \"La Liga\"]\n",
    "        \n",
    "        team_data[\"Season\"] = year\n",
    "        team_data[\"Team\"] = team_name\n",
    "        all_matches.append(team_data)\n",
    "        time.sleep(5)"
   ]
  },
  {
   "cell_type": "code",
   "execution_count": 7,
   "id": "df80a05f",
   "metadata": {},
   "outputs": [],
   "source": [
    "match_df = pd.concat(all_matches)"
   ]
  },
  {
   "cell_type": "code",
   "execution_count": 8,
   "id": "40c6c8ea",
   "metadata": {},
   "outputs": [],
   "source": [
    "match_df.columns = [c.lower() for c in match_df.columns]"
   ]
  },
  {
   "cell_type": "code",
   "execution_count": 9,
   "id": "8f9ed96c",
   "metadata": {},
   "outputs": [
    {
     "data": {
      "text/html": [
       "<div>\n",
       "<style scoped>\n",
       "    .dataframe tbody tr th:only-of-type {\n",
       "        vertical-align: middle;\n",
       "    }\n",
       "\n",
       "    .dataframe tbody tr th {\n",
       "        vertical-align: top;\n",
       "    }\n",
       "\n",
       "    .dataframe thead th {\n",
       "        text-align: right;\n",
       "    }\n",
       "</style>\n",
       "<table border=\"1\" class=\"dataframe\">\n",
       "  <thead>\n",
       "    <tr style=\"text-align: right;\">\n",
       "      <th></th>\n",
       "      <th>date</th>\n",
       "      <th>time</th>\n",
       "      <th>comp</th>\n",
       "      <th>round</th>\n",
       "      <th>day</th>\n",
       "      <th>venue</th>\n",
       "      <th>result</th>\n",
       "      <th>gf</th>\n",
       "      <th>ga</th>\n",
       "      <th>opponent</th>\n",
       "      <th>...</th>\n",
       "      <th>referee</th>\n",
       "      <th>match report</th>\n",
       "      <th>notes</th>\n",
       "      <th>sh</th>\n",
       "      <th>sot</th>\n",
       "      <th>dist</th>\n",
       "      <th>pk</th>\n",
       "      <th>pkatt</th>\n",
       "      <th>season</th>\n",
       "      <th>team</th>\n",
       "    </tr>\n",
       "  </thead>\n",
       "  <tbody>\n",
       "    <tr>\n",
       "      <th>0</th>\n",
       "      <td>2022-08-13</td>\n",
       "      <td>21:00</td>\n",
       "      <td>La Liga</td>\n",
       "      <td>Matchweek 1</td>\n",
       "      <td>Sat</td>\n",
       "      <td>Home</td>\n",
       "      <td>D</td>\n",
       "      <td>0</td>\n",
       "      <td>0</td>\n",
       "      <td>Rayo Vallecano</td>\n",
       "      <td>...</td>\n",
       "      <td>Alejandro Hernández</td>\n",
       "      <td>Match Report</td>\n",
       "      <td>NaN</td>\n",
       "      <td>21.0</td>\n",
       "      <td>5.0</td>\n",
       "      <td>17.0</td>\n",
       "      <td>0.0</td>\n",
       "      <td>0.0</td>\n",
       "      <td>2022</td>\n",
       "      <td>Barcelona</td>\n",
       "    </tr>\n",
       "    <tr>\n",
       "      <th>1</th>\n",
       "      <td>2022-08-21</td>\n",
       "      <td>22:00</td>\n",
       "      <td>La Liga</td>\n",
       "      <td>Matchweek 2</td>\n",
       "      <td>Sun</td>\n",
       "      <td>Away</td>\n",
       "      <td>W</td>\n",
       "      <td>4</td>\n",
       "      <td>1</td>\n",
       "      <td>Real Sociedad</td>\n",
       "      <td>...</td>\n",
       "      <td>José Luis Munuera</td>\n",
       "      <td>Match Report</td>\n",
       "      <td>NaN</td>\n",
       "      <td>15.0</td>\n",
       "      <td>7.0</td>\n",
       "      <td>14.6</td>\n",
       "      <td>0.0</td>\n",
       "      <td>0.0</td>\n",
       "      <td>2022</td>\n",
       "      <td>Barcelona</td>\n",
       "    </tr>\n",
       "    <tr>\n",
       "      <th>2</th>\n",
       "      <td>2022-08-28</td>\n",
       "      <td>19:30</td>\n",
       "      <td>La Liga</td>\n",
       "      <td>Matchweek 3</td>\n",
       "      <td>Sun</td>\n",
       "      <td>Home</td>\n",
       "      <td>W</td>\n",
       "      <td>4</td>\n",
       "      <td>0</td>\n",
       "      <td>Valladolid</td>\n",
       "      <td>...</td>\n",
       "      <td>Ricardo de Burgos</td>\n",
       "      <td>Match Report</td>\n",
       "      <td>NaN</td>\n",
       "      <td>24.0</td>\n",
       "      <td>9.0</td>\n",
       "      <td>14.4</td>\n",
       "      <td>0.0</td>\n",
       "      <td>0.0</td>\n",
       "      <td>2022</td>\n",
       "      <td>Barcelona</td>\n",
       "    </tr>\n",
       "    <tr>\n",
       "      <th>3</th>\n",
       "      <td>2022-09-03</td>\n",
       "      <td>21:00</td>\n",
       "      <td>La Liga</td>\n",
       "      <td>Matchweek 4</td>\n",
       "      <td>Sat</td>\n",
       "      <td>Away</td>\n",
       "      <td>W</td>\n",
       "      <td>3</td>\n",
       "      <td>0</td>\n",
       "      <td>Sevilla</td>\n",
       "      <td>...</td>\n",
       "      <td>Antonio Matéu Lahoz</td>\n",
       "      <td>Match Report</td>\n",
       "      <td>NaN</td>\n",
       "      <td>18.0</td>\n",
       "      <td>5.0</td>\n",
       "      <td>16.0</td>\n",
       "      <td>0.0</td>\n",
       "      <td>0.0</td>\n",
       "      <td>2022</td>\n",
       "      <td>Barcelona</td>\n",
       "    </tr>\n",
       "    <tr>\n",
       "      <th>5</th>\n",
       "      <td>2022-09-10</td>\n",
       "      <td>18:30</td>\n",
       "      <td>La Liga</td>\n",
       "      <td>Matchweek 5</td>\n",
       "      <td>Sat</td>\n",
       "      <td>Away</td>\n",
       "      <td>W</td>\n",
       "      <td>4</td>\n",
       "      <td>0</td>\n",
       "      <td>Cádiz</td>\n",
       "      <td>...</td>\n",
       "      <td>Carlos del Cerro</td>\n",
       "      <td>Match Report</td>\n",
       "      <td>NaN</td>\n",
       "      <td>16.0</td>\n",
       "      <td>8.0</td>\n",
       "      <td>14.9</td>\n",
       "      <td>0.0</td>\n",
       "      <td>0.0</td>\n",
       "      <td>2022</td>\n",
       "      <td>Barcelona</td>\n",
       "    </tr>\n",
       "    <tr>\n",
       "      <th>...</th>\n",
       "      <td>...</td>\n",
       "      <td>...</td>\n",
       "      <td>...</td>\n",
       "      <td>...</td>\n",
       "      <td>...</td>\n",
       "      <td>...</td>\n",
       "      <td>...</td>\n",
       "      <td>...</td>\n",
       "      <td>...</td>\n",
       "      <td>...</td>\n",
       "      <td>...</td>\n",
       "      <td>...</td>\n",
       "      <td>...</td>\n",
       "      <td>...</td>\n",
       "      <td>...</td>\n",
       "      <td>...</td>\n",
       "      <td>...</td>\n",
       "      <td>...</td>\n",
       "      <td>...</td>\n",
       "      <td>...</td>\n",
       "      <td>...</td>\n",
       "    </tr>\n",
       "    <tr>\n",
       "      <th>35</th>\n",
       "      <td>2016-04-21</td>\n",
       "      <td>21:00</td>\n",
       "      <td>La Liga</td>\n",
       "      <td>Matchweek 34</td>\n",
       "      <td>Thu</td>\n",
       "      <td>Away</td>\n",
       "      <td>L</td>\n",
       "      <td>1</td>\n",
       "      <td>5</td>\n",
       "      <td>Granada</td>\n",
       "      <td>...</td>\n",
       "      <td>Santiago Jaime</td>\n",
       "      <td>Match Report</td>\n",
       "      <td>NaN</td>\n",
       "      <td>15.0</td>\n",
       "      <td>5.0</td>\n",
       "      <td>NaN</td>\n",
       "      <td>0.0</td>\n",
       "      <td>0.0</td>\n",
       "      <td>2015</td>\n",
       "      <td>Levante</td>\n",
       "    </tr>\n",
       "    <tr>\n",
       "      <th>36</th>\n",
       "      <td>2016-04-24</td>\n",
       "      <td>12:00</td>\n",
       "      <td>La Liga</td>\n",
       "      <td>Matchweek 35</td>\n",
       "      <td>Sun</td>\n",
       "      <td>Home</td>\n",
       "      <td>D</td>\n",
       "      <td>2</td>\n",
       "      <td>2</td>\n",
       "      <td>Athletic Club</td>\n",
       "      <td>...</td>\n",
       "      <td>Ignacio Iglesias</td>\n",
       "      <td>Match Report</td>\n",
       "      <td>NaN</td>\n",
       "      <td>10.0</td>\n",
       "      <td>5.0</td>\n",
       "      <td>NaN</td>\n",
       "      <td>0.0</td>\n",
       "      <td>0.0</td>\n",
       "      <td>2015</td>\n",
       "      <td>Levante</td>\n",
       "    </tr>\n",
       "    <tr>\n",
       "      <th>37</th>\n",
       "      <td>2016-05-02</td>\n",
       "      <td>20:30</td>\n",
       "      <td>La Liga</td>\n",
       "      <td>Matchweek 36</td>\n",
       "      <td>Mon</td>\n",
       "      <td>Away</td>\n",
       "      <td>L</td>\n",
       "      <td>1</td>\n",
       "      <td>3</td>\n",
       "      <td>Málaga</td>\n",
       "      <td>...</td>\n",
       "      <td>Iñaki Bikandi</td>\n",
       "      <td>Match Report</td>\n",
       "      <td>NaN</td>\n",
       "      <td>11.0</td>\n",
       "      <td>5.0</td>\n",
       "      <td>NaN</td>\n",
       "      <td>0.0</td>\n",
       "      <td>0.0</td>\n",
       "      <td>2015</td>\n",
       "      <td>Levante</td>\n",
       "    </tr>\n",
       "    <tr>\n",
       "      <th>38</th>\n",
       "      <td>2016-05-08</td>\n",
       "      <td>17:00</td>\n",
       "      <td>La Liga</td>\n",
       "      <td>Matchweek 37</td>\n",
       "      <td>Sun</td>\n",
       "      <td>Home</td>\n",
       "      <td>W</td>\n",
       "      <td>2</td>\n",
       "      <td>1</td>\n",
       "      <td>Atlético Madrid</td>\n",
       "      <td>...</td>\n",
       "      <td>José González</td>\n",
       "      <td>Match Report</td>\n",
       "      <td>NaN</td>\n",
       "      <td>11.0</td>\n",
       "      <td>5.0</td>\n",
       "      <td>NaN</td>\n",
       "      <td>0.0</td>\n",
       "      <td>0.0</td>\n",
       "      <td>2015</td>\n",
       "      <td>Levante</td>\n",
       "    </tr>\n",
       "    <tr>\n",
       "      <th>39</th>\n",
       "      <td>2016-05-15</td>\n",
       "      <td>19:30</td>\n",
       "      <td>La Liga</td>\n",
       "      <td>Matchweek 38</td>\n",
       "      <td>Sun</td>\n",
       "      <td>Away</td>\n",
       "      <td>L</td>\n",
       "      <td>1</td>\n",
       "      <td>3</td>\n",
       "      <td>Rayo Vallecano</td>\n",
       "      <td>...</td>\n",
       "      <td>Carlos Clos Gómez</td>\n",
       "      <td>Match Report</td>\n",
       "      <td>NaN</td>\n",
       "      <td>8.0</td>\n",
       "      <td>2.0</td>\n",
       "      <td>NaN</td>\n",
       "      <td>1.0</td>\n",
       "      <td>1.0</td>\n",
       "      <td>2015</td>\n",
       "      <td>Levante</td>\n",
       "    </tr>\n",
       "  </tbody>\n",
       "</table>\n",
       "<p>6080 rows × 26 columns</p>\n",
       "</div>"
      ],
      "text/plain": [
       "          date   time     comp         round  day venue result gf ga  \\\n",
       "0   2022-08-13  21:00  La Liga   Matchweek 1  Sat  Home      D  0  0   \n",
       "1   2022-08-21  22:00  La Liga   Matchweek 2  Sun  Away      W  4  1   \n",
       "2   2022-08-28  19:30  La Liga   Matchweek 3  Sun  Home      W  4  0   \n",
       "3   2022-09-03  21:00  La Liga   Matchweek 4  Sat  Away      W  3  0   \n",
       "5   2022-09-10  18:30  La Liga   Matchweek 5  Sat  Away      W  4  0   \n",
       "..         ...    ...      ...           ...  ...   ...    ... .. ..   \n",
       "35  2016-04-21  21:00  La Liga  Matchweek 34  Thu  Away      L  1  5   \n",
       "36  2016-04-24  12:00  La Liga  Matchweek 35  Sun  Home      D  2  2   \n",
       "37  2016-05-02  20:30  La Liga  Matchweek 36  Mon  Away      L  1  3   \n",
       "38  2016-05-08  17:00  La Liga  Matchweek 37  Sun  Home      W  2  1   \n",
       "39  2016-05-15  19:30  La Liga  Matchweek 38  Sun  Away      L  1  3   \n",
       "\n",
       "           opponent  ...              referee  match report  notes    sh  sot  \\\n",
       "0    Rayo Vallecano  ...  Alejandro Hernández  Match Report    NaN  21.0  5.0   \n",
       "1     Real Sociedad  ...    José Luis Munuera  Match Report    NaN  15.0  7.0   \n",
       "2        Valladolid  ...    Ricardo de Burgos  Match Report    NaN  24.0  9.0   \n",
       "3           Sevilla  ...  Antonio Matéu Lahoz  Match Report    NaN  18.0  5.0   \n",
       "5             Cádiz  ...     Carlos del Cerro  Match Report    NaN  16.0  8.0   \n",
       "..              ...  ...                  ...           ...    ...   ...  ...   \n",
       "35          Granada  ...       Santiago Jaime  Match Report    NaN  15.0  5.0   \n",
       "36    Athletic Club  ...     Ignacio Iglesias  Match Report    NaN  10.0  5.0   \n",
       "37           Málaga  ...        Iñaki Bikandi  Match Report    NaN  11.0  5.0   \n",
       "38  Atlético Madrid  ...        José González  Match Report    NaN  11.0  5.0   \n",
       "39   Rayo Vallecano  ...    Carlos Clos Gómez  Match Report    NaN   8.0  2.0   \n",
       "\n",
       "    dist   pk pkatt season       team  \n",
       "0   17.0  0.0   0.0   2022  Barcelona  \n",
       "1   14.6  0.0   0.0   2022  Barcelona  \n",
       "2   14.4  0.0   0.0   2022  Barcelona  \n",
       "3   16.0  0.0   0.0   2022  Barcelona  \n",
       "5   14.9  0.0   0.0   2022  Barcelona  \n",
       "..   ...  ...   ...    ...        ...  \n",
       "35   NaN  0.0   0.0   2015    Levante  \n",
       "36   NaN  0.0   0.0   2015    Levante  \n",
       "37   NaN  0.0   0.0   2015    Levante  \n",
       "38   NaN  0.0   0.0   2015    Levante  \n",
       "39   NaN  1.0   1.0   2015    Levante  \n",
       "\n",
       "[6080 rows x 26 columns]"
      ]
     },
     "execution_count": 9,
     "metadata": {},
     "output_type": "execute_result"
    }
   ],
   "source": [
    "match_df"
   ]
  },
  {
   "cell_type": "markdown",
   "id": "5f5f2389",
   "metadata": {},
   "source": [
    " ## 3. Converting the data to csv and loading it <a class=\"anchor\" id=\"Convert\"></a>"
   ]
  },
  {
   "cell_type": "code",
   "execution_count": 10,
   "id": "10bb7de2",
   "metadata": {},
   "outputs": [],
   "source": [
    "match_df.to_csv(\"matches.csv\")"
   ]
  },
  {
   "cell_type": "code",
   "execution_count": 234,
   "id": "b8f14376",
   "metadata": {},
   "outputs": [],
   "source": [
    "df = pd.read_csv(\"matches.csv\",index_col = 0)"
   ]
  },
  {
   "cell_type": "code",
   "execution_count": 235,
   "id": "5bf96b83",
   "metadata": {},
   "outputs": [],
   "source": [
    "df_copy = df"
   ]
  },
  {
   "cell_type": "code",
   "execution_count": 236,
   "id": "3408c82a",
   "metadata": {},
   "outputs": [
    {
     "data": {
      "text/html": [
       "<div>\n",
       "<style scoped>\n",
       "    .dataframe tbody tr th:only-of-type {\n",
       "        vertical-align: middle;\n",
       "    }\n",
       "\n",
       "    .dataframe tbody tr th {\n",
       "        vertical-align: top;\n",
       "    }\n",
       "\n",
       "    .dataframe thead th {\n",
       "        text-align: right;\n",
       "    }\n",
       "</style>\n",
       "<table border=\"1\" class=\"dataframe\">\n",
       "  <thead>\n",
       "    <tr style=\"text-align: right;\">\n",
       "      <th></th>\n",
       "      <th>date</th>\n",
       "      <th>time</th>\n",
       "      <th>comp</th>\n",
       "      <th>round</th>\n",
       "      <th>day</th>\n",
       "      <th>venue</th>\n",
       "      <th>result</th>\n",
       "      <th>gf</th>\n",
       "      <th>ga</th>\n",
       "      <th>opponent</th>\n",
       "      <th>xg</th>\n",
       "      <th>xga</th>\n",
       "      <th>poss</th>\n",
       "      <th>attendance</th>\n",
       "      <th>captain</th>\n",
       "      <th>formation</th>\n",
       "      <th>referee</th>\n",
       "      <th>match report</th>\n",
       "      <th>notes</th>\n",
       "      <th>sh</th>\n",
       "      <th>sot</th>\n",
       "      <th>dist</th>\n",
       "      <th>pk</th>\n",
       "      <th>pkatt</th>\n",
       "      <th>season</th>\n",
       "      <th>team</th>\n",
       "    </tr>\n",
       "  </thead>\n",
       "  <tbody>\n",
       "    <tr>\n",
       "      <th>0</th>\n",
       "      <td>2022-08-13</td>\n",
       "      <td>21:00</td>\n",
       "      <td>La Liga</td>\n",
       "      <td>Matchweek 1</td>\n",
       "      <td>Sat</td>\n",
       "      <td>Home</td>\n",
       "      <td>D</td>\n",
       "      <td>0.0</td>\n",
       "      <td>0.0</td>\n",
       "      <td>Rayo Vallecano</td>\n",
       "      <td>1.9</td>\n",
       "      <td>0.5</td>\n",
       "      <td>67.0</td>\n",
       "      <td>81104.0</td>\n",
       "      <td>Sergio Busquets</td>\n",
       "      <td>4-3-3</td>\n",
       "      <td>Alejandro Hernández</td>\n",
       "      <td>Match Report</td>\n",
       "      <td>NaN</td>\n",
       "      <td>21.0</td>\n",
       "      <td>5.0</td>\n",
       "      <td>17.0</td>\n",
       "      <td>0.0</td>\n",
       "      <td>0.0</td>\n",
       "      <td>2022</td>\n",
       "      <td>Barcelona</td>\n",
       "    </tr>\n",
       "    <tr>\n",
       "      <th>1</th>\n",
       "      <td>2022-08-21</td>\n",
       "      <td>22:00</td>\n",
       "      <td>La Liga</td>\n",
       "      <td>Matchweek 2</td>\n",
       "      <td>Sun</td>\n",
       "      <td>Away</td>\n",
       "      <td>W</td>\n",
       "      <td>4.0</td>\n",
       "      <td>1.0</td>\n",
       "      <td>Real Sociedad</td>\n",
       "      <td>2.1</td>\n",
       "      <td>0.8</td>\n",
       "      <td>58.0</td>\n",
       "      <td>36201.0</td>\n",
       "      <td>Marc-André ter Stegen</td>\n",
       "      <td>3-2-4-1</td>\n",
       "      <td>José Luis Munuera</td>\n",
       "      <td>Match Report</td>\n",
       "      <td>NaN</td>\n",
       "      <td>15.0</td>\n",
       "      <td>7.0</td>\n",
       "      <td>14.6</td>\n",
       "      <td>0.0</td>\n",
       "      <td>0.0</td>\n",
       "      <td>2022</td>\n",
       "      <td>Barcelona</td>\n",
       "    </tr>\n",
       "    <tr>\n",
       "      <th>2</th>\n",
       "      <td>2022-08-28</td>\n",
       "      <td>19:30</td>\n",
       "      <td>La Liga</td>\n",
       "      <td>Matchweek 3</td>\n",
       "      <td>Sun</td>\n",
       "      <td>Home</td>\n",
       "      <td>W</td>\n",
       "      <td>4.0</td>\n",
       "      <td>0.0</td>\n",
       "      <td>Valladolid</td>\n",
       "      <td>2.6</td>\n",
       "      <td>0.8</td>\n",
       "      <td>67.0</td>\n",
       "      <td>83972.0</td>\n",
       "      <td>Sergio Busquets</td>\n",
       "      <td>4-3-3</td>\n",
       "      <td>Ricardo de Burgos</td>\n",
       "      <td>Match Report</td>\n",
       "      <td>NaN</td>\n",
       "      <td>24.0</td>\n",
       "      <td>9.0</td>\n",
       "      <td>14.4</td>\n",
       "      <td>0.0</td>\n",
       "      <td>0.0</td>\n",
       "      <td>2022</td>\n",
       "      <td>Barcelona</td>\n",
       "    </tr>\n",
       "    <tr>\n",
       "      <th>3</th>\n",
       "      <td>2022-09-03</td>\n",
       "      <td>21:00</td>\n",
       "      <td>La Liga</td>\n",
       "      <td>Matchweek 4</td>\n",
       "      <td>Sat</td>\n",
       "      <td>Away</td>\n",
       "      <td>W</td>\n",
       "      <td>3.0</td>\n",
       "      <td>0.0</td>\n",
       "      <td>Sevilla</td>\n",
       "      <td>4.0</td>\n",
       "      <td>1.0</td>\n",
       "      <td>54.0</td>\n",
       "      <td>40233.0</td>\n",
       "      <td>Sergio Busquets</td>\n",
       "      <td>4-3-3</td>\n",
       "      <td>Antonio Matéu Lahoz</td>\n",
       "      <td>Match Report</td>\n",
       "      <td>NaN</td>\n",
       "      <td>18.0</td>\n",
       "      <td>5.0</td>\n",
       "      <td>16.0</td>\n",
       "      <td>0.0</td>\n",
       "      <td>0.0</td>\n",
       "      <td>2022</td>\n",
       "      <td>Barcelona</td>\n",
       "    </tr>\n",
       "    <tr>\n",
       "      <th>5</th>\n",
       "      <td>2022-09-10</td>\n",
       "      <td>18:30</td>\n",
       "      <td>La Liga</td>\n",
       "      <td>Matchweek 5</td>\n",
       "      <td>Sat</td>\n",
       "      <td>Away</td>\n",
       "      <td>W</td>\n",
       "      <td>4.0</td>\n",
       "      <td>0.0</td>\n",
       "      <td>Cádiz</td>\n",
       "      <td>3.4</td>\n",
       "      <td>0.4</td>\n",
       "      <td>70.0</td>\n",
       "      <td>19530.0</td>\n",
       "      <td>Sergio Busquets</td>\n",
       "      <td>4-3-3</td>\n",
       "      <td>Carlos del Cerro</td>\n",
       "      <td>Match Report</td>\n",
       "      <td>NaN</td>\n",
       "      <td>16.0</td>\n",
       "      <td>8.0</td>\n",
       "      <td>14.9</td>\n",
       "      <td>0.0</td>\n",
       "      <td>0.0</td>\n",
       "      <td>2022</td>\n",
       "      <td>Barcelona</td>\n",
       "    </tr>\n",
       "  </tbody>\n",
       "</table>\n",
       "</div>"
      ],
      "text/plain": [
       "         date   time     comp        round  day venue result   gf   ga  \\\n",
       "0  2022-08-13  21:00  La Liga  Matchweek 1  Sat  Home      D  0.0  0.0   \n",
       "1  2022-08-21  22:00  La Liga  Matchweek 2  Sun  Away      W  4.0  1.0   \n",
       "2  2022-08-28  19:30  La Liga  Matchweek 3  Sun  Home      W  4.0  0.0   \n",
       "3  2022-09-03  21:00  La Liga  Matchweek 4  Sat  Away      W  3.0  0.0   \n",
       "5  2022-09-10  18:30  La Liga  Matchweek 5  Sat  Away      W  4.0  0.0   \n",
       "\n",
       "         opponent   xg  xga  poss  attendance                captain  \\\n",
       "0  Rayo Vallecano  1.9  0.5  67.0     81104.0        Sergio Busquets   \n",
       "1   Real Sociedad  2.1  0.8  58.0     36201.0  Marc-André ter Stegen   \n",
       "2      Valladolid  2.6  0.8  67.0     83972.0        Sergio Busquets   \n",
       "3         Sevilla  4.0  1.0  54.0     40233.0        Sergio Busquets   \n",
       "5           Cádiz  3.4  0.4  70.0     19530.0        Sergio Busquets   \n",
       "\n",
       "  formation              referee  match report  notes    sh  sot  dist   pk  \\\n",
       "0     4-3-3  Alejandro Hernández  Match Report    NaN  21.0  5.0  17.0  0.0   \n",
       "1   3-2-4-1    José Luis Munuera  Match Report    NaN  15.0  7.0  14.6  0.0   \n",
       "2     4-3-3    Ricardo de Burgos  Match Report    NaN  24.0  9.0  14.4  0.0   \n",
       "3     4-3-3  Antonio Matéu Lahoz  Match Report    NaN  18.0  5.0  16.0  0.0   \n",
       "5     4-3-3     Carlos del Cerro  Match Report    NaN  16.0  8.0  14.9  0.0   \n",
       "\n",
       "   pkatt  season       team  \n",
       "0    0.0    2022  Barcelona  \n",
       "1    0.0    2022  Barcelona  \n",
       "2    0.0    2022  Barcelona  \n",
       "3    0.0    2022  Barcelona  \n",
       "5    0.0    2022  Barcelona  "
      ]
     },
     "execution_count": 236,
     "metadata": {},
     "output_type": "execute_result"
    }
   ],
   "source": [
    "df.head(5)"
   ]
  },
  {
   "cell_type": "markdown",
   "id": "b198908b",
   "metadata": {},
   "source": [
    "## 4.Pandas profiling of raw data <a name='raw_profile'></a>"
   ]
  },
  {
   "cell_type": "code",
   "execution_count": 237,
   "id": "eb74a49e",
   "metadata": {},
   "outputs": [
    {
     "data": {
      "application/vnd.jupyter.widget-view+json": {
       "model_id": "93684fd7661e49c6ad9b0000e22e0c90",
       "version_major": 2,
       "version_minor": 0
      },
      "text/plain": [
       "Summarize dataset:   0%|          | 0/5 [00:00<?, ?it/s]"
      ]
     },
     "metadata": {},
     "output_type": "display_data"
    },
    {
     "data": {
      "application/vnd.jupyter.widget-view+json": {
       "model_id": "66b9a9389a9749e8b2bb350675e7fa0a",
       "version_major": 2,
       "version_minor": 0
      },
      "text/plain": [
       "Generate report structure:   0%|          | 0/1 [00:00<?, ?it/s]"
      ]
     },
     "metadata": {},
     "output_type": "display_data"
    },
    {
     "data": {
      "application/vnd.jupyter.widget-view+json": {
       "model_id": "258c3c8ba95c4cedbe2cffd3004a8978",
       "version_major": 2,
       "version_minor": 0
      },
      "text/plain": [
       "Render HTML:   0%|          | 0/1 [00:00<?, ?it/s]"
      ]
     },
     "metadata": {},
     "output_type": "display_data"
    },
    {
     "data": {
      "application/vnd.jupyter.widget-view+json": {
       "model_id": "231596f30a0d4fa8a8304b7254d7c807",
       "version_major": 2,
       "version_minor": 0
      },
      "text/plain": [
       "Export report to file:   0%|          | 0/1 [00:00<?, ?it/s]"
      ]
     },
     "metadata": {},
     "output_type": "display_data"
    }
   ],
   "source": [
    "profile = pandas_profiling.ProfileReport(df)\n",
    "\n",
    "profile.to_file(\"raw_report.html\")"
   ]
  },
  {
   "cell_type": "markdown",
   "id": "15938de2",
   "metadata": {},
   "source": [
    "## 5. Data Pre-processing <a name='pre_process'></a>"
   ]
  },
  {
   "cell_type": "code",
   "execution_count": 238,
   "id": "4aa75d60",
   "metadata": {},
   "outputs": [
    {
     "name": "stdout",
     "output_type": "stream",
     "text": [
      "<class 'pandas.core.frame.DataFrame'>\n",
      "Int64Index: 6080 entries, 0 to 39\n",
      "Data columns (total 26 columns):\n",
      " #   Column        Non-Null Count  Dtype  \n",
      "---  ------        --------------  -----  \n",
      " 0   date          6080 non-null   object \n",
      " 1   time          6080 non-null   object \n",
      " 2   comp          6080 non-null   object \n",
      " 3   round         6080 non-null   object \n",
      " 4   day           6080 non-null   object \n",
      " 5   venue         6080 non-null   object \n",
      " 6   result        6080 non-null   object \n",
      " 7   gf            6080 non-null   float64\n",
      " 8   ga            6080 non-null   float64\n",
      " 9   opponent      6080 non-null   object \n",
      " 10  xg            4560 non-null   float64\n",
      " 11  xga           4560 non-null   float64\n",
      " 12  poss          6080 non-null   float64\n",
      " 13  attendance    5104 non-null   float64\n",
      " 14  captain       6080 non-null   object \n",
      " 15  formation     6080 non-null   object \n",
      " 16  referee       6080 non-null   object \n",
      " 17  match report  6080 non-null   object \n",
      " 18  notes         0 non-null      float64\n",
      " 19  sh            6080 non-null   float64\n",
      " 20  sot           6080 non-null   float64\n",
      " 21  dist          4558 non-null   float64\n",
      " 22  pk            6080 non-null   float64\n",
      " 23  pkatt         6080 non-null   float64\n",
      " 24  season        6080 non-null   int64  \n",
      " 25  team          6080 non-null   object \n",
      "dtypes: float64(12), int64(1), object(13)\n",
      "memory usage: 1.4+ MB\n"
     ]
    }
   ],
   "source": [
    "df.info()"
   ]
  },
  {
   "cell_type": "code",
   "execution_count": 239,
   "id": "f45212a8",
   "metadata": {},
   "outputs": [
    {
     "data": {
      "text/html": [
       "<div>\n",
       "<style scoped>\n",
       "    .dataframe tbody tr th:only-of-type {\n",
       "        vertical-align: middle;\n",
       "    }\n",
       "\n",
       "    .dataframe tbody tr th {\n",
       "        vertical-align: top;\n",
       "    }\n",
       "\n",
       "    .dataframe thead th {\n",
       "        text-align: right;\n",
       "    }\n",
       "</style>\n",
       "<table border=\"1\" class=\"dataframe\">\n",
       "  <thead>\n",
       "    <tr style=\"text-align: right;\">\n",
       "      <th></th>\n",
       "      <th>gf</th>\n",
       "      <th>ga</th>\n",
       "      <th>xg</th>\n",
       "      <th>xga</th>\n",
       "      <th>poss</th>\n",
       "      <th>attendance</th>\n",
       "      <th>notes</th>\n",
       "      <th>sh</th>\n",
       "      <th>sot</th>\n",
       "      <th>dist</th>\n",
       "      <th>pk</th>\n",
       "      <th>pkatt</th>\n",
       "      <th>season</th>\n",
       "    </tr>\n",
       "  </thead>\n",
       "  <tbody>\n",
       "    <tr>\n",
       "      <th>count</th>\n",
       "      <td>6080.000000</td>\n",
       "      <td>6080.000000</td>\n",
       "      <td>4560.000000</td>\n",
       "      <td>4560.000000</td>\n",
       "      <td>6080.000000</td>\n",
       "      <td>5104.000000</td>\n",
       "      <td>0.0</td>\n",
       "      <td>6080.000000</td>\n",
       "      <td>6080.000000</td>\n",
       "      <td>4558.000000</td>\n",
       "      <td>6080.000000</td>\n",
       "      <td>6080.000000</td>\n",
       "      <td>6080.000000</td>\n",
       "    </tr>\n",
       "    <tr>\n",
       "      <th>mean</th>\n",
       "      <td>1.310691</td>\n",
       "      <td>1.310691</td>\n",
       "      <td>1.282215</td>\n",
       "      <td>1.282215</td>\n",
       "      <td>50.011349</td>\n",
       "      <td>27422.964342</td>\n",
       "      <td>NaN</td>\n",
       "      <td>11.656250</td>\n",
       "      <td>3.966447</td>\n",
       "      <td>18.296402</td>\n",
       "      <td>0.124178</td>\n",
       "      <td>0.163980</td>\n",
       "      <td>2018.500000</td>\n",
       "    </tr>\n",
       "    <tr>\n",
       "      <th>std</th>\n",
       "      <td>1.218254</td>\n",
       "      <td>1.218254</td>\n",
       "      <td>0.771650</td>\n",
       "      <td>0.771650</td>\n",
       "      <td>11.125865</td>\n",
       "      <td>19003.475525</td>\n",
       "      <td>NaN</td>\n",
       "      <td>4.747473</td>\n",
       "      <td>2.333981</td>\n",
       "      <td>3.363311</td>\n",
       "      <td>0.352941</td>\n",
       "      <td>0.408318</td>\n",
       "      <td>2.291476</td>\n",
       "    </tr>\n",
       "    <tr>\n",
       "      <th>min</th>\n",
       "      <td>0.000000</td>\n",
       "      <td>0.000000</td>\n",
       "      <td>0.000000</td>\n",
       "      <td>0.000000</td>\n",
       "      <td>18.000000</td>\n",
       "      <td>13.000000</td>\n",
       "      <td>NaN</td>\n",
       "      <td>0.000000</td>\n",
       "      <td>0.000000</td>\n",
       "      <td>4.800000</td>\n",
       "      <td>0.000000</td>\n",
       "      <td>0.000000</td>\n",
       "      <td>2015.000000</td>\n",
       "    </tr>\n",
       "    <tr>\n",
       "      <th>25%</th>\n",
       "      <td>0.000000</td>\n",
       "      <td>0.000000</td>\n",
       "      <td>0.700000</td>\n",
       "      <td>0.700000</td>\n",
       "      <td>42.000000</td>\n",
       "      <td>14131.250000</td>\n",
       "      <td>NaN</td>\n",
       "      <td>8.000000</td>\n",
       "      <td>2.000000</td>\n",
       "      <td>16.100000</td>\n",
       "      <td>0.000000</td>\n",
       "      <td>0.000000</td>\n",
       "      <td>2016.750000</td>\n",
       "    </tr>\n",
       "    <tr>\n",
       "      <th>50%</th>\n",
       "      <td>1.000000</td>\n",
       "      <td>1.000000</td>\n",
       "      <td>1.100000</td>\n",
       "      <td>1.100000</td>\n",
       "      <td>50.000000</td>\n",
       "      <td>19872.000000</td>\n",
       "      <td>NaN</td>\n",
       "      <td>11.000000</td>\n",
       "      <td>4.000000</td>\n",
       "      <td>18.200000</td>\n",
       "      <td>0.000000</td>\n",
       "      <td>0.000000</td>\n",
       "      <td>2018.500000</td>\n",
       "    </tr>\n",
       "    <tr>\n",
       "      <th>75%</th>\n",
       "      <td>2.000000</td>\n",
       "      <td>2.000000</td>\n",
       "      <td>1.700000</td>\n",
       "      <td>1.700000</td>\n",
       "      <td>58.000000</td>\n",
       "      <td>37792.000000</td>\n",
       "      <td>NaN</td>\n",
       "      <td>14.000000</td>\n",
       "      <td>5.000000</td>\n",
       "      <td>20.200000</td>\n",
       "      <td>0.000000</td>\n",
       "      <td>0.000000</td>\n",
       "      <td>2020.250000</td>\n",
       "    </tr>\n",
       "    <tr>\n",
       "      <th>max</th>\n",
       "      <td>10.000000</td>\n",
       "      <td>10.000000</td>\n",
       "      <td>5.600000</td>\n",
       "      <td>5.600000</td>\n",
       "      <td>82.000000</td>\n",
       "      <td>98485.000000</td>\n",
       "      <td>NaN</td>\n",
       "      <td>36.000000</td>\n",
       "      <td>17.000000</td>\n",
       "      <td>46.200000</td>\n",
       "      <td>3.000000</td>\n",
       "      <td>3.000000</td>\n",
       "      <td>2022.000000</td>\n",
       "    </tr>\n",
       "  </tbody>\n",
       "</table>\n",
       "</div>"
      ],
      "text/plain": [
       "                gf           ga           xg          xga         poss  \\\n",
       "count  6080.000000  6080.000000  4560.000000  4560.000000  6080.000000   \n",
       "mean      1.310691     1.310691     1.282215     1.282215    50.011349   \n",
       "std       1.218254     1.218254     0.771650     0.771650    11.125865   \n",
       "min       0.000000     0.000000     0.000000     0.000000    18.000000   \n",
       "25%       0.000000     0.000000     0.700000     0.700000    42.000000   \n",
       "50%       1.000000     1.000000     1.100000     1.100000    50.000000   \n",
       "75%       2.000000     2.000000     1.700000     1.700000    58.000000   \n",
       "max      10.000000    10.000000     5.600000     5.600000    82.000000   \n",
       "\n",
       "         attendance  notes           sh          sot         dist  \\\n",
       "count   5104.000000    0.0  6080.000000  6080.000000  4558.000000   \n",
       "mean   27422.964342    NaN    11.656250     3.966447    18.296402   \n",
       "std    19003.475525    NaN     4.747473     2.333981     3.363311   \n",
       "min       13.000000    NaN     0.000000     0.000000     4.800000   \n",
       "25%    14131.250000    NaN     8.000000     2.000000    16.100000   \n",
       "50%    19872.000000    NaN    11.000000     4.000000    18.200000   \n",
       "75%    37792.000000    NaN    14.000000     5.000000    20.200000   \n",
       "max    98485.000000    NaN    36.000000    17.000000    46.200000   \n",
       "\n",
       "                pk        pkatt       season  \n",
       "count  6080.000000  6080.000000  6080.000000  \n",
       "mean      0.124178     0.163980  2018.500000  \n",
       "std       0.352941     0.408318     2.291476  \n",
       "min       0.000000     0.000000  2015.000000  \n",
       "25%       0.000000     0.000000  2016.750000  \n",
       "50%       0.000000     0.000000  2018.500000  \n",
       "75%       0.000000     0.000000  2020.250000  \n",
       "max       3.000000     3.000000  2022.000000  "
      ]
     },
     "execution_count": 239,
     "metadata": {},
     "output_type": "execute_result"
    }
   ],
   "source": [
    "df.describe()"
   ]
  },
  {
   "cell_type": "code",
   "execution_count": 240,
   "id": "b2300851",
   "metadata": {},
   "outputs": [
    {
     "data": {
      "text/plain": [
       "(6080, 26)"
      ]
     },
     "execution_count": 240,
     "metadata": {},
     "output_type": "execute_result"
    }
   ],
   "source": [
    "df.shape"
   ]
  },
  {
   "cell_type": "code",
   "execution_count": 241,
   "id": "841b3177",
   "metadata": {},
   "outputs": [
    {
     "data": {
      "text/plain": [
       "0"
      ]
     },
     "execution_count": 241,
     "metadata": {},
     "output_type": "execute_result"
    }
   ],
   "source": [
    "#duplicate values\n",
    "df.duplicated().sum()"
   ]
  },
  {
   "cell_type": "markdown",
   "id": "dde27301",
   "metadata": {},
   "source": [
    "#### Checking for columns with missing values"
   ]
  },
  {
   "cell_type": "code",
   "execution_count": 242,
   "id": "6a2cf93c",
   "metadata": {},
   "outputs": [],
   "source": [
    "percentage = (df.isnull().sum() / len(df)) * 100\n",
    "\n",
    "missing_columns = percentage[percentage > 20]"
   ]
  },
  {
   "cell_type": "code",
   "execution_count": 243,
   "id": "245c25be",
   "metadata": {},
   "outputs": [
    {
     "data": {
      "image/png": "[encoded data removed]",
      "text/plain": [
       "<Figure size 720x432 with 1 Axes>"
      ]
     },
     "metadata": {
      "needs_background": "light"
     },
     "output_type": "display_data"
    }
   ],
   "source": [
    "plt.figure(figsize=(10, 6))\n",
    "missing_columns.plot(kind='bar', color='yellow')\n",
    "plt.title('Columns with Missing Values > 20%')\n",
    "plt.ylabel('Missing Value Percentage')\n",
    "plt.xlabel('Columns')\n",
    "plt.xticks(rotation=0)\n",
    "plt.show()"
   ]
  },
  {
   "cell_type": "markdown",
   "id": "9faf91c3",
   "metadata": {},
   "source": [
    "#### Above we have set a threshold of 20 percentage to verify the columns which have missing values greater than the threshold and we have got 'xg' ,'xga','notes','dist'. We are going to drop these columns as there are not useful for our analysis becuase\n",
    "\n",
    "##### \"xg\" - this is expected goals to be scored by team, we don't need this column as this is not the real goals scored by a team and it has lot of missing values.\n",
    "\n",
    "\n",
    "##### \"xga\" -  this is expected goals scored aganist a team , we are dropping this columns becasue of same reason as 'xga'\n",
    "\n",
    "##### \"notes\" - notes column has almost all the values missing and it is irrelavant for our analysis\n",
    "\n",
    "\n",
    "##### \"dist\" -  this is the  average distance travelled by each shot, this is less relavant to our analysis because a team can win with less average shot distance i.e with short passes and vice-versa and the missing values in this column are also high , even if we impute the records with mean , there is a high chance of introducing bias.\n",
    "\n",
    "\n"
   ]
  },
  {
   "cell_type": "markdown",
   "id": "596f0928",
   "metadata": {},
   "source": [
    "## 6.  Data Cleaning <a name='clean'></a>"
   ]
  },
  {
   "cell_type": "markdown",
   "id": "5f64d69a",
   "metadata": {},
   "source": [
    "#### Dropping columns with missing values"
   ]
  },
  {
   "cell_type": "code",
   "execution_count": 244,
   "id": "1d002af7",
   "metadata": {},
   "outputs": [],
   "source": [
    "drop_columns = ['xg','xga','notes','dist']\n",
    "df.drop(columns=drop_columns, inplace=True)"
   ]
  },
  {
   "cell_type": "code",
   "execution_count": 245,
   "id": "40e42af7",
   "metadata": {},
   "outputs": [
    {
     "data": {
      "text/plain": [
       "(6080, 22)"
      ]
     },
     "execution_count": 245,
     "metadata": {},
     "output_type": "execute_result"
    }
   ],
   "source": [
    "df.shape"
   ]
  },
  {
   "cell_type": "markdown",
   "id": "50f080c8",
   "metadata": {},
   "source": [
    "### Dropping columns with less relevance to our analysis"
   ]
  },
  {
   "cell_type": "code",
   "execution_count": 246,
   "id": "634019be",
   "metadata": {},
   "outputs": [
    {
     "name": "stdout",
     "output_type": "stream",
     "text": [
      "<class 'pandas.core.frame.DataFrame'>\n",
      "Int64Index: 6080 entries, 0 to 39\n",
      "Data columns (total 22 columns):\n",
      " #   Column        Non-Null Count  Dtype  \n",
      "---  ------        --------------  -----  \n",
      " 0   date          6080 non-null   object \n",
      " 1   time          6080 non-null   object \n",
      " 2   comp          6080 non-null   object \n",
      " 3   round         6080 non-null   object \n",
      " 4   day           6080 non-null   object \n",
      " 5   venue         6080 non-null   object \n",
      " 6   result        6080 non-null   object \n",
      " 7   gf            6080 non-null   float64\n",
      " 8   ga            6080 non-null   float64\n",
      " 9   opponent      6080 non-null   object \n",
      " 10  poss          6080 non-null   float64\n",
      " 11  attendance    5104 non-null   float64\n",
      " 12  captain       6080 non-null   object \n",
      " 13  formation     6080 non-null   object \n",
      " 14  referee       6080 non-null   object \n",
      " 15  match report  6080 non-null   object \n",
      " 16  sh            6080 non-null   float64\n",
      " 17  sot           6080 non-null   float64\n",
      " 18  pk            6080 non-null   float64\n",
      " 19  pkatt         6080 non-null   float64\n",
      " 20  season        6080 non-null   int64  \n",
      " 21  team          6080 non-null   object \n",
      "dtypes: float64(8), int64(1), object(13)\n",
      "memory usage: 1.2+ MB\n"
     ]
    }
   ],
   "source": [
    "df.info()"
   ]
  },
  {
   "cell_type": "markdown",
   "id": "7257487e",
   "metadata": {},
   "source": [
    "#### We have identified few columns such as attendance, captain , match report , referee as less releavant columns becuase these columns does not affect the match result to more extent."
   ]
  },
  {
   "cell_type": "code",
   "execution_count": 247,
   "id": "37aac2c8",
   "metadata": {},
   "outputs": [],
   "source": [
    "df = df.drop(['attendance',\n",
    "              'captain','referee','match report'\n",
    "             ],axis=1)"
   ]
  },
  {
   "cell_type": "code",
   "execution_count": 248,
   "id": "2a12b30c",
   "metadata": {},
   "outputs": [
    {
     "data": {
      "text/plain": [
       "(6080, 18)"
      ]
     },
     "execution_count": 248,
     "metadata": {},
     "output_type": "execute_result"
    }
   ],
   "source": [
    "df.shape"
   ]
  },
  {
   "cell_type": "markdown",
   "id": "0f8206de",
   "metadata": {},
   "source": [
    "## 7.Visualization <a name='visualization'></a>"
   ]
  },
  {
   "cell_type": "code",
   "execution_count": 249,
   "id": "3f6f3552",
   "metadata": {},
   "outputs": [
    {
     "data": {
      "image/png": "[encoded data removed]",
      "text/plain": [
       "<Figure size 720x720 with 1 Axes>"
      ]
     },
     "metadata": {},
     "output_type": "display_data"
    }
   ],
   "source": [
    "initial_columns = len(df_copy.columns)\n",
    "final_columns = len(df.columns)\n",
    "retained_percentage = (final_columns/initial_columns) * 100\n",
    "dropped_percentage = 100 - retained_percentage\n",
    "\n",
    "\n",
    "# Create pie chart\n",
    "labels = ['Retained columns', 'Dropped columns']\n",
    "sizes = [retained_percentage, dropped_percentage]\n",
    "sizes = [max(0, val) for val in sizes]\n",
    "colors = ['lightblue', 'yellow']\n",
    "explode = (0.1,0)\n",
    "plt.figure(figsize=(10, 10))\n",
    "plt.pie(sizes, labels=labels, colors=colors, autopct='%1.1f%%', startangle=90,shadow =True)\n",
    "plt.axis('equal')\n",
    "plt.legend(labels, loc=\"best\")\n",
    "plt.title('Retained and Dropped columns percentage')\n",
    "plt.show()"
   ]
  },
  {
   "cell_type": "markdown",
   "id": "786f4b7a",
   "metadata": {},
   "source": [
    "#### From the above we can see 18 percent of the columns were dropped and 82 percent of the columns were retained."
   ]
  },
  {
   "cell_type": "code",
   "execution_count": 250,
   "id": "f60ee279",
   "metadata": {},
   "outputs": [
    {
     "data": {
      "text/html": [
       "<div>\n",
       "<style scoped>\n",
       "    .dataframe tbody tr th:only-of-type {\n",
       "        vertical-align: middle;\n",
       "    }\n",
       "\n",
       "    .dataframe tbody tr th {\n",
       "        vertical-align: top;\n",
       "    }\n",
       "\n",
       "    .dataframe thead th {\n",
       "        text-align: right;\n",
       "    }\n",
       "</style>\n",
       "<table border=\"1\" class=\"dataframe\">\n",
       "  <thead>\n",
       "    <tr style=\"text-align: right;\">\n",
       "      <th></th>\n",
       "      <th>date</th>\n",
       "      <th>time</th>\n",
       "      <th>comp</th>\n",
       "      <th>round</th>\n",
       "      <th>day</th>\n",
       "      <th>venue</th>\n",
       "      <th>result</th>\n",
       "      <th>gf</th>\n",
       "      <th>ga</th>\n",
       "      <th>opponent</th>\n",
       "      <th>poss</th>\n",
       "      <th>formation</th>\n",
       "      <th>sh</th>\n",
       "      <th>sot</th>\n",
       "      <th>pk</th>\n",
       "      <th>pkatt</th>\n",
       "      <th>season</th>\n",
       "      <th>team</th>\n",
       "    </tr>\n",
       "  </thead>\n",
       "  <tbody>\n",
       "    <tr>\n",
       "      <th>0</th>\n",
       "      <td>2022-08-13</td>\n",
       "      <td>21:00</td>\n",
       "      <td>La Liga</td>\n",
       "      <td>Matchweek 1</td>\n",
       "      <td>Sat</td>\n",
       "      <td>Home</td>\n",
       "      <td>D</td>\n",
       "      <td>0.0</td>\n",
       "      <td>0.0</td>\n",
       "      <td>Rayo Vallecano</td>\n",
       "      <td>67.0</td>\n",
       "      <td>4-3-3</td>\n",
       "      <td>21.0</td>\n",
       "      <td>5.0</td>\n",
       "      <td>0.0</td>\n",
       "      <td>0.0</td>\n",
       "      <td>2022</td>\n",
       "      <td>Barcelona</td>\n",
       "    </tr>\n",
       "    <tr>\n",
       "      <th>1</th>\n",
       "      <td>2022-08-21</td>\n",
       "      <td>22:00</td>\n",
       "      <td>La Liga</td>\n",
       "      <td>Matchweek 2</td>\n",
       "      <td>Sun</td>\n",
       "      <td>Away</td>\n",
       "      <td>W</td>\n",
       "      <td>4.0</td>\n",
       "      <td>1.0</td>\n",
       "      <td>Real Sociedad</td>\n",
       "      <td>58.0</td>\n",
       "      <td>3-2-4-1</td>\n",
       "      <td>15.0</td>\n",
       "      <td>7.0</td>\n",
       "      <td>0.0</td>\n",
       "      <td>0.0</td>\n",
       "      <td>2022</td>\n",
       "      <td>Barcelona</td>\n",
       "    </tr>\n",
       "    <tr>\n",
       "      <th>2</th>\n",
       "      <td>2022-08-28</td>\n",
       "      <td>19:30</td>\n",
       "      <td>La Liga</td>\n",
       "      <td>Matchweek 3</td>\n",
       "      <td>Sun</td>\n",
       "      <td>Home</td>\n",
       "      <td>W</td>\n",
       "      <td>4.0</td>\n",
       "      <td>0.0</td>\n",
       "      <td>Valladolid</td>\n",
       "      <td>67.0</td>\n",
       "      <td>4-3-3</td>\n",
       "      <td>24.0</td>\n",
       "      <td>9.0</td>\n",
       "      <td>0.0</td>\n",
       "      <td>0.0</td>\n",
       "      <td>2022</td>\n",
       "      <td>Barcelona</td>\n",
       "    </tr>\n",
       "    <tr>\n",
       "      <th>3</th>\n",
       "      <td>2022-09-03</td>\n",
       "      <td>21:00</td>\n",
       "      <td>La Liga</td>\n",
       "      <td>Matchweek 4</td>\n",
       "      <td>Sat</td>\n",
       "      <td>Away</td>\n",
       "      <td>W</td>\n",
       "      <td>3.0</td>\n",
       "      <td>0.0</td>\n",
       "      <td>Sevilla</td>\n",
       "      <td>54.0</td>\n",
       "      <td>4-3-3</td>\n",
       "      <td>18.0</td>\n",
       "      <td>5.0</td>\n",
       "      <td>0.0</td>\n",
       "      <td>0.0</td>\n",
       "      <td>2022</td>\n",
       "      <td>Barcelona</td>\n",
       "    </tr>\n",
       "    <tr>\n",
       "      <th>5</th>\n",
       "      <td>2022-09-10</td>\n",
       "      <td>18:30</td>\n",
       "      <td>La Liga</td>\n",
       "      <td>Matchweek 5</td>\n",
       "      <td>Sat</td>\n",
       "      <td>Away</td>\n",
       "      <td>W</td>\n",
       "      <td>4.0</td>\n",
       "      <td>0.0</td>\n",
       "      <td>Cádiz</td>\n",
       "      <td>70.0</td>\n",
       "      <td>4-3-3</td>\n",
       "      <td>16.0</td>\n",
       "      <td>8.0</td>\n",
       "      <td>0.0</td>\n",
       "      <td>0.0</td>\n",
       "      <td>2022</td>\n",
       "      <td>Barcelona</td>\n",
       "    </tr>\n",
       "  </tbody>\n",
       "</table>\n",
       "</div>"
      ],
      "text/plain": [
       "         date   time     comp        round  day venue result   gf   ga  \\\n",
       "0  2022-08-13  21:00  La Liga  Matchweek 1  Sat  Home      D  0.0  0.0   \n",
       "1  2022-08-21  22:00  La Liga  Matchweek 2  Sun  Away      W  4.0  1.0   \n",
       "2  2022-08-28  19:30  La Liga  Matchweek 3  Sun  Home      W  4.0  0.0   \n",
       "3  2022-09-03  21:00  La Liga  Matchweek 4  Sat  Away      W  3.0  0.0   \n",
       "5  2022-09-10  18:30  La Liga  Matchweek 5  Sat  Away      W  4.0  0.0   \n",
       "\n",
       "         opponent  poss formation    sh  sot   pk  pkatt  season       team  \n",
       "0  Rayo Vallecano  67.0     4-3-3  21.0  5.0  0.0    0.0    2022  Barcelona  \n",
       "1   Real Sociedad  58.0   3-2-4-1  15.0  7.0  0.0    0.0    2022  Barcelona  \n",
       "2      Valladolid  67.0     4-3-3  24.0  9.0  0.0    0.0    2022  Barcelona  \n",
       "3         Sevilla  54.0     4-3-3  18.0  5.0  0.0    0.0    2022  Barcelona  \n",
       "5           Cádiz  70.0     4-3-3  16.0  8.0  0.0    0.0    2022  Barcelona  "
      ]
     },
     "execution_count": 250,
     "metadata": {},
     "output_type": "execute_result"
    }
   ],
   "source": [
    "pd.set_option('display.max_columns', None)\n",
    "df.head()"
   ]
  },
  {
   "cell_type": "code",
   "execution_count": 251,
   "id": "cc3567e1",
   "metadata": {},
   "outputs": [
    {
     "name": "stdout",
     "output_type": "stream",
     "text": [
      "<class 'pandas.core.frame.DataFrame'>\n",
      "Int64Index: 6080 entries, 0 to 39\n",
      "Data columns (total 18 columns):\n",
      " #   Column     Non-Null Count  Dtype  \n",
      "---  ------     --------------  -----  \n",
      " 0   date       6080 non-null   object \n",
      " 1   time       6080 non-null   object \n",
      " 2   comp       6080 non-null   object \n",
      " 3   round      6080 non-null   object \n",
      " 4   day        6080 non-null   object \n",
      " 5   venue      6080 non-null   object \n",
      " 6   result     6080 non-null   object \n",
      " 7   gf         6080 non-null   float64\n",
      " 8   ga         6080 non-null   float64\n",
      " 9   opponent   6080 non-null   object \n",
      " 10  poss       6080 non-null   float64\n",
      " 11  formation  6080 non-null   object \n",
      " 12  sh         6080 non-null   float64\n",
      " 13  sot        6080 non-null   float64\n",
      " 14  pk         6080 non-null   float64\n",
      " 15  pkatt      6080 non-null   float64\n",
      " 16  season     6080 non-null   int64  \n",
      " 17  team       6080 non-null   object \n",
      "dtypes: float64(7), int64(1), object(10)\n",
      "memory usage: 1.0+ MB\n"
     ]
    }
   ],
   "source": [
    "df.info()"
   ]
  },
  {
   "cell_type": "markdown",
   "id": "766ef107",
   "metadata": {},
   "source": [
    "#### Matches played by each team"
   ]
  },
  {
   "cell_type": "code",
   "execution_count": 252,
   "id": "36a8ba7c",
   "metadata": {},
   "outputs": [
    {
     "data": {
      "image/png": "[encoded data removed]",
      "text/plain": [
       "<Figure size 1008x720 with 1 Axes>"
      ]
     },
     "metadata": {
      "needs_background": "light"
     },
     "output_type": "display_data"
    }
   ],
   "source": [
    "matches_played = df['team'].value_counts()\n",
    "\n",
    "plt.figure(figsize=(14, 10))\n",
    "bars = plt.barh(matches_played.index, matches_played.values)\n",
    "plt.title('Total Matches Played by Each Team')\n",
    "plt.xlabel('Total Matches Played')\n",
    "plt.ylabel('Team')\n",
    "\n",
    "for bar, matches in zip(bars, matches_played.values):\n",
    "    plt.text(matches + 0.5, bar.get_y() + bar.get_height() / 2, str(matches), va='center')\n",
    "\n",
    "plt.tight_layout()\n",
    "plt.show()"
   ]
  },
  {
   "cell_type": "markdown",
   "id": "062f687b",
   "metadata": {},
   "source": [
    "#### From the above we can see the number of matches played by each team , the reason for few teams with less matches are there is a rule called relegation and the 3 teams which are below at the end of every season are relegated to the other division and the top 3 teams from the below division gets promoted to the above division "
   ]
  },
  {
   "cell_type": "code",
   "execution_count": 253,
   "id": "0bd3edf0",
   "metadata": {},
   "outputs": [
    {
     "data": {
      "application/vnd.plotly.v1+json": {
       "config": {
        "plotlyServerURL": "https://plot.ly"
       },
       "data": [
        {
         "alignmentgroup": "True",
         "hovertemplate": "Team=%{x}<br>Total Goals Scored=%{y}<extra></extra>",
         "legendgroup": "",
         "marker": {
          "color": "#636efa",
          "pattern": {
           "shape": ""
          }
         },
         "name": "",
         "offsetgroup": "",
         "orientation": "v",
         "showlegend": false,
         "textposition": "auto",
         "type": "bar",
         "x": [
          "Alaves",
          "Almeria",
          "Athletic Club",
          "Atletico Madrid",
          "Barcelona",
          "Cadiz",
          "Celta Vigo",
          "Deportivo La Coruna",
          "Eibar",
          "Elche",
          "Espanyol",
          "Getafe",
          "Girona",
          "Granada",
          "Huesca",
          "Las Palmas",
          "Leganes",
          "Levante",
          "Malaga",
          "Mallorca",
          "Osasuna",
          "Rayo Vallecano",
          "Real Betis",
          "Real Madrid",
          "Real Sociedad",
          "Sevilla",
          "Sporting Gijon",
          "Valencia",
          "Valladolid",
          "Villarreal"
         ],
         "xaxis": "x",
         "y": [
          221,
          49,
          370,
          499,
          726,
          101,
          394,
          126,
          263,
          104,
          292,
          265,
          145,
          219,
          77,
          122,
          137,
          284,
          111,
          113,
          197,
          177,
          385,
          665,
          421,
          438,
          82,
          404,
          131,
          451
         ],
         "yaxis": "y"
        }
       ],
       "layout": {
        "annotations": [
         {
          "showarrow": false,
          "text": "221",
          "x": "Alaves",
          "xanchor": "center",
          "y": 221,
          "yanchor": "bottom"
         },
         {
          "showarrow": false,
          "text": "49",
          "x": "Almeria",
          "xanchor": "center",
          "y": 49,
          "yanchor": "bottom"
         },
         {
          "showarrow": false,
          "text": "370",
          "x": "Athletic Club",
          "xanchor": "center",
          "y": 370,
          "yanchor": "bottom"
         },
         {
          "showarrow": false,
          "text": "499",
          "x": "Atletico Madrid",
          "xanchor": "center",
          "y": 499,
          "yanchor": "bottom"
         },
         {
          "showarrow": false,
          "text": "726",
          "x": "Barcelona",
          "xanchor": "center",
          "y": 726,
          "yanchor": "bottom"
         },
         {
          "showarrow": false,
          "text": "101",
          "x": "Cadiz",
          "xanchor": "center",
          "y": 101,
          "yanchor": "bottom"
         },
         {
          "showarrow": false,
          "text": "394",
          "x": "Celta Vigo",
          "xanchor": "center",
          "y": 394,
          "yanchor": "bottom"
         },
         {
          "showarrow": false,
          "text": "126",
          "x": "Deportivo La Coruna",
          "xanchor": "center",
          "y": 126,
          "yanchor": "bottom"
         },
         {
          "showarrow": false,
          "text": "263",
          "x": "Eibar",
          "xanchor": "center",
          "y": 263,
          "yanchor": "bottom"
         },
         {
          "showarrow": false,
          "text": "104",
          "x": "Elche",
          "xanchor": "center",
          "y": 104,
          "yanchor": "bottom"
         },
         {
          "showarrow": false,
          "text": "292",
          "x": "Espanyol",
          "xanchor": "center",
          "y": 292,
          "yanchor": "bottom"
         },
         {
          "showarrow": false,
          "text": "265",
          "x": "Getafe",
          "xanchor": "center",
          "y": 265,
          "yanchor": "bottom"
         },
         {
          "showarrow": false,
          "text": "145",
          "x": "Girona",
          "xanchor": "center",
          "y": 145,
          "yanchor": "bottom"
         },
         {
          "showarrow": false,
          "text": "219",
          "x": "Granada",
          "xanchor": "center",
          "y": 219,
          "yanchor": "bottom"
         },
         {
          "showarrow": false,
          "text": "77",
          "x": "Huesca",
          "xanchor": "center",
          "y": 77,
          "yanchor": "bottom"
         },
         {
          "showarrow": false,
          "text": "122",
          "x": "Las Palmas",
          "xanchor": "center",
          "y": 122,
          "yanchor": "bottom"
         },
         {
          "showarrow": false,
          "text": "137",
          "x": "Leganes",
          "xanchor": "center",
          "y": 137,
          "yanchor": "bottom"
         },
         {
          "showarrow": false,
          "text": "284",
          "x": "Levante",
          "xanchor": "center",
          "y": 284,
          "yanchor": "bottom"
         },
         {
          "showarrow": false,
          "text": "111",
          "x": "Malaga",
          "xanchor": "center",
          "y": 111,
          "yanchor": "bottom"
         },
         {
          "showarrow": false,
          "text": "113",
          "x": "Mallorca",
          "xanchor": "center",
          "y": 113,
          "yanchor": "bottom"
         },
         {
          "showarrow": false,
          "text": "197",
          "x": "Osasuna",
          "xanchor": "center",
          "y": 197,
          "yanchor": "bottom"
         },
         {
          "showarrow": false,
          "text": "177",
          "x": "Rayo Vallecano",
          "xanchor": "center",
          "y": 177,
          "yanchor": "bottom"
         },
         {
          "showarrow": false,
          "text": "385",
          "x": "Real Betis",
          "xanchor": "center",
          "y": 385,
          "yanchor": "bottom"
         },
         {
          "showarrow": false,
          "text": "665",
          "x": "Real Madrid",
          "xanchor": "center",
          "y": 665,
          "yanchor": "bottom"
         },
         {
          "showarrow": false,
          "text": "421",
          "x": "Real Sociedad",
          "xanchor": "center",
          "y": 421,
          "yanchor": "bottom"
         },
         {
          "showarrow": false,
          "text": "438",
          "x": "Sevilla",
          "xanchor": "center",
          "y": 438,
          "yanchor": "bottom"
         },
         {
          "showarrow": false,
          "text": "82",
          "x": "Sporting Gijon",
          "xanchor": "center",
          "y": 82,
          "yanchor": "bottom"
         },
         {
          "showarrow": false,
          "text": "404",
          "x": "Valencia",
          "xanchor": "center",
          "y": 404,
          "yanchor": "bottom"
         },
         {
          "showarrow": false,
          "text": "131",
          "x": "Valladolid",
          "xanchor": "center",
          "y": 131,
          "yanchor": "bottom"
         },
         {
          "showarrow": false,
          "text": "451",
          "x": "Villarreal",
          "xanchor": "center",
          "y": 451,
          "yanchor": "bottom"
         }
        ],
        "barmode": "relative",
        "legend": {
         "tracegroupgap": 0
        },
        "template": {
         "data": {
          "bar": [
           {
            "error_x": {
             "color": "#2a3f5f"
            },
            "error_y": {
             "color": "#2a3f5f"
            },
            "marker": {
             "line": {
              "color": "#E5ECF6",
              "width": 0.5
             },
             "pattern": {
              "fillmode": "overlay",
              "size": 10,
              "solidity": 0.2
             }
            },
            "type": "bar"
           }
          ],
          "barpolar": [
           {
            "marker": {
             "line": {
              "color": "#E5ECF6",
              "width": 0.5
             },
             "pattern": {
              "fillmode": "overlay",
              "size": 10,
              "solidity": 0.2
             }
            },
            "type": "barpolar"
           }
          ],
          "carpet": [
           {
            "aaxis": {
             "endlinecolor": "#2a3f5f",
             "gridcolor": "white",
             "linecolor": "white",
             "minorgridcolor": "white",
             "startlinecolor": "#2a3f5f"
            },
            "baxis": {
             "endlinecolor": "#2a3f5f",
             "gridcolor": "white",
             "linecolor": "white",
             "minorgridcolor": "white",
             "startlinecolor": "#2a3f5f"
            },
            "type": "carpet"
           }
          ],
          "choropleth": [
           {
            "colorbar": {
             "outlinewidth": 0,
             "ticks": ""
            },
            "type": "choropleth"
           }
          ],
          "contour": [
           {
            "colorbar": {
             "outlinewidth": 0,
             "ticks": ""
            },
            "colorscale": [
             [
              0,
              "#0d0887"
             ],
             [
              0.1111111111111111,
              "#46039f"
             ],
             [
              0.2222222222222222,
              "#7201a8"
             ],
             [
              0.3333333333333333,
              "#9c179e"
             ],
             [
              0.4444444444444444,
              "#bd3786"
             ],
             [
              0.5555555555555556,
              "#d8576b"
             ],
             [
              0.6666666666666666,
              "#ed7953"
             ],
             [
              0.7777777777777778,
              "#fb9f3a"
             ],
             [
              0.8888888888888888,
              "#fdca26"
             ],
             [
              1,
              "#f0f921"
             ]
            ],
            "type": "contour"
           }
          ],
          "contourcarpet": [
           {
            "colorbar": {
             "outlinewidth": 0,
             "ticks": ""
            },
            "type": "contourcarpet"
           }
          ],
          "heatmap": [
           {
            "colorbar": {
             "outlinewidth": 0,
             "ticks": ""
            },
            "colorscale": [
             [
              0,
              "#0d0887"
             ],
             [
              0.1111111111111111,
              "#46039f"
             ],
             [
              0.2222222222222222,
              "#7201a8"
             ],
             [
              0.3333333333333333,
              "#9c179e"
             ],
             [
              0.4444444444444444,
              "#bd3786"
             ],
             [
              0.5555555555555556,
              "#d8576b"
             ],
             [
              0.6666666666666666,
              "#ed7953"
             ],
             [
              0.7777777777777778,
              "#fb9f3a"
             ],
             [
              0.8888888888888888,
              "#fdca26"
             ],
             [
              1,
              "#f0f921"
             ]
            ],
            "type": "heatmap"
           }
          ],
          "heatmapgl": [
           {
            "colorbar": {
             "outlinewidth": 0,
             "ticks": ""
            },
            "colorscale": [
             [
              0,
              "#0d0887"
             ],
             [
              0.1111111111111111,
              "#46039f"
             ],
             [
              0.2222222222222222,
              "#7201a8"
             ],
             [
              0.3333333333333333,
              "#9c179e"
             ],
             [
              0.4444444444444444,
              "#bd3786"
             ],
             [
              0.5555555555555556,
              "#d8576b"
             ],
             [
              0.6666666666666666,
              "#ed7953"
             ],
             [
              0.7777777777777778,
              "#fb9f3a"
             ],
             [
              0.8888888888888888,
              "#fdca26"
             ],
             [
              1,
              "#f0f921"
             ]
            ],
            "type": "heatmapgl"
           }
          ],
          "histogram": [
           {
            "marker": {
             "pattern": {
              "fillmode": "overlay",
              "size": 10,
              "solidity": 0.2
             }
            },
            "type": "histogram"
           }
          ],
          "histogram2d": [
           {
            "colorbar": {
             "outlinewidth": 0,
             "ticks": ""
            },
            "colorscale": [
             [
              0,
              "#0d0887"
             ],
             [
              0.1111111111111111,
              "#46039f"
             ],
             [
              0.2222222222222222,
              "#7201a8"
             ],
             [
              0.3333333333333333,
              "#9c179e"
             ],
             [
              0.4444444444444444,
              "#bd3786"
             ],
             [
              0.5555555555555556,
              "#d8576b"
             ],
             [
              0.6666666666666666,
              "#ed7953"
             ],
             [
              0.7777777777777778,
              "#fb9f3a"
             ],
             [
              0.8888888888888888,
              "#fdca26"
             ],
             [
              1,
              "#f0f921"
             ]
            ],
            "type": "histogram2d"
           }
          ],
          "histogram2dcontour": [
           {
            "colorbar": {
             "outlinewidth": 0,
             "ticks": ""
            },
            "colorscale": [
             [
              0,
              "#0d0887"
             ],
             [
              0.1111111111111111,
              "#46039f"
             ],
             [
              0.2222222222222222,
              "#7201a8"
             ],
             [
              0.3333333333333333,
              "#9c179e"
             ],
             [
              0.4444444444444444,
              "#bd3786"
             ],
             [
              0.5555555555555556,
              "#d8576b"
             ],
             [
              0.6666666666666666,
              "#ed7953"
             ],
             [
              0.7777777777777778,
              "#fb9f3a"
             ],
             [
              0.8888888888888888,
              "#fdca26"
             ],
             [
              1,
              "#f0f921"
             ]
            ],
            "type": "histogram2dcontour"
           }
          ],
          "mesh3d": [
           {
            "colorbar": {
             "outlinewidth": 0,
             "ticks": ""
            },
            "type": "mesh3d"
           }
          ],
          "parcoords": [
           {
            "line": {
             "colorbar": {
              "outlinewidth": 0,
              "ticks": ""
             }
            },
            "type": "parcoords"
           }
          ],
          "pie": [
           {
            "automargin": true,
            "type": "pie"
           }
          ],
          "scatter": [
           {
            "marker": {
             "colorbar": {
              "outlinewidth": 0,
              "ticks": ""
             }
            },
            "type": "scatter"
           }
          ],
          "scatter3d": [
           {
            "line": {
             "colorbar": {
              "outlinewidth": 0,
              "ticks": ""
             }
            },
            "marker": {
             "colorbar": {
              "outlinewidth": 0,
              "ticks": ""
             }
            },
            "type": "scatter3d"
           }
          ],
          "scattercarpet": [
           {
            "marker": {
             "colorbar": {
              "outlinewidth": 0,
              "ticks": ""
             }
            },
            "type": "scattercarpet"
           }
          ],
          "scattergeo": [
           {
            "marker": {
             "colorbar": {
              "outlinewidth": 0,
              "ticks": ""
             }
            },
            "type": "scattergeo"
           }
          ],
          "scattergl": [
           {
            "marker": {
             "colorbar": {
              "outlinewidth": 0,
              "ticks": ""
             }
            },
            "type": "scattergl"
           }
          ],
          "scattermapbox": [
           {
            "marker": {
             "colorbar": {
              "outlinewidth": 0,
              "ticks": ""
             }
            },
            "type": "scattermapbox"
           }
          ],
          "scatterpolar": [
           {
            "marker": {
             "colorbar": {
              "outlinewidth": 0,
              "ticks": ""
             }
            },
            "type": "scatterpolar"
           }
          ],
          "scatterpolargl": [
           {
            "marker": {
             "colorbar": {
              "outlinewidth": 0,
              "ticks": ""
             }
            },
            "type": "scatterpolargl"
           }
          ],
          "scatterternary": [
           {
            "marker": {
             "colorbar": {
              "outlinewidth": 0,
              "ticks": ""
             }
            },
            "type": "scatterternary"
           }
          ],
          "surface": [
           {
            "colorbar": {
             "outlinewidth": 0,
             "ticks": ""
            },
            "colorscale": [
             [
              0,
              "#0d0887"
             ],
             [
              0.1111111111111111,
              "#46039f"
             ],
             [
              0.2222222222222222,
              "#7201a8"
             ],
             [
              0.3333333333333333,
              "#9c179e"
             ],
             [
              0.4444444444444444,
              "#bd3786"
             ],
             [
              0.5555555555555556,
              "#d8576b"
             ],
             [
              0.6666666666666666,
              "#ed7953"
             ],
             [
              0.7777777777777778,
              "#fb9f3a"
             ],
             [
              0.8888888888888888,
              "#fdca26"
             ],
             [
              1,
              "#f0f921"
             ]
            ],
            "type": "surface"
           }
          ],
          "table": [
           {
            "cells": {
             "fill": {
              "color": "#EBF0F8"
             },
             "line": {
              "color": "white"
             }
            },
            "header": {
             "fill": {
              "color": "#C8D4E3"
             },
             "line": {
              "color": "white"
             }
            },
            "type": "table"
           }
          ]
         },
         "layout": {
          "annotationdefaults": {
           "arrowcolor": "#2a3f5f",
           "arrowhead": 0,
           "arrowwidth": 1
          },
          "autotypenumbers": "strict",
          "coloraxis": {
           "colorbar": {
            "outlinewidth": 0,
            "ticks": ""
           }
          },
          "colorscale": {
           "diverging": [
            [
             0,
             "#8e0152"
            ],
            [
             0.1,
             "#c51b7d"
            ],
            [
             0.2,
             "#de77ae"
            ],
            [
             0.3,
             "#f1b6da"
            ],
            [
             0.4,
             "#fde0ef"
            ],
            [
             0.5,
             "#f7f7f7"
            ],
            [
             0.6,
             "#e6f5d0"
            ],
            [
             0.7,
             "#b8e186"
            ],
            [
             0.8,
             "#7fbc41"
            ],
            [
             0.9,
             "#4d9221"
            ],
            [
             1,
             "#276419"
            ]
           ],
           "sequential": [
            [
             0,
             "#0d0887"
            ],
            [
             0.1111111111111111,
             "#46039f"
            ],
            [
             0.2222222222222222,
             "#7201a8"
            ],
            [
             0.3333333333333333,
             "#9c179e"
            ],
            [
             0.4444444444444444,
             "#bd3786"
            ],
            [
             0.5555555555555556,
             "#d8576b"
            ],
            [
             0.6666666666666666,
             "#ed7953"
            ],
            [
             0.7777777777777778,
             "#fb9f3a"
            ],
            [
             0.8888888888888888,
             "#fdca26"
            ],
            [
             1,
             "#f0f921"
            ]
           ],
           "sequentialminus": [
            [
             0,
             "#0d0887"
            ],
            [
             0.1111111111111111,
             "#46039f"
            ],
            [
             0.2222222222222222,
             "#7201a8"
            ],
            [
             0.3333333333333333,
             "#9c179e"
            ],
            [
             0.4444444444444444,
             "#bd3786"
            ],
            [
             0.5555555555555556,
             "#d8576b"
            ],
            [
             0.6666666666666666,
             "#ed7953"
            ],
            [
             0.7777777777777778,
             "#fb9f3a"
            ],
            [
             0.8888888888888888,
             "#fdca26"
            ],
            [
             1,
             "#f0f921"
            ]
           ]
          },
          "colorway": [
           "#636efa",
           "#EF553B",
           "#00cc96",
           "#ab63fa",
           "#FFA15A",
           "#19d3f3",
           "#FF6692",
           "#B6E880",
           "#FF97FF",
           "#FECB52"
          ],
          "font": {
           "color": "#2a3f5f"
          },
          "geo": {
           "bgcolor": "white",
           "lakecolor": "white",
           "landcolor": "#E5ECF6",
           "showlakes": true,
           "showland": true,
           "subunitcolor": "white"
          },
          "hoverlabel": {
           "align": "left"
          },
          "hovermode": "closest",
          "mapbox": {
           "style": "light"
          },
          "paper_bgcolor": "white",
          "plot_bgcolor": "#E5ECF6",
          "polar": {
           "angularaxis": {
            "gridcolor": "white",
            "linecolor": "white",
            "ticks": ""
           },
           "bgcolor": "#E5ECF6",
           "radialaxis": {
            "gridcolor": "white",
            "linecolor": "white",
            "ticks": ""
           }
          },
          "scene": {
           "xaxis": {
            "backgroundcolor": "#E5ECF6",
            "gridcolor": "white",
            "gridwidth": 2,
            "linecolor": "white",
            "showbackground": true,
            "ticks": "",
            "zerolinecolor": "white"
           },
           "yaxis": {
            "backgroundcolor": "#E5ECF6",
            "gridcolor": "white",
            "gridwidth": 2,
            "linecolor": "white",
            "showbackground": true,
            "ticks": "",
            "zerolinecolor": "white"
           },
           "zaxis": {
            "backgroundcolor": "#E5ECF6",
            "gridcolor": "white",
            "gridwidth": 2,
            "linecolor": "white",
            "showbackground": true,
            "ticks": "",
            "zerolinecolor": "white"
           }
          },
          "shapedefaults": {
           "line": {
            "color": "#2a3f5f"
           }
          },
          "ternary": {
           "aaxis": {
            "gridcolor": "white",
            "linecolor": "white",
            "ticks": ""
           },
           "baxis": {
            "gridcolor": "white",
            "linecolor": "white",
            "ticks": ""
           },
           "bgcolor": "#E5ECF6",
           "caxis": {
            "gridcolor": "white",
            "linecolor": "white",
            "ticks": ""
           }
          },
          "title": {
           "x": 0.05
          },
          "xaxis": {
           "automargin": true,
           "gridcolor": "white",
           "linecolor": "white",
           "ticks": "",
           "title": {
            "standoff": 15
           },
           "zerolinecolor": "white",
           "zerolinewidth": 2
          },
          "yaxis": {
           "automargin": true,
           "gridcolor": "white",
           "linecolor": "white",
           "ticks": "",
           "title": {
            "standoff": 15
           },
           "zerolinecolor": "white",
           "zerolinewidth": 2
          }
         }
        },
        "title": {
         "text": "Total Goals Scored by Team"
        },
        "xaxis": {
         "anchor": "y",
         "domain": [
          0,
          1
         ],
         "tickangle": 45,
         "title": {
          "text": "Team"
         }
        },
        "yaxis": {
         "anchor": "x",
         "domain": [
          0,
          1
         ],
         "title": {
          "text": "Total Goals Scored"
         }
        }
       }
      },
      "text/html": [
       "<div>                            <div id=\"eb8dec33-d74d-4352-a3f9-486ece2ca5e2\" class=\"plotly-graph-div\" style=\"height:525px; width:100%;\"></div>            <script type=\"text/javascript\">                require([\"plotly\"], function(Plotly) {                    window.PLOTLYENV=window.PLOTLYENV || {};                                    if (document.getElementById(\"eb8dec33-d74d-4352-a3f9-486ece2ca5e2\")) {                    Plotly.newPlot(                        \"eb8dec33-d74d-4352-a3f9-486ece2ca5e2\",                        [{\"alignmentgroup\":\"True\",\"hovertemplate\":\"Team=%{x}<br>Total Goals Scored=%{y}<extra></extra>\",\"legendgroup\":\"\",\"marker\":{\"color\":\"#636efa\",\"pattern\":{\"shape\":\"\"}},\"name\":\"\",\"offsetgroup\":\"\",\"orientation\":\"v\",\"showlegend\":false,\"textposition\":\"auto\",\"x\":[\"Alaves\",\"Almeria\",\"Athletic Club\",\"Atletico Madrid\",\"Barcelona\",\"Cadiz\",\"Celta Vigo\",\"Deportivo La Coruna\",\"Eibar\",\"Elche\",\"Espanyol\",\"Getafe\",\"Girona\",\"Granada\",\"Huesca\",\"Las Palmas\",\"Leganes\",\"Levante\",\"Malaga\",\"Mallorca\",\"Osasuna\",\"Rayo Vallecano\",\"Real Betis\",\"Real Madrid\",\"Real Sociedad\",\"Sevilla\",\"Sporting Gijon\",\"Valencia\",\"Valladolid\",\"Villarreal\"],\"xaxis\":\"x\",\"y\":[221.0,49.0,370.0,499.0,726.0,101.0,394.0,126.0,263.0,104.0,292.0,265.0,145.0,219.0,77.0,122.0,137.0,284.0,111.0,113.0,197.0,177.0,385.0,665.0,421.0,438.0,82.0,404.0,131.0,451.0],\"yaxis\":\"y\",\"type\":\"bar\"}],                        {\"template\":{\"data\":{\"bar\":[{\"error_x\":{\"color\":\"#2a3f5f\"},\"error_y\":{\"color\":\"#2a3f5f\"},\"marker\":{\"line\":{\"color\":\"#E5ECF6\",\"width\":0.5},\"pattern\":{\"fillmode\":\"overlay\",\"size\":10,\"solidity\":0.2}},\"type\":\"bar\"}],\"barpolar\":[{\"marker\":{\"line\":{\"color\":\"#E5ECF6\",\"width\":0.5},\"pattern\":{\"fillmode\":\"overlay\",\"size\":10,\"solidity\":0.2}},\"type\":\"barpolar\"}],\"carpet\":[{\"aaxis\":{\"endlinecolor\":\"#2a3f5f\",\"gridcolor\":\"white\",\"linecolor\":\"white\",\"minorgridcolor\":\"white\",\"startlinecolor\":\"#2a3f5f\"},\"baxis\":{\"endlinecolor\":\"#2a3f5f\",\"gridcolor\":\"white\",\"linecolor\":\"white\",\"minorgridcolor\":\"white\",\"startlinecolor\":\"#2a3f5f\"},\"type\":\"carpet\"}],\"choropleth\":[{\"colorbar\":{\"outlinewidth\":0,\"ticks\":\"\"},\"type\":\"choropleth\"}],\"contour\":[{\"colorbar\":{\"outlinewidth\":0,\"ticks\":\"\"},\"colorscale\":[[0.0,\"#0d0887\"],[0.1111111111111111,\"#46039f\"],[0.2222222222222222,\"#7201a8\"],[0.3333333333333333,\"#9c179e\"],[0.4444444444444444,\"#bd3786\"],[0.5555555555555556,\"#d8576b\"],[0.6666666666666666,\"#ed7953\"],[0.7777777777777778,\"#fb9f3a\"],[0.8888888888888888,\"#fdca26\"],[1.0,\"#f0f921\"]],\"type\":\"contour\"}],\"contourcarpet\":[{\"colorbar\":{\"outlinewidth\":0,\"ticks\":\"\"},\"type\":\"contourcarpet\"}],\"heatmap\":[{\"colorbar\":{\"outlinewidth\":0,\"ticks\":\"\"},\"colorscale\":[[0.0,\"#0d0887\"],[0.1111111111111111,\"#46039f\"],[0.2222222222222222,\"#7201a8\"],[0.3333333333333333,\"#9c179e\"],[0.4444444444444444,\"#bd3786\"],[0.5555555555555556,\"#d8576b\"],[0.6666666666666666,\"#ed7953\"],[0.7777777777777778,\"#fb9f3a\"],[0.8888888888888888,\"#fdca26\"],[1.0,\"#f0f921\"]],\"type\":\"heatmap\"}],\"heatmapgl\":[{\"colorbar\":{\"outlinewidth\":0,\"ticks\":\"\"},\"colorscale\":[[0.0,\"#0d0887\"],[0.1111111111111111,\"#46039f\"],[0.2222222222222222,\"#7201a8\"],[0.3333333333333333,\"#9c179e\"],[0.4444444444444444,\"#bd3786\"],[0.5555555555555556,\"#d8576b\"],[0.6666666666666666,\"#ed7953\"],[0.7777777777777778,\"#fb9f3a\"],[0.8888888888888888,\"#fdca26\"],[1.0,\"#f0f921\"]],\"type\":\"heatmapgl\"}],\"histogram\":[{\"marker\":{\"pattern\":{\"fillmode\":\"overlay\",\"size\":10,\"solidity\":0.2}},\"type\":\"histogram\"}],\"histogram2d\":[{\"colorbar\":{\"outlinewidth\":0,\"ticks\":\"\"},\"colorscale\":[[0.0,\"#0d0887\"],[0.1111111111111111,\"#46039f\"],[0.2222222222222222,\"#7201a8\"],[0.3333333333333333,\"#9c179e\"],[0.4444444444444444,\"#bd3786\"],[0.5555555555555556,\"#d8576b\"],[0.6666666666666666,\"#ed7953\"],[0.7777777777777778,\"#fb9f3a\"],[0.8888888888888888,\"#fdca26\"],[1.0,\"#f0f921\"]],\"type\":\"histogram2d\"}],\"histogram2dcontour\":[{\"colorbar\":{\"outlinewidth\":0,\"ticks\":\"\"},\"colorscale\":[[0.0,\"#0d0887\"],[0.1111111111111111,\"#46039f\"],[0.2222222222222222,\"#7201a8\"],[0.3333333333333333,\"#9c179e\"],[0.4444444444444444,\"#bd3786\"],[0.5555555555555556,\"#d8576b\"],[0.6666666666666666,\"#ed7953\"],[0.7777777777777778,\"#fb9f3a\"],[0.8888888888888888,\"#fdca26\"],[1.0,\"#f0f921\"]],\"type\":\"histogram2dcontour\"}],\"mesh3d\":[{\"colorbar\":{\"outlinewidth\":0,\"ticks\":\"\"},\"type\":\"mesh3d\"}],\"parcoords\":[{\"line\":{\"colorbar\":{\"outlinewidth\":0,\"ticks\":\"\"}},\"type\":\"parcoords\"}],\"pie\":[{\"automargin\":true,\"type\":\"pie\"}],\"scatter\":[{\"marker\":{\"colorbar\":{\"outlinewidth\":0,\"ticks\":\"\"}},\"type\":\"scatter\"}],\"scatter3d\":[{\"line\":{\"colorbar\":{\"outlinewidth\":0,\"ticks\":\"\"}},\"marker\":{\"colorbar\":{\"outlinewidth\":0,\"ticks\":\"\"}},\"type\":\"scatter3d\"}],\"scattercarpet\":[{\"marker\":{\"colorbar\":{\"outlinewidth\":0,\"ticks\":\"\"}},\"type\":\"scattercarpet\"}],\"scattergeo\":[{\"marker\":{\"colorbar\":{\"outlinewidth\":0,\"ticks\":\"\"}},\"type\":\"scattergeo\"}],\"scattergl\":[{\"marker\":{\"colorbar\":{\"outlinewidth\":0,\"ticks\":\"\"}},\"type\":\"scattergl\"}],\"scattermapbox\":[{\"marker\":{\"colorbar\":{\"outlinewidth\":0,\"ticks\":\"\"}},\"type\":\"scattermapbox\"}],\"scatterpolar\":[{\"marker\":{\"colorbar\":{\"outlinewidth\":0,\"ticks\":\"\"}},\"type\":\"scatterpolar\"}],\"scatterpolargl\":[{\"marker\":{\"colorbar\":{\"outlinewidth\":0,\"ticks\":\"\"}},\"type\":\"scatterpolargl\"}],\"scatterternary\":[{\"marker\":{\"colorbar\":{\"outlinewidth\":0,\"ticks\":\"\"}},\"type\":\"scatterternary\"}],\"surface\":[{\"colorbar\":{\"outlinewidth\":0,\"ticks\":\"\"},\"colorscale\":[[0.0,\"#0d0887\"],[0.1111111111111111,\"#46039f\"],[0.2222222222222222,\"#7201a8\"],[0.3333333333333333,\"#9c179e\"],[0.4444444444444444,\"#bd3786\"],[0.5555555555555556,\"#d8576b\"],[0.6666666666666666,\"#ed7953\"],[0.7777777777777778,\"#fb9f3a\"],[0.8888888888888888,\"#fdca26\"],[1.0,\"#f0f921\"]],\"type\":\"surface\"}],\"table\":[{\"cells\":{\"fill\":{\"color\":\"#EBF0F8\"},\"line\":{\"color\":\"white\"}},\"header\":{\"fill\":{\"color\":\"#C8D4E3\"},\"line\":{\"color\":\"white\"}},\"type\":\"table\"}]},\"layout\":{\"annotationdefaults\":{\"arrowcolor\":\"#2a3f5f\",\"arrowhead\":0,\"arrowwidth\":1},\"autotypenumbers\":\"strict\",\"coloraxis\":{\"colorbar\":{\"outlinewidth\":0,\"ticks\":\"\"}},\"colorscale\":{\"diverging\":[[0,\"#8e0152\"],[0.1,\"#c51b7d\"],[0.2,\"#de77ae\"],[0.3,\"#f1b6da\"],[0.4,\"#fde0ef\"],[0.5,\"#f7f7f7\"],[0.6,\"#e6f5d0\"],[0.7,\"#b8e186\"],[0.8,\"#7fbc41\"],[0.9,\"#4d9221\"],[1,\"#276419\"]],\"sequential\":[[0.0,\"#0d0887\"],[0.1111111111111111,\"#46039f\"],[0.2222222222222222,\"#7201a8\"],[0.3333333333333333,\"#9c179e\"],[0.4444444444444444,\"#bd3786\"],[0.5555555555555556,\"#d8576b\"],[0.6666666666666666,\"#ed7953\"],[0.7777777777777778,\"#fb9f3a\"],[0.8888888888888888,\"#fdca26\"],[1.0,\"#f0f921\"]],\"sequentialminus\":[[0.0,\"#0d0887\"],[0.1111111111111111,\"#46039f\"],[0.2222222222222222,\"#7201a8\"],[0.3333333333333333,\"#9c179e\"],[0.4444444444444444,\"#bd3786\"],[0.5555555555555556,\"#d8576b\"],[0.6666666666666666,\"#ed7953\"],[0.7777777777777778,\"#fb9f3a\"],[0.8888888888888888,\"#fdca26\"],[1.0,\"#f0f921\"]]},\"colorway\":[\"#636efa\",\"#EF553B\",\"#00cc96\",\"#ab63fa\",\"#FFA15A\",\"#19d3f3\",\"#FF6692\",\"#B6E880\",\"#FF97FF\",\"#FECB52\"],\"font\":{\"color\":\"#2a3f5f\"},\"geo\":{\"bgcolor\":\"white\",\"lakecolor\":\"white\",\"landcolor\":\"#E5ECF6\",\"showlakes\":true,\"showland\":true,\"subunitcolor\":\"white\"},\"hoverlabel\":{\"align\":\"left\"},\"hovermode\":\"closest\",\"mapbox\":{\"style\":\"light\"},\"paper_bgcolor\":\"white\",\"plot_bgcolor\":\"#E5ECF6\",\"polar\":{\"angularaxis\":{\"gridcolor\":\"white\",\"linecolor\":\"white\",\"ticks\":\"\"},\"bgcolor\":\"#E5ECF6\",\"radialaxis\":{\"gridcolor\":\"white\",\"linecolor\":\"white\",\"ticks\":\"\"}},\"scene\":{\"xaxis\":{\"backgroundcolor\":\"#E5ECF6\",\"gridcolor\":\"white\",\"gridwidth\":2,\"linecolor\":\"white\",\"showbackground\":true,\"ticks\":\"\",\"zerolinecolor\":\"white\"},\"yaxis\":{\"backgroundcolor\":\"#E5ECF6\",\"gridcolor\":\"white\",\"gridwidth\":2,\"linecolor\":\"white\",\"showbackground\":true,\"ticks\":\"\",\"zerolinecolor\":\"white\"},\"zaxis\":{\"backgroundcolor\":\"#E5ECF6\",\"gridcolor\":\"white\",\"gridwidth\":2,\"linecolor\":\"white\",\"showbackground\":true,\"ticks\":\"\",\"zerolinecolor\":\"white\"}},\"shapedefaults\":{\"line\":{\"color\":\"#2a3f5f\"}},\"ternary\":{\"aaxis\":{\"gridcolor\":\"white\",\"linecolor\":\"white\",\"ticks\":\"\"},\"baxis\":{\"gridcolor\":\"white\",\"linecolor\":\"white\",\"ticks\":\"\"},\"bgcolor\":\"#E5ECF6\",\"caxis\":{\"gridcolor\":\"white\",\"linecolor\":\"white\",\"ticks\":\"\"}},\"title\":{\"x\":0.05},\"xaxis\":{\"automargin\":true,\"gridcolor\":\"white\",\"linecolor\":\"white\",\"ticks\":\"\",\"title\":{\"standoff\":15},\"zerolinecolor\":\"white\",\"zerolinewidth\":2},\"yaxis\":{\"automargin\":true,\"gridcolor\":\"white\",\"linecolor\":\"white\",\"ticks\":\"\",\"title\":{\"standoff\":15},\"zerolinecolor\":\"white\",\"zerolinewidth\":2}}},\"xaxis\":{\"anchor\":\"y\",\"domain\":[0.0,1.0],\"title\":{\"text\":\"Team\"},\"tickangle\":45},\"yaxis\":{\"anchor\":\"x\",\"domain\":[0.0,1.0],\"title\":{\"text\":\"Total Goals Scored\"}},\"legend\":{\"tracegroupgap\":0},\"title\":{\"text\":\"Total Goals Scored by Team\"},\"barmode\":\"relative\",\"annotations\":[{\"showarrow\":false,\"text\":\"221\",\"x\":\"Alaves\",\"xanchor\":\"center\",\"y\":221.0,\"yanchor\":\"bottom\"},{\"showarrow\":false,\"text\":\"49\",\"x\":\"Almeria\",\"xanchor\":\"center\",\"y\":49.0,\"yanchor\":\"bottom\"},{\"showarrow\":false,\"text\":\"370\",\"x\":\"Athletic Club\",\"xanchor\":\"center\",\"y\":370.0,\"yanchor\":\"bottom\"},{\"showarrow\":false,\"text\":\"499\",\"x\":\"Atletico Madrid\",\"xanchor\":\"center\",\"y\":499.0,\"yanchor\":\"bottom\"},{\"showarrow\":false,\"text\":\"726\",\"x\":\"Barcelona\",\"xanchor\":\"center\",\"y\":726.0,\"yanchor\":\"bottom\"},{\"showarrow\":false,\"text\":\"101\",\"x\":\"Cadiz\",\"xanchor\":\"center\",\"y\":101.0,\"yanchor\":\"bottom\"},{\"showarrow\":false,\"text\":\"394\",\"x\":\"Celta Vigo\",\"xanchor\":\"center\",\"y\":394.0,\"yanchor\":\"bottom\"},{\"showarrow\":false,\"text\":\"126\",\"x\":\"Deportivo La Coruna\",\"xanchor\":\"center\",\"y\":126.0,\"yanchor\":\"bottom\"},{\"showarrow\":false,\"text\":\"263\",\"x\":\"Eibar\",\"xanchor\":\"center\",\"y\":263.0,\"yanchor\":\"bottom\"},{\"showarrow\":false,\"text\":\"104\",\"x\":\"Elche\",\"xanchor\":\"center\",\"y\":104.0,\"yanchor\":\"bottom\"},{\"showarrow\":false,\"text\":\"292\",\"x\":\"Espanyol\",\"xanchor\":\"center\",\"y\":292.0,\"yanchor\":\"bottom\"},{\"showarrow\":false,\"text\":\"265\",\"x\":\"Getafe\",\"xanchor\":\"center\",\"y\":265.0,\"yanchor\":\"bottom\"},{\"showarrow\":false,\"text\":\"145\",\"x\":\"Girona\",\"xanchor\":\"center\",\"y\":145.0,\"yanchor\":\"bottom\"},{\"showarrow\":false,\"text\":\"219\",\"x\":\"Granada\",\"xanchor\":\"center\",\"y\":219.0,\"yanchor\":\"bottom\"},{\"showarrow\":false,\"text\":\"77\",\"x\":\"Huesca\",\"xanchor\":\"center\",\"y\":77.0,\"yanchor\":\"bottom\"},{\"showarrow\":false,\"text\":\"122\",\"x\":\"Las Palmas\",\"xanchor\":\"center\",\"y\":122.0,\"yanchor\":\"bottom\"},{\"showarrow\":false,\"text\":\"137\",\"x\":\"Leganes\",\"xanchor\":\"center\",\"y\":137.0,\"yanchor\":\"bottom\"},{\"showarrow\":false,\"text\":\"284\",\"x\":\"Levante\",\"xanchor\":\"center\",\"y\":284.0,\"yanchor\":\"bottom\"},{\"showarrow\":false,\"text\":\"111\",\"x\":\"Malaga\",\"xanchor\":\"center\",\"y\":111.0,\"yanchor\":\"bottom\"},{\"showarrow\":false,\"text\":\"113\",\"x\":\"Mallorca\",\"xanchor\":\"center\",\"y\":113.0,\"yanchor\":\"bottom\"},{\"showarrow\":false,\"text\":\"197\",\"x\":\"Osasuna\",\"xanchor\":\"center\",\"y\":197.0,\"yanchor\":\"bottom\"},{\"showarrow\":false,\"text\":\"177\",\"x\":\"Rayo Vallecano\",\"xanchor\":\"center\",\"y\":177.0,\"yanchor\":\"bottom\"},{\"showarrow\":false,\"text\":\"385\",\"x\":\"Real Betis\",\"xanchor\":\"center\",\"y\":385.0,\"yanchor\":\"bottom\"},{\"showarrow\":false,\"text\":\"665\",\"x\":\"Real Madrid\",\"xanchor\":\"center\",\"y\":665.0,\"yanchor\":\"bottom\"},{\"showarrow\":false,\"text\":\"421\",\"x\":\"Real Sociedad\",\"xanchor\":\"center\",\"y\":421.0,\"yanchor\":\"bottom\"},{\"showarrow\":false,\"text\":\"438\",\"x\":\"Sevilla\",\"xanchor\":\"center\",\"y\":438.0,\"yanchor\":\"bottom\"},{\"showarrow\":false,\"text\":\"82\",\"x\":\"Sporting Gijon\",\"xanchor\":\"center\",\"y\":82.0,\"yanchor\":\"bottom\"},{\"showarrow\":false,\"text\":\"404\",\"x\":\"Valencia\",\"xanchor\":\"center\",\"y\":404.0,\"yanchor\":\"bottom\"},{\"showarrow\":false,\"text\":\"131\",\"x\":\"Valladolid\",\"xanchor\":\"center\",\"y\":131.0,\"yanchor\":\"bottom\"},{\"showarrow\":false,\"text\":\"451\",\"x\":\"Villarreal\",\"xanchor\":\"center\",\"y\":451.0,\"yanchor\":\"bottom\"}]},                        {\"responsive\": true}                    ).then(function(){\n",
       "                            \n",
       "var gd = document.getElementById('eb8dec33-d74d-4352-a3f9-486ece2ca5e2');\n",
       "var x = new MutationObserver(function (mutations, observer) {{\n",
       "        var display = window.getComputedStyle(gd).display;\n",
       "        if (!display || display === 'none') {{\n",
       "            console.log([gd, 'removed!']);\n",
       "            Plotly.purge(gd);\n",
       "            observer.disconnect();\n",
       "        }}\n",
       "}});\n",
       "\n",
       "// Listen for the removal of the full notebook cells\n",
       "var notebookContainer = gd.closest('#notebook-container');\n",
       "if (notebookContainer) {{\n",
       "    x.observe(notebookContainer, {childList: true});\n",
       "}}\n",
       "\n",
       "// Listen for the clearing of the current output cell\n",
       "var outputEl = gd.closest('.output');\n",
       "if (outputEl) {{\n",
       "    x.observe(outputEl, {childList: true});\n",
       "}}\n",
       "\n",
       "                        })                };                });            </script>        </div>"
      ]
     },
     "metadata": {},
     "output_type": "display_data"
    }
   ],
   "source": [
    "goals_scored = df.groupby('team')['gf'].sum().reset_index()\n",
    "\n",
    "\n",
    "fig = px.bar(goals_scored, x='team', y='gf', title='Total Goals Scored by Team', labels={'team': 'Team', 'gf': 'Total Goals Scored'})\n",
    "\n",
    "# Adding numbers on top of the bars\n",
    "for team, gf in zip(goals_scored['team'], goals_scored['gf']):\n",
    "    fig.add_annotation(\n",
    "        text=str(int(gf)),\n",
    "        x=team,\n",
    "        y=gf,\n",
    "        xanchor='center',\n",
    "        yanchor='bottom',\n",
    "        showarrow=False\n",
    "    )\n",
    "\n",
    "fig.update_xaxes(tickangle=45)\n",
    "fig.show()"
   ]
  },
  {
   "cell_type": "markdown",
   "id": "67638fba",
   "metadata": {},
   "source": [
    "#### From the above we can see the goals score by each team from 2022-2023 season to 2014- 2015 season . The top three teams in goals scoring are Barcelona, Real Madrid, Atletico Madrid"
   ]
  },
  {
   "cell_type": "markdown",
   "id": "03fdbe2b",
   "metadata": {},
   "source": [
    "### Goals scored against each team"
   ]
  },
  {
   "cell_type": "code",
   "execution_count": 254,
   "id": "01a76ca6",
   "metadata": {},
   "outputs": [
    {
     "data": {
      "application/vnd.plotly.v1+json": {
       "config": {
        "plotlyServerURL": "https://plot.ly"
       },
       "data": [
        {
         "alignmentgroup": "True",
         "hovertemplate": "Team=%{x}<br>Total Goals Against=%{y}<extra></extra>",
         "legendgroup": "",
         "marker": {
          "color": "brown",
          "pattern": {
           "shape": ""
          }
         },
         "name": "",
         "offsetgroup": "",
         "orientation": "v",
         "showlegend": false,
         "textposition": "auto",
         "type": "bar",
         "x": [
          "Alaves",
          "Almeria",
          "Athletic Club",
          "Atletico Madrid",
          "Barcelona",
          "Cadiz",
          "Celta Vigo",
          "Deportivo La Coruna",
          "Eibar",
          "Elche",
          "Espanyol",
          "Getafe",
          "Girona",
          "Granada",
          "Huesca",
          "Las Palmas",
          "Leganes",
          "Levante",
          "Malaga",
          "Mallorca",
          "Osasuna",
          "Rayo Vallecano",
          "Real Betis",
          "Real Madrid",
          "Real Sociedad",
          "Sevilla",
          "Sporting Gijon",
          "Valencia",
          "Valladolid",
          "Villarreal"
         ],
         "xaxis": "x",
         "y": [
          324,
          65,
          341,
          224,
          265,
          162,
          452,
          198,
          320,
          174,
          396,
          301,
          167,
          322,
          118,
          201,
          200,
          380,
          151,
          171,
          289,
          246,
          420,
          285,
          364,
          355,
          134,
          390,
          214,
          340
         ],
         "yaxis": "y"
        }
       ],
       "layout": {
        "annotations": [
         {
          "showarrow": false,
          "text": "324",
          "x": "Alaves",
          "xanchor": "center",
          "y": 324,
          "yanchor": "bottom"
         },
         {
          "showarrow": false,
          "text": "65",
          "x": "Almeria",
          "xanchor": "center",
          "y": 65,
          "yanchor": "bottom"
         },
         {
          "showarrow": false,
          "text": "341",
          "x": "Athletic Club",
          "xanchor": "center",
          "y": 341,
          "yanchor": "bottom"
         },
         {
          "showarrow": false,
          "text": "224",
          "x": "Atletico Madrid",
          "xanchor": "center",
          "y": 224,
          "yanchor": "bottom"
         },
         {
          "showarrow": false,
          "text": "265",
          "x": "Barcelona",
          "xanchor": "center",
          "y": 265,
          "yanchor": "bottom"
         },
         {
          "showarrow": false,
          "text": "162",
          "x": "Cadiz",
          "xanchor": "center",
          "y": 162,
          "yanchor": "bottom"
         },
         {
          "showarrow": false,
          "text": "452",
          "x": "Celta Vigo",
          "xanchor": "center",
          "y": 452,
          "yanchor": "bottom"
         },
         {
          "showarrow": false,
          "text": "198",
          "x": "Deportivo La Coruna",
          "xanchor": "center",
          "y": 198,
          "yanchor": "bottom"
         },
         {
          "showarrow": false,
          "text": "320",
          "x": "Eibar",
          "xanchor": "center",
          "y": 320,
          "yanchor": "bottom"
         },
         {
          "showarrow": false,
          "text": "174",
          "x": "Elche",
          "xanchor": "center",
          "y": 174,
          "yanchor": "bottom"
         },
         {
          "showarrow": false,
          "text": "396",
          "x": "Espanyol",
          "xanchor": "center",
          "y": 396,
          "yanchor": "bottom"
         },
         {
          "showarrow": false,
          "text": "301",
          "x": "Getafe",
          "xanchor": "center",
          "y": 301,
          "yanchor": "bottom"
         },
         {
          "showarrow": false,
          "text": "167",
          "x": "Girona",
          "xanchor": "center",
          "y": 167,
          "yanchor": "bottom"
         },
         {
          "showarrow": false,
          "text": "322",
          "x": "Granada",
          "xanchor": "center",
          "y": 322,
          "yanchor": "bottom"
         },
         {
          "showarrow": false,
          "text": "118",
          "x": "Huesca",
          "xanchor": "center",
          "y": 118,
          "yanchor": "bottom"
         },
         {
          "showarrow": false,
          "text": "201",
          "x": "Las Palmas",
          "xanchor": "center",
          "y": 201,
          "yanchor": "bottom"
         },
         {
          "showarrow": false,
          "text": "200",
          "x": "Leganes",
          "xanchor": "center",
          "y": 200,
          "yanchor": "bottom"
         },
         {
          "showarrow": false,
          "text": "380",
          "x": "Levante",
          "xanchor": "center",
          "y": 380,
          "yanchor": "bottom"
         },
         {
          "showarrow": false,
          "text": "151",
          "x": "Malaga",
          "xanchor": "center",
          "y": 151,
          "yanchor": "bottom"
         },
         {
          "showarrow": false,
          "text": "171",
          "x": "Mallorca",
          "xanchor": "center",
          "y": 171,
          "yanchor": "bottom"
         },
         {
          "showarrow": false,
          "text": "289",
          "x": "Osasuna",
          "xanchor": "center",
          "y": 289,
          "yanchor": "bottom"
         },
         {
          "showarrow": false,
          "text": "246",
          "x": "Rayo Vallecano",
          "xanchor": "center",
          "y": 246,
          "yanchor": "bottom"
         },
         {
          "showarrow": false,
          "text": "420",
          "x": "Real Betis",
          "xanchor": "center",
          "y": 420,
          "yanchor": "bottom"
         },
         {
          "showarrow": false,
          "text": "285",
          "x": "Real Madrid",
          "xanchor": "center",
          "y": 285,
          "yanchor": "bottom"
         },
         {
          "showarrow": false,
          "text": "364",
          "x": "Real Sociedad",
          "xanchor": "center",
          "y": 364,
          "yanchor": "bottom"
         },
         {
          "showarrow": false,
          "text": "355",
          "x": "Sevilla",
          "xanchor": "center",
          "y": 355,
          "yanchor": "bottom"
         },
         {
          "showarrow": false,
          "text": "134",
          "x": "Sporting Gijon",
          "xanchor": "center",
          "y": 134,
          "yanchor": "bottom"
         },
         {
          "showarrow": false,
          "text": "390",
          "x": "Valencia",
          "xanchor": "center",
          "y": 390,
          "yanchor": "bottom"
         },
         {
          "showarrow": false,
          "text": "214",
          "x": "Valladolid",
          "xanchor": "center",
          "y": 214,
          "yanchor": "bottom"
         },
         {
          "showarrow": false,
          "text": "340",
          "x": "Villarreal",
          "xanchor": "center",
          "y": 340,
          "yanchor": "bottom"
         }
        ],
        "barmode": "relative",
        "legend": {
         "tracegroupgap": 0
        },
        "template": {
         "data": {
          "bar": [
           {
            "error_x": {
             "color": "#2a3f5f"
            },
            "error_y": {
             "color": "#2a3f5f"
            },
            "marker": {
             "line": {
              "color": "#E5ECF6",
              "width": 0.5
             },
             "pattern": {
              "fillmode": "overlay",
              "size": 10,
              "solidity": 0.2
             }
            },
            "type": "bar"
           }
          ],
          "barpolar": [
           {
            "marker": {
             "line": {
              "color": "#E5ECF6",
              "width": 0.5
             },
             "pattern": {
              "fillmode": "overlay",
              "size": 10,
              "solidity": 0.2
             }
            },
            "type": "barpolar"
           }
          ],
          "carpet": [
           {
            "aaxis": {
             "endlinecolor": "#2a3f5f",
             "gridcolor": "white",
             "linecolor": "white",
             "minorgridcolor": "white",
             "startlinecolor": "#2a3f5f"
            },
            "baxis": {
             "endlinecolor": "#2a3f5f",
             "gridcolor": "white",
             "linecolor": "white",
             "minorgridcolor": "white",
             "startlinecolor": "#2a3f5f"
            },
            "type": "carpet"
           }
          ],
          "choropleth": [
           {
            "colorbar": {
             "outlinewidth": 0,
             "ticks": ""
            },
            "type": "choropleth"
           }
          ],
          "contour": [
           {
            "colorbar": {
             "outlinewidth": 0,
             "ticks": ""
            },
            "colorscale": [
             [
              0,
              "#0d0887"
             ],
             [
              0.1111111111111111,
              "#46039f"
             ],
             [
              0.2222222222222222,
              "#7201a8"
             ],
             [
              0.3333333333333333,
              "#9c179e"
             ],
             [
              0.4444444444444444,
              "#bd3786"
             ],
             [
              0.5555555555555556,
              "#d8576b"
             ],
             [
              0.6666666666666666,
              "#ed7953"
             ],
             [
              0.7777777777777778,
              "#fb9f3a"
             ],
             [
              0.8888888888888888,
              "#fdca26"
             ],
             [
              1,
              "#f0f921"
             ]
            ],
            "type": "contour"
           }
          ],
          "contourcarpet": [
           {
            "colorbar": {
             "outlinewidth": 0,
             "ticks": ""
            },
            "type": "contourcarpet"
           }
          ],
          "heatmap": [
           {
            "colorbar": {
             "outlinewidth": 0,
             "ticks": ""
            },
            "colorscale": [
             [
              0,
              "#0d0887"
             ],
             [
              0.1111111111111111,
              "#46039f"
             ],
             [
              0.2222222222222222,
              "#7201a8"
             ],
             [
              0.3333333333333333,
              "#9c179e"
             ],
             [
              0.4444444444444444,
              "#bd3786"
             ],
             [
              0.5555555555555556,
              "#d8576b"
             ],
             [
              0.6666666666666666,
              "#ed7953"
             ],
             [
              0.7777777777777778,
              "#fb9f3a"
             ],
             [
              0.8888888888888888,
              "#fdca26"
             ],
             [
              1,
              "#f0f921"
             ]
            ],
            "type": "heatmap"
           }
          ],
          "heatmapgl": [
           {
            "colorbar": {
             "outlinewidth": 0,
             "ticks": ""
            },
            "colorscale": [
             [
              0,
              "#0d0887"
             ],
             [
              0.1111111111111111,
              "#46039f"
             ],
             [
              0.2222222222222222,
              "#7201a8"
             ],
             [
              0.3333333333333333,
              "#9c179e"
             ],
             [
              0.4444444444444444,
              "#bd3786"
             ],
             [
              0.5555555555555556,
              "#d8576b"
             ],
             [
              0.6666666666666666,
              "#ed7953"
             ],
             [
              0.7777777777777778,
              "#fb9f3a"
             ],
             [
              0.8888888888888888,
              "#fdca26"
             ],
             [
              1,
              "#f0f921"
             ]
            ],
            "type": "heatmapgl"
           }
          ],
          "histogram": [
           {
            "marker": {
             "pattern": {
              "fillmode": "overlay",
              "size": 10,
              "solidity": 0.2
             }
            },
            "type": "histogram"
           }
          ],
          "histogram2d": [
           {
            "colorbar": {
             "outlinewidth": 0,
             "ticks": ""
            },
            "colorscale": [
             [
              0,
              "#0d0887"
             ],
             [
              0.1111111111111111,
              "#46039f"
             ],
             [
              0.2222222222222222,
              "#7201a8"
             ],
             [
              0.3333333333333333,
              "#9c179e"
             ],
             [
              0.4444444444444444,
              "#bd3786"
             ],
             [
              0.5555555555555556,
              "#d8576b"
             ],
             [
              0.6666666666666666,
              "#ed7953"
             ],
             [
              0.7777777777777778,
              "#fb9f3a"
             ],
             [
              0.8888888888888888,
              "#fdca26"
             ],
             [
              1,
              "#f0f921"
             ]
            ],
            "type": "histogram2d"
           }
          ],
          "histogram2dcontour": [
           {
            "colorbar": {
             "outlinewidth": 0,
             "ticks": ""
            },
            "colorscale": [
             [
              0,
              "#0d0887"
             ],
             [
              0.1111111111111111,
              "#46039f"
             ],
             [
              0.2222222222222222,
              "#7201a8"
             ],
             [
              0.3333333333333333,
              "#9c179e"
             ],
             [
              0.4444444444444444,
              "#bd3786"
             ],
             [
              0.5555555555555556,
              "#d8576b"
             ],
             [
              0.6666666666666666,
              "#ed7953"
             ],
             [
              0.7777777777777778,
              "#fb9f3a"
             ],
             [
              0.8888888888888888,
              "#fdca26"
             ],
             [
              1,
              "#f0f921"
             ]
            ],
            "type": "histogram2dcontour"
           }
          ],
          "mesh3d": [
           {
            "colorbar": {
             "outlinewidth": 0,
             "ticks": ""
            },
            "type": "mesh3d"
           }
          ],
          "parcoords": [
           {
            "line": {
             "colorbar": {
              "outlinewidth": 0,
              "ticks": ""
             }
            },
            "type": "parcoords"
           }
          ],
          "pie": [
           {
            "automargin": true,
            "type": "pie"
           }
          ],
          "scatter": [
           {
            "marker": {
             "colorbar": {
              "outlinewidth": 0,
              "ticks": ""
             }
            },
            "type": "scatter"
           }
          ],
          "scatter3d": [
           {
            "line": {
             "colorbar": {
              "outlinewidth": 0,
              "ticks": ""
             }
            },
            "marker": {
             "colorbar": {
              "outlinewidth": 0,
              "ticks": ""
             }
            },
            "type": "scatter3d"
           }
          ],
          "scattercarpet": [
           {
            "marker": {
             "colorbar": {
              "outlinewidth": 0,
              "ticks": ""
             }
            },
            "type": "scattercarpet"
           }
          ],
          "scattergeo": [
           {
            "marker": {
             "colorbar": {
              "outlinewidth": 0,
              "ticks": ""
             }
            },
            "type": "scattergeo"
           }
          ],
          "scattergl": [
           {
            "marker": {
             "colorbar": {
              "outlinewidth": 0,
              "ticks": ""
             }
            },
            "type": "scattergl"
           }
          ],
          "scattermapbox": [
           {
            "marker": {
             "colorbar": {
              "outlinewidth": 0,
              "ticks": ""
             }
            },
            "type": "scattermapbox"
           }
          ],
          "scatterpolar": [
           {
            "marker": {
             "colorbar": {
              "outlinewidth": 0,
              "ticks": ""
             }
            },
            "type": "scatterpolar"
           }
          ],
          "scatterpolargl": [
           {
            "marker": {
             "colorbar": {
              "outlinewidth": 0,
              "ticks": ""
             }
            },
            "type": "scatterpolargl"
           }
          ],
          "scatterternary": [
           {
            "marker": {
             "colorbar": {
              "outlinewidth": 0,
              "ticks": ""
             }
            },
            "type": "scatterternary"
           }
          ],
          "surface": [
           {
            "colorbar": {
             "outlinewidth": 0,
             "ticks": ""
            },
            "colorscale": [
             [
              0,
              "#0d0887"
             ],
             [
              0.1111111111111111,
              "#46039f"
             ],
             [
              0.2222222222222222,
              "#7201a8"
             ],
             [
              0.3333333333333333,
              "#9c179e"
             ],
             [
              0.4444444444444444,
              "#bd3786"
             ],
             [
              0.5555555555555556,
              "#d8576b"
             ],
             [
              0.6666666666666666,
              "#ed7953"
             ],
             [
              0.7777777777777778,
              "#fb9f3a"
             ],
             [
              0.8888888888888888,
              "#fdca26"
             ],
             [
              1,
              "#f0f921"
             ]
            ],
            "type": "surface"
           }
          ],
          "table": [
           {
            "cells": {
             "fill": {
              "color": "#EBF0F8"
             },
             "line": {
              "color": "white"
             }
            },
            "header": {
             "fill": {
              "color": "#C8D4E3"
             },
             "line": {
              "color": "white"
             }
            },
            "type": "table"
           }
          ]
         },
         "layout": {
          "annotationdefaults": {
           "arrowcolor": "#2a3f5f",
           "arrowhead": 0,
           "arrowwidth": 1
          },
          "autotypenumbers": "strict",
          "coloraxis": {
           "colorbar": {
            "outlinewidth": 0,
            "ticks": ""
           }
          },
          "colorscale": {
           "diverging": [
            [
             0,
             "#8e0152"
            ],
            [
             0.1,
             "#c51b7d"
            ],
            [
             0.2,
             "#de77ae"
            ],
            [
             0.3,
             "#f1b6da"
            ],
            [
             0.4,
             "#fde0ef"
            ],
            [
             0.5,
             "#f7f7f7"
            ],
            [
             0.6,
             "#e6f5d0"
            ],
            [
             0.7,
             "#b8e186"
            ],
            [
             0.8,
             "#7fbc41"
            ],
            [
             0.9,
             "#4d9221"
            ],
            [
             1,
             "#276419"
            ]
           ],
           "sequential": [
            [
             0,
             "#0d0887"
            ],
            [
             0.1111111111111111,
             "#46039f"
            ],
            [
             0.2222222222222222,
             "#7201a8"
            ],
            [
             0.3333333333333333,
             "#9c179e"
            ],
            [
             0.4444444444444444,
             "#bd3786"
            ],
            [
             0.5555555555555556,
             "#d8576b"
            ],
            [
             0.6666666666666666,
             "#ed7953"
            ],
            [
             0.7777777777777778,
             "#fb9f3a"
            ],
            [
             0.8888888888888888,
             "#fdca26"
            ],
            [
             1,
             "#f0f921"
            ]
           ],
           "sequentialminus": [
            [
             0,
             "#0d0887"
            ],
            [
             0.1111111111111111,
             "#46039f"
            ],
            [
             0.2222222222222222,
             "#7201a8"
            ],
            [
             0.3333333333333333,
             "#9c179e"
            ],
            [
             0.4444444444444444,
             "#bd3786"
            ],
            [
             0.5555555555555556,
             "#d8576b"
            ],
            [
             0.6666666666666666,
             "#ed7953"
            ],
            [
             0.7777777777777778,
             "#fb9f3a"
            ],
            [
             0.8888888888888888,
             "#fdca26"
            ],
            [
             1,
             "#f0f921"
            ]
           ]
          },
          "colorway": [
           "#636efa",
           "#EF553B",
           "#00cc96",
           "#ab63fa",
           "#FFA15A",
           "#19d3f3",
           "#FF6692",
           "#B6E880",
           "#FF97FF",
           "#FECB52"
          ],
          "font": {
           "color": "#2a3f5f"
          },
          "geo": {
           "bgcolor": "white",
           "lakecolor": "white",
           "landcolor": "#E5ECF6",
           "showlakes": true,
           "showland": true,
           "subunitcolor": "white"
          },
          "hoverlabel": {
           "align": "left"
          },
          "hovermode": "closest",
          "mapbox": {
           "style": "light"
          },
          "paper_bgcolor": "white",
          "plot_bgcolor": "#E5ECF6",
          "polar": {
           "angularaxis": {
            "gridcolor": "white",
            "linecolor": "white",
            "ticks": ""
           },
           "bgcolor": "#E5ECF6",
           "radialaxis": {
            "gridcolor": "white",
            "linecolor": "white",
            "ticks": ""
           }
          },
          "scene": {
           "xaxis": {
            "backgroundcolor": "#E5ECF6",
            "gridcolor": "white",
            "gridwidth": 2,
            "linecolor": "white",
            "showbackground": true,
            "ticks": "",
            "zerolinecolor": "white"
           },
           "yaxis": {
            "backgroundcolor": "#E5ECF6",
            "gridcolor": "white",
            "gridwidth": 2,
            "linecolor": "white",
            "showbackground": true,
            "ticks": "",
            "zerolinecolor": "white"
           },
           "zaxis": {
            "backgroundcolor": "#E5ECF6",
            "gridcolor": "white",
            "gridwidth": 2,
            "linecolor": "white",
            "showbackground": true,
            "ticks": "",
            "zerolinecolor": "white"
           }
          },
          "shapedefaults": {
           "line": {
            "color": "#2a3f5f"
           }
          },
          "ternary": {
           "aaxis": {
            "gridcolor": "white",
            "linecolor": "white",
            "ticks": ""
           },
           "baxis": {
            "gridcolor": "white",
            "linecolor": "white",
            "ticks": ""
           },
           "bgcolor": "#E5ECF6",
           "caxis": {
            "gridcolor": "white",
            "linecolor": "white",
            "ticks": ""
           }
          },
          "title": {
           "x": 0.05
          },
          "xaxis": {
           "automargin": true,
           "gridcolor": "white",
           "linecolor": "white",
           "ticks": "",
           "title": {
            "standoff": 15
           },
           "zerolinecolor": "white",
           "zerolinewidth": 2
          },
          "yaxis": {
           "automargin": true,
           "gridcolor": "white",
           "linecolor": "white",
           "ticks": "",
           "title": {
            "standoff": 15
           },
           "zerolinecolor": "white",
           "zerolinewidth": 2
          }
         }
        },
        "title": {
         "text": "Total Goals Against each Team"
        },
        "xaxis": {
         "anchor": "y",
         "domain": [
          0,
          1
         ],
         "tickangle": 45,
         "title": {
          "text": "Team"
         }
        },
        "yaxis": {
         "anchor": "x",
         "domain": [
          0,
          1
         ],
         "title": {
          "text": "Total Goals Against"
         }
        }
       }
      },
      "text/html": [
       "<div>                            <div id=\"e7c5dd45-dda6-4098-bcbd-ba7527ff2bb3\" class=\"plotly-graph-div\" style=\"height:525px; width:100%;\"></div>            <script type=\"text/javascript\">                require([\"plotly\"], function(Plotly) {                    window.PLOTLYENV=window.PLOTLYENV || {};                                    if (document.getElementById(\"e7c5dd45-dda6-4098-bcbd-ba7527ff2bb3\")) {                    Plotly.newPlot(                        \"e7c5dd45-dda6-4098-bcbd-ba7527ff2bb3\",                        [{\"alignmentgroup\":\"True\",\"hovertemplate\":\"Team=%{x}<br>Total Goals Against=%{y}<extra></extra>\",\"legendgroup\":\"\",\"marker\":{\"color\":\"brown\",\"pattern\":{\"shape\":\"\"}},\"name\":\"\",\"offsetgroup\":\"\",\"orientation\":\"v\",\"showlegend\":false,\"textposition\":\"auto\",\"x\":[\"Alaves\",\"Almeria\",\"Athletic Club\",\"Atletico Madrid\",\"Barcelona\",\"Cadiz\",\"Celta Vigo\",\"Deportivo La Coruna\",\"Eibar\",\"Elche\",\"Espanyol\",\"Getafe\",\"Girona\",\"Granada\",\"Huesca\",\"Las Palmas\",\"Leganes\",\"Levante\",\"Malaga\",\"Mallorca\",\"Osasuna\",\"Rayo Vallecano\",\"Real Betis\",\"Real Madrid\",\"Real Sociedad\",\"Sevilla\",\"Sporting Gijon\",\"Valencia\",\"Valladolid\",\"Villarreal\"],\"xaxis\":\"x\",\"y\":[324.0,65.0,341.0,224.0,265.0,162.0,452.0,198.0,320.0,174.0,396.0,301.0,167.0,322.0,118.0,201.0,200.0,380.0,151.0,171.0,289.0,246.0,420.0,285.0,364.0,355.0,134.0,390.0,214.0,340.0],\"yaxis\":\"y\",\"type\":\"bar\"}],                        {\"template\":{\"data\":{\"bar\":[{\"error_x\":{\"color\":\"#2a3f5f\"},\"error_y\":{\"color\":\"#2a3f5f\"},\"marker\":{\"line\":{\"color\":\"#E5ECF6\",\"width\":0.5},\"pattern\":{\"fillmode\":\"overlay\",\"size\":10,\"solidity\":0.2}},\"type\":\"bar\"}],\"barpolar\":[{\"marker\":{\"line\":{\"color\":\"#E5ECF6\",\"width\":0.5},\"pattern\":{\"fillmode\":\"overlay\",\"size\":10,\"solidity\":0.2}},\"type\":\"barpolar\"}],\"carpet\":[{\"aaxis\":{\"endlinecolor\":\"#2a3f5f\",\"gridcolor\":\"white\",\"linecolor\":\"white\",\"minorgridcolor\":\"white\",\"startlinecolor\":\"#2a3f5f\"},\"baxis\":{\"endlinecolor\":\"#2a3f5f\",\"gridcolor\":\"white\",\"linecolor\":\"white\",\"minorgridcolor\":\"white\",\"startlinecolor\":\"#2a3f5f\"},\"type\":\"carpet\"}],\"choropleth\":[{\"colorbar\":{\"outlinewidth\":0,\"ticks\":\"\"},\"type\":\"choropleth\"}],\"contour\":[{\"colorbar\":{\"outlinewidth\":0,\"ticks\":\"\"},\"colorscale\":[[0.0,\"#0d0887\"],[0.1111111111111111,\"#46039f\"],[0.2222222222222222,\"#7201a8\"],[0.3333333333333333,\"#9c179e\"],[0.4444444444444444,\"#bd3786\"],[0.5555555555555556,\"#d8576b\"],[0.6666666666666666,\"#ed7953\"],[0.7777777777777778,\"#fb9f3a\"],[0.8888888888888888,\"#fdca26\"],[1.0,\"#f0f921\"]],\"type\":\"contour\"}],\"contourcarpet\":[{\"colorbar\":{\"outlinewidth\":0,\"ticks\":\"\"},\"type\":\"contourcarpet\"}],\"heatmap\":[{\"colorbar\":{\"outlinewidth\":0,\"ticks\":\"\"},\"colorscale\":[[0.0,\"#0d0887\"],[0.1111111111111111,\"#46039f\"],[0.2222222222222222,\"#7201a8\"],[0.3333333333333333,\"#9c179e\"],[0.4444444444444444,\"#bd3786\"],[0.5555555555555556,\"#d8576b\"],[0.6666666666666666,\"#ed7953\"],[0.7777777777777778,\"#fb9f3a\"],[0.8888888888888888,\"#fdca26\"],[1.0,\"#f0f921\"]],\"type\":\"heatmap\"}],\"heatmapgl\":[{\"colorbar\":{\"outlinewidth\":0,\"ticks\":\"\"},\"colorscale\":[[0.0,\"#0d0887\"],[0.1111111111111111,\"#46039f\"],[0.2222222222222222,\"#7201a8\"],[0.3333333333333333,\"#9c179e\"],[0.4444444444444444,\"#bd3786\"],[0.5555555555555556,\"#d8576b\"],[0.6666666666666666,\"#ed7953\"],[0.7777777777777778,\"#fb9f3a\"],[0.8888888888888888,\"#fdca26\"],[1.0,\"#f0f921\"]],\"type\":\"heatmapgl\"}],\"histogram\":[{\"marker\":{\"pattern\":{\"fillmode\":\"overlay\",\"size\":10,\"solidity\":0.2}},\"type\":\"histogram\"}],\"histogram2d\":[{\"colorbar\":{\"outlinewidth\":0,\"ticks\":\"\"},\"colorscale\":[[0.0,\"#0d0887\"],[0.1111111111111111,\"#46039f\"],[0.2222222222222222,\"#7201a8\"],[0.3333333333333333,\"#9c179e\"],[0.4444444444444444,\"#bd3786\"],[0.5555555555555556,\"#d8576b\"],[0.6666666666666666,\"#ed7953\"],[0.7777777777777778,\"#fb9f3a\"],[0.8888888888888888,\"#fdca26\"],[1.0,\"#f0f921\"]],\"type\":\"histogram2d\"}],\"histogram2dcontour\":[{\"colorbar\":{\"outlinewidth\":0,\"ticks\":\"\"},\"colorscale\":[[0.0,\"#0d0887\"],[0.1111111111111111,\"#46039f\"],[0.2222222222222222,\"#7201a8\"],[0.3333333333333333,\"#9c179e\"],[0.4444444444444444,\"#bd3786\"],[0.5555555555555556,\"#d8576b\"],[0.6666666666666666,\"#ed7953\"],[0.7777777777777778,\"#fb9f3a\"],[0.8888888888888888,\"#fdca26\"],[1.0,\"#f0f921\"]],\"type\":\"histogram2dcontour\"}],\"mesh3d\":[{\"colorbar\":{\"outlinewidth\":0,\"ticks\":\"\"},\"type\":\"mesh3d\"}],\"parcoords\":[{\"line\":{\"colorbar\":{\"outlinewidth\":0,\"ticks\":\"\"}},\"type\":\"parcoords\"}],\"pie\":[{\"automargin\":true,\"type\":\"pie\"}],\"scatter\":[{\"marker\":{\"colorbar\":{\"outlinewidth\":0,\"ticks\":\"\"}},\"type\":\"scatter\"}],\"scatter3d\":[{\"line\":{\"colorbar\":{\"outlinewidth\":0,\"ticks\":\"\"}},\"marker\":{\"colorbar\":{\"outlinewidth\":0,\"ticks\":\"\"}},\"type\":\"scatter3d\"}],\"scattercarpet\":[{\"marker\":{\"colorbar\":{\"outlinewidth\":0,\"ticks\":\"\"}},\"type\":\"scattercarpet\"}],\"scattergeo\":[{\"marker\":{\"colorbar\":{\"outlinewidth\":0,\"ticks\":\"\"}},\"type\":\"scattergeo\"}],\"scattergl\":[{\"marker\":{\"colorbar\":{\"outlinewidth\":0,\"ticks\":\"\"}},\"type\":\"scattergl\"}],\"scattermapbox\":[{\"marker\":{\"colorbar\":{\"outlinewidth\":0,\"ticks\":\"\"}},\"type\":\"scattermapbox\"}],\"scatterpolar\":[{\"marker\":{\"colorbar\":{\"outlinewidth\":0,\"ticks\":\"\"}},\"type\":\"scatterpolar\"}],\"scatterpolargl\":[{\"marker\":{\"colorbar\":{\"outlinewidth\":0,\"ticks\":\"\"}},\"type\":\"scatterpolargl\"}],\"scatterternary\":[{\"marker\":{\"colorbar\":{\"outlinewidth\":0,\"ticks\":\"\"}},\"type\":\"scatterternary\"}],\"surface\":[{\"colorbar\":{\"outlinewidth\":0,\"ticks\":\"\"},\"colorscale\":[[0.0,\"#0d0887\"],[0.1111111111111111,\"#46039f\"],[0.2222222222222222,\"#7201a8\"],[0.3333333333333333,\"#9c179e\"],[0.4444444444444444,\"#bd3786\"],[0.5555555555555556,\"#d8576b\"],[0.6666666666666666,\"#ed7953\"],[0.7777777777777778,\"#fb9f3a\"],[0.8888888888888888,\"#fdca26\"],[1.0,\"#f0f921\"]],\"type\":\"surface\"}],\"table\":[{\"cells\":{\"fill\":{\"color\":\"#EBF0F8\"},\"line\":{\"color\":\"white\"}},\"header\":{\"fill\":{\"color\":\"#C8D4E3\"},\"line\":{\"color\":\"white\"}},\"type\":\"table\"}]},\"layout\":{\"annotationdefaults\":{\"arrowcolor\":\"#2a3f5f\",\"arrowhead\":0,\"arrowwidth\":1},\"autotypenumbers\":\"strict\",\"coloraxis\":{\"colorbar\":{\"outlinewidth\":0,\"ticks\":\"\"}},\"colorscale\":{\"diverging\":[[0,\"#8e0152\"],[0.1,\"#c51b7d\"],[0.2,\"#de77ae\"],[0.3,\"#f1b6da\"],[0.4,\"#fde0ef\"],[0.5,\"#f7f7f7\"],[0.6,\"#e6f5d0\"],[0.7,\"#b8e186\"],[0.8,\"#7fbc41\"],[0.9,\"#4d9221\"],[1,\"#276419\"]],\"sequential\":[[0.0,\"#0d0887\"],[0.1111111111111111,\"#46039f\"],[0.2222222222222222,\"#7201a8\"],[0.3333333333333333,\"#9c179e\"],[0.4444444444444444,\"#bd3786\"],[0.5555555555555556,\"#d8576b\"],[0.6666666666666666,\"#ed7953\"],[0.7777777777777778,\"#fb9f3a\"],[0.8888888888888888,\"#fdca26\"],[1.0,\"#f0f921\"]],\"sequentialminus\":[[0.0,\"#0d0887\"],[0.1111111111111111,\"#46039f\"],[0.2222222222222222,\"#7201a8\"],[0.3333333333333333,\"#9c179e\"],[0.4444444444444444,\"#bd3786\"],[0.5555555555555556,\"#d8576b\"],[0.6666666666666666,\"#ed7953\"],[0.7777777777777778,\"#fb9f3a\"],[0.8888888888888888,\"#fdca26\"],[1.0,\"#f0f921\"]]},\"colorway\":[\"#636efa\",\"#EF553B\",\"#00cc96\",\"#ab63fa\",\"#FFA15A\",\"#19d3f3\",\"#FF6692\",\"#B6E880\",\"#FF97FF\",\"#FECB52\"],\"font\":{\"color\":\"#2a3f5f\"},\"geo\":{\"bgcolor\":\"white\",\"lakecolor\":\"white\",\"landcolor\":\"#E5ECF6\",\"showlakes\":true,\"showland\":true,\"subunitcolor\":\"white\"},\"hoverlabel\":{\"align\":\"left\"},\"hovermode\":\"closest\",\"mapbox\":{\"style\":\"light\"},\"paper_bgcolor\":\"white\",\"plot_bgcolor\":\"#E5ECF6\",\"polar\":{\"angularaxis\":{\"gridcolor\":\"white\",\"linecolor\":\"white\",\"ticks\":\"\"},\"bgcolor\":\"#E5ECF6\",\"radialaxis\":{\"gridcolor\":\"white\",\"linecolor\":\"white\",\"ticks\":\"\"}},\"scene\":{\"xaxis\":{\"backgroundcolor\":\"#E5ECF6\",\"gridcolor\":\"white\",\"gridwidth\":2,\"linecolor\":\"white\",\"showbackground\":true,\"ticks\":\"\",\"zerolinecolor\":\"white\"},\"yaxis\":{\"backgroundcolor\":\"#E5ECF6\",\"gridcolor\":\"white\",\"gridwidth\":2,\"linecolor\":\"white\",\"showbackground\":true,\"ticks\":\"\",\"zerolinecolor\":\"white\"},\"zaxis\":{\"backgroundcolor\":\"#E5ECF6\",\"gridcolor\":\"white\",\"gridwidth\":2,\"linecolor\":\"white\",\"showbackground\":true,\"ticks\":\"\",\"zerolinecolor\":\"white\"}},\"shapedefaults\":{\"line\":{\"color\":\"#2a3f5f\"}},\"ternary\":{\"aaxis\":{\"gridcolor\":\"white\",\"linecolor\":\"white\",\"ticks\":\"\"},\"baxis\":{\"gridcolor\":\"white\",\"linecolor\":\"white\",\"ticks\":\"\"},\"bgcolor\":\"#E5ECF6\",\"caxis\":{\"gridcolor\":\"white\",\"linecolor\":\"white\",\"ticks\":\"\"}},\"title\":{\"x\":0.05},\"xaxis\":{\"automargin\":true,\"gridcolor\":\"white\",\"linecolor\":\"white\",\"ticks\":\"\",\"title\":{\"standoff\":15},\"zerolinecolor\":\"white\",\"zerolinewidth\":2},\"yaxis\":{\"automargin\":true,\"gridcolor\":\"white\",\"linecolor\":\"white\",\"ticks\":\"\",\"title\":{\"standoff\":15},\"zerolinecolor\":\"white\",\"zerolinewidth\":2}}},\"xaxis\":{\"anchor\":\"y\",\"domain\":[0.0,1.0],\"title\":{\"text\":\"Team\"},\"tickangle\":45},\"yaxis\":{\"anchor\":\"x\",\"domain\":[0.0,1.0],\"title\":{\"text\":\"Total Goals Against\"}},\"legend\":{\"tracegroupgap\":0},\"title\":{\"text\":\"Total Goals Against each Team\"},\"barmode\":\"relative\",\"annotations\":[{\"showarrow\":false,\"text\":\"324\",\"x\":\"Alaves\",\"xanchor\":\"center\",\"y\":324.0,\"yanchor\":\"bottom\"},{\"showarrow\":false,\"text\":\"65\",\"x\":\"Almeria\",\"xanchor\":\"center\",\"y\":65.0,\"yanchor\":\"bottom\"},{\"showarrow\":false,\"text\":\"341\",\"x\":\"Athletic Club\",\"xanchor\":\"center\",\"y\":341.0,\"yanchor\":\"bottom\"},{\"showarrow\":false,\"text\":\"224\",\"x\":\"Atletico Madrid\",\"xanchor\":\"center\",\"y\":224.0,\"yanchor\":\"bottom\"},{\"showarrow\":false,\"text\":\"265\",\"x\":\"Barcelona\",\"xanchor\":\"center\",\"y\":265.0,\"yanchor\":\"bottom\"},{\"showarrow\":false,\"text\":\"162\",\"x\":\"Cadiz\",\"xanchor\":\"center\",\"y\":162.0,\"yanchor\":\"bottom\"},{\"showarrow\":false,\"text\":\"452\",\"x\":\"Celta Vigo\",\"xanchor\":\"center\",\"y\":452.0,\"yanchor\":\"bottom\"},{\"showarrow\":false,\"text\":\"198\",\"x\":\"Deportivo La Coruna\",\"xanchor\":\"center\",\"y\":198.0,\"yanchor\":\"bottom\"},{\"showarrow\":false,\"text\":\"320\",\"x\":\"Eibar\",\"xanchor\":\"center\",\"y\":320.0,\"yanchor\":\"bottom\"},{\"showarrow\":false,\"text\":\"174\",\"x\":\"Elche\",\"xanchor\":\"center\",\"y\":174.0,\"yanchor\":\"bottom\"},{\"showarrow\":false,\"text\":\"396\",\"x\":\"Espanyol\",\"xanchor\":\"center\",\"y\":396.0,\"yanchor\":\"bottom\"},{\"showarrow\":false,\"text\":\"301\",\"x\":\"Getafe\",\"xanchor\":\"center\",\"y\":301.0,\"yanchor\":\"bottom\"},{\"showarrow\":false,\"text\":\"167\",\"x\":\"Girona\",\"xanchor\":\"center\",\"y\":167.0,\"yanchor\":\"bottom\"},{\"showarrow\":false,\"text\":\"322\",\"x\":\"Granada\",\"xanchor\":\"center\",\"y\":322.0,\"yanchor\":\"bottom\"},{\"showarrow\":false,\"text\":\"118\",\"x\":\"Huesca\",\"xanchor\":\"center\",\"y\":118.0,\"yanchor\":\"bottom\"},{\"showarrow\":false,\"text\":\"201\",\"x\":\"Las Palmas\",\"xanchor\":\"center\",\"y\":201.0,\"yanchor\":\"bottom\"},{\"showarrow\":false,\"text\":\"200\",\"x\":\"Leganes\",\"xanchor\":\"center\",\"y\":200.0,\"yanchor\":\"bottom\"},{\"showarrow\":false,\"text\":\"380\",\"x\":\"Levante\",\"xanchor\":\"center\",\"y\":380.0,\"yanchor\":\"bottom\"},{\"showarrow\":false,\"text\":\"151\",\"x\":\"Malaga\",\"xanchor\":\"center\",\"y\":151.0,\"yanchor\":\"bottom\"},{\"showarrow\":false,\"text\":\"171\",\"x\":\"Mallorca\",\"xanchor\":\"center\",\"y\":171.0,\"yanchor\":\"bottom\"},{\"showarrow\":false,\"text\":\"289\",\"x\":\"Osasuna\",\"xanchor\":\"center\",\"y\":289.0,\"yanchor\":\"bottom\"},{\"showarrow\":false,\"text\":\"246\",\"x\":\"Rayo Vallecano\",\"xanchor\":\"center\",\"y\":246.0,\"yanchor\":\"bottom\"},{\"showarrow\":false,\"text\":\"420\",\"x\":\"Real Betis\",\"xanchor\":\"center\",\"y\":420.0,\"yanchor\":\"bottom\"},{\"showarrow\":false,\"text\":\"285\",\"x\":\"Real Madrid\",\"xanchor\":\"center\",\"y\":285.0,\"yanchor\":\"bottom\"},{\"showarrow\":false,\"text\":\"364\",\"x\":\"Real Sociedad\",\"xanchor\":\"center\",\"y\":364.0,\"yanchor\":\"bottom\"},{\"showarrow\":false,\"text\":\"355\",\"x\":\"Sevilla\",\"xanchor\":\"center\",\"y\":355.0,\"yanchor\":\"bottom\"},{\"showarrow\":false,\"text\":\"134\",\"x\":\"Sporting Gijon\",\"xanchor\":\"center\",\"y\":134.0,\"yanchor\":\"bottom\"},{\"showarrow\":false,\"text\":\"390\",\"x\":\"Valencia\",\"xanchor\":\"center\",\"y\":390.0,\"yanchor\":\"bottom\"},{\"showarrow\":false,\"text\":\"214\",\"x\":\"Valladolid\",\"xanchor\":\"center\",\"y\":214.0,\"yanchor\":\"bottom\"},{\"showarrow\":false,\"text\":\"340\",\"x\":\"Villarreal\",\"xanchor\":\"center\",\"y\":340.0,\"yanchor\":\"bottom\"}]},                        {\"responsive\": true}                    ).then(function(){\n",
       "                            \n",
       "var gd = document.getElementById('e7c5dd45-dda6-4098-bcbd-ba7527ff2bb3');\n",
       "var x = new MutationObserver(function (mutations, observer) {{\n",
       "        var display = window.getComputedStyle(gd).display;\n",
       "        if (!display || display === 'none') {{\n",
       "            console.log([gd, 'removed!']);\n",
       "            Plotly.purge(gd);\n",
       "            observer.disconnect();\n",
       "        }}\n",
       "}});\n",
       "\n",
       "// Listen for the removal of the full notebook cells\n",
       "var notebookContainer = gd.closest('#notebook-container');\n",
       "if (notebookContainer) {{\n",
       "    x.observe(notebookContainer, {childList: true});\n",
       "}}\n",
       "\n",
       "// Listen for the clearing of the current output cell\n",
       "var outputEl = gd.closest('.output');\n",
       "if (outputEl) {{\n",
       "    x.observe(outputEl, {childList: true});\n",
       "}}\n",
       "\n",
       "                        })                };                });            </script>        </div>"
      ]
     },
     "metadata": {},
     "output_type": "display_data"
    }
   ],
   "source": [
    "\n",
    "# Group by team and sum up the goals against\n",
    "goals_against_team = df.groupby('team')['ga'].sum().reset_index()\n",
    "\n",
    "# Create an interactive bar plot using Plotly\n",
    "fig = px.bar(goals_against_team, x='team', y='ga', title='Total Goals Against each Team', labels={'team': 'Team', 'ga': 'Total Goals Against'})\n",
    "\n",
    "# Add numbers on top of the bars\n",
    "for team, ga in zip(goals_against_team['team'], goals_against_team['ga']):\n",
    "    fig.add_annotation(\n",
    "        text=str(int(ga)),\n",
    "        x=team,\n",
    "        y=ga,\n",
    "        xanchor='center',\n",
    "        yanchor='bottom',\n",
    "        showarrow=False\n",
    "    )\n",
    "fig.update_traces(marker_color='brown')\n",
    "fig.update_xaxes(tickangle=45)\n",
    "fig.show()"
   ]
  },
  {
   "cell_type": "markdown",
   "id": "7a062fd5",
   "metadata": {},
   "source": [
    "#### Top 5 teams with most wins"
   ]
  },
  {
   "cell_type": "code",
   "execution_count": 255,
   "id": "4ac520ba",
   "metadata": {},
   "outputs": [
    {
     "data": {
      "image/png": "[encoded data removed]",
      "text/plain": [
       "<Figure size 720x720 with 1 Axes>"
      ]
     },
     "metadata": {},
     "output_type": "display_data"
    }
   ],
   "source": [
    "wins_by_team = df[df['result'] == 'W']['team'].value_counts()\n",
    "\n",
    "top_teams = wins_by_team.head(5)\n",
    "\n",
    "plt.figure(figsize=(10, 10))\n",
    "plt.pie(top_teams, labels=top_teams.index, autopct=lambda p: f'{int(p * sum(top_teams) / 100):.0f}', startangle=90, pctdistance=0.85, wedgeprops={'edgecolor': 'grey'})\n",
    "centre_circle = plt.Circle((0,0),0.70,fc='white')\n",
    "fig = plt.gcf()\n",
    "fig.gca().add_artist(centre_circle)\n",
    "plt.title('Top 5 Teams with Most Wins')\n",
    "plt.axis('equal')\n",
    "plt.show()"
   ]
  },
  {
   "cell_type": "markdown",
   "id": "3f2906c3",
   "metadata": {},
   "source": [
    "## 8.Processing the data for prediction <a name='prediction'></a>"
   ]
  },
  {
   "cell_type": "code",
   "execution_count": 256,
   "id": "29ec9d62",
   "metadata": {},
   "outputs": [],
   "source": [
    "#converting to datetime\n",
    "df[\"date\"] = pd.to_datetime(df[\"date\"])"
   ]
  },
  {
   "cell_type": "markdown",
   "id": "670248c9",
   "metadata": {},
   "source": [
    "#### Creating predictors "
   ]
  },
  {
   "cell_type": "code",
   "execution_count": 257,
   "id": "5bec08c2",
   "metadata": {},
   "outputs": [],
   "source": [
    "#creating new column venue_code by using the existing venue column\n",
    "df[\"venue_code\"] = df[\"venue\"].astype(\"category\").cat.codes"
   ]
  },
  {
   "cell_type": "code",
   "execution_count": 258,
   "id": "b9ae3e49",
   "metadata": {},
   "outputs": [],
   "source": [
    "#creating opponent code for each opponent\n",
    "df[\"opp_code\"] = df[\"opponent\"].astype(\"category\").cat.codes"
   ]
  },
  {
   "cell_type": "code",
   "execution_count": 259,
   "id": "248b3b33",
   "metadata": {},
   "outputs": [
    {
     "data": {
      "text/html": [
       "<div>\n",
       "<style scoped>\n",
       "    .dataframe tbody tr th:only-of-type {\n",
       "        vertical-align: middle;\n",
       "    }\n",
       "\n",
       "    .dataframe tbody tr th {\n",
       "        vertical-align: top;\n",
       "    }\n",
       "\n",
       "    .dataframe thead th {\n",
       "        text-align: right;\n",
       "    }\n",
       "</style>\n",
       "<table border=\"1\" class=\"dataframe\">\n",
       "  <thead>\n",
       "    <tr style=\"text-align: right;\">\n",
       "      <th></th>\n",
       "      <th>date</th>\n",
       "      <th>time</th>\n",
       "      <th>comp</th>\n",
       "      <th>round</th>\n",
       "      <th>day</th>\n",
       "      <th>venue</th>\n",
       "      <th>result</th>\n",
       "      <th>gf</th>\n",
       "      <th>ga</th>\n",
       "      <th>opponent</th>\n",
       "      <th>poss</th>\n",
       "      <th>formation</th>\n",
       "      <th>sh</th>\n",
       "      <th>sot</th>\n",
       "      <th>pk</th>\n",
       "      <th>pkatt</th>\n",
       "      <th>season</th>\n",
       "      <th>team</th>\n",
       "      <th>venue_code</th>\n",
       "      <th>opp_code</th>\n",
       "    </tr>\n",
       "  </thead>\n",
       "  <tbody>\n",
       "    <tr>\n",
       "      <th>0</th>\n",
       "      <td>2022-08-13</td>\n",
       "      <td>21:00</td>\n",
       "      <td>La Liga</td>\n",
       "      <td>Matchweek 1</td>\n",
       "      <td>Sat</td>\n",
       "      <td>Home</td>\n",
       "      <td>D</td>\n",
       "      <td>0.0</td>\n",
       "      <td>0.0</td>\n",
       "      <td>Rayo Vallecano</td>\n",
       "      <td>67.0</td>\n",
       "      <td>4-3-3</td>\n",
       "      <td>21.0</td>\n",
       "      <td>5.0</td>\n",
       "      <td>0.0</td>\n",
       "      <td>0.0</td>\n",
       "      <td>2022</td>\n",
       "      <td>Barcelona</td>\n",
       "      <td>1</td>\n",
       "      <td>22</td>\n",
       "    </tr>\n",
       "    <tr>\n",
       "      <th>1</th>\n",
       "      <td>2022-08-21</td>\n",
       "      <td>22:00</td>\n",
       "      <td>La Liga</td>\n",
       "      <td>Matchweek 2</td>\n",
       "      <td>Sun</td>\n",
       "      <td>Away</td>\n",
       "      <td>W</td>\n",
       "      <td>4.0</td>\n",
       "      <td>1.0</td>\n",
       "      <td>Real Sociedad</td>\n",
       "      <td>58.0</td>\n",
       "      <td>3-2-4-1</td>\n",
       "      <td>15.0</td>\n",
       "      <td>7.0</td>\n",
       "      <td>0.0</td>\n",
       "      <td>0.0</td>\n",
       "      <td>2022</td>\n",
       "      <td>Barcelona</td>\n",
       "      <td>0</td>\n",
       "      <td>24</td>\n",
       "    </tr>\n",
       "    <tr>\n",
       "      <th>2</th>\n",
       "      <td>2022-08-28</td>\n",
       "      <td>19:30</td>\n",
       "      <td>La Liga</td>\n",
       "      <td>Matchweek 3</td>\n",
       "      <td>Sun</td>\n",
       "      <td>Home</td>\n",
       "      <td>W</td>\n",
       "      <td>4.0</td>\n",
       "      <td>0.0</td>\n",
       "      <td>Valladolid</td>\n",
       "      <td>67.0</td>\n",
       "      <td>4-3-3</td>\n",
       "      <td>24.0</td>\n",
       "      <td>9.0</td>\n",
       "      <td>0.0</td>\n",
       "      <td>0.0</td>\n",
       "      <td>2022</td>\n",
       "      <td>Barcelona</td>\n",
       "      <td>1</td>\n",
       "      <td>28</td>\n",
       "    </tr>\n",
       "    <tr>\n",
       "      <th>3</th>\n",
       "      <td>2022-09-03</td>\n",
       "      <td>21:00</td>\n",
       "      <td>La Liga</td>\n",
       "      <td>Matchweek 4</td>\n",
       "      <td>Sat</td>\n",
       "      <td>Away</td>\n",
       "      <td>W</td>\n",
       "      <td>3.0</td>\n",
       "      <td>0.0</td>\n",
       "      <td>Sevilla</td>\n",
       "      <td>54.0</td>\n",
       "      <td>4-3-3</td>\n",
       "      <td>18.0</td>\n",
       "      <td>5.0</td>\n",
       "      <td>0.0</td>\n",
       "      <td>0.0</td>\n",
       "      <td>2022</td>\n",
       "      <td>Barcelona</td>\n",
       "      <td>0</td>\n",
       "      <td>25</td>\n",
       "    </tr>\n",
       "    <tr>\n",
       "      <th>5</th>\n",
       "      <td>2022-09-10</td>\n",
       "      <td>18:30</td>\n",
       "      <td>La Liga</td>\n",
       "      <td>Matchweek 5</td>\n",
       "      <td>Sat</td>\n",
       "      <td>Away</td>\n",
       "      <td>W</td>\n",
       "      <td>4.0</td>\n",
       "      <td>0.0</td>\n",
       "      <td>Cádiz</td>\n",
       "      <td>70.0</td>\n",
       "      <td>4-3-3</td>\n",
       "      <td>16.0</td>\n",
       "      <td>8.0</td>\n",
       "      <td>0.0</td>\n",
       "      <td>0.0</td>\n",
       "      <td>2022</td>\n",
       "      <td>Barcelona</td>\n",
       "      <td>0</td>\n",
       "      <td>7</td>\n",
       "    </tr>\n",
       "  </tbody>\n",
       "</table>\n",
       "</div>"
      ],
      "text/plain": [
       "        date   time     comp        round  day venue result   gf   ga  \\\n",
       "0 2022-08-13  21:00  La Liga  Matchweek 1  Sat  Home      D  0.0  0.0   \n",
       "1 2022-08-21  22:00  La Liga  Matchweek 2  Sun  Away      W  4.0  1.0   \n",
       "2 2022-08-28  19:30  La Liga  Matchweek 3  Sun  Home      W  4.0  0.0   \n",
       "3 2022-09-03  21:00  La Liga  Matchweek 4  Sat  Away      W  3.0  0.0   \n",
       "5 2022-09-10  18:30  La Liga  Matchweek 5  Sat  Away      W  4.0  0.0   \n",
       "\n",
       "         opponent  poss formation    sh  sot   pk  pkatt  season       team  \\\n",
       "0  Rayo Vallecano  67.0     4-3-3  21.0  5.0  0.0    0.0    2022  Barcelona   \n",
       "1   Real Sociedad  58.0   3-2-4-1  15.0  7.0  0.0    0.0    2022  Barcelona   \n",
       "2      Valladolid  67.0     4-3-3  24.0  9.0  0.0    0.0    2022  Barcelona   \n",
       "3         Sevilla  54.0     4-3-3  18.0  5.0  0.0    0.0    2022  Barcelona   \n",
       "5           Cádiz  70.0     4-3-3  16.0  8.0  0.0    0.0    2022  Barcelona   \n",
       "\n",
       "   venue_code  opp_code  \n",
       "0           1        22  \n",
       "1           0        24  \n",
       "2           1        28  \n",
       "3           0        25  \n",
       "5           0         7  "
      ]
     },
     "execution_count": 259,
     "metadata": {},
     "output_type": "execute_result"
    }
   ],
   "source": [
    "df.head(5)"
   ]
  },
  {
   "cell_type": "markdown",
   "id": "31ce95bf",
   "metadata": {},
   "source": [
    "#### setting up the target column to predict"
   ]
  },
  {
   "cell_type": "code",
   "execution_count": 260,
   "id": "5cd2b974",
   "metadata": {},
   "outputs": [],
   "source": [
    "#creating a target column based on the result\n",
    "df[\"target\"] = df[\"result\"].map({\"W\": 1, \"L\": 0, \"D\": 2})"
   ]
  },
  {
   "cell_type": "code",
   "execution_count": 261,
   "id": "39e3e466",
   "metadata": {},
   "outputs": [],
   "source": [
    "df['sot'] = df['sot'].astype(int)\n",
    "df['gf'] = df['gf'].astype(int)"
   ]
  },
  {
   "cell_type": "code",
   "execution_count": 262,
   "id": "4d6202e5",
   "metadata": {},
   "outputs": [
    {
     "data": {
      "text/html": [
       "<div>\n",
       "<style scoped>\n",
       "    .dataframe tbody tr th:only-of-type {\n",
       "        vertical-align: middle;\n",
       "    }\n",
       "\n",
       "    .dataframe tbody tr th {\n",
       "        vertical-align: top;\n",
       "    }\n",
       "\n",
       "    .dataframe thead th {\n",
       "        text-align: right;\n",
       "    }\n",
       "</style>\n",
       "<table border=\"1\" class=\"dataframe\">\n",
       "  <thead>\n",
       "    <tr style=\"text-align: right;\">\n",
       "      <th></th>\n",
       "      <th>date</th>\n",
       "      <th>time</th>\n",
       "      <th>comp</th>\n",
       "      <th>round</th>\n",
       "      <th>day</th>\n",
       "      <th>venue</th>\n",
       "      <th>result</th>\n",
       "      <th>gf</th>\n",
       "      <th>ga</th>\n",
       "      <th>opponent</th>\n",
       "      <th>poss</th>\n",
       "      <th>formation</th>\n",
       "      <th>sh</th>\n",
       "      <th>sot</th>\n",
       "      <th>pk</th>\n",
       "      <th>pkatt</th>\n",
       "      <th>season</th>\n",
       "      <th>team</th>\n",
       "      <th>venue_code</th>\n",
       "      <th>opp_code</th>\n",
       "      <th>target</th>\n",
       "    </tr>\n",
       "  </thead>\n",
       "  <tbody>\n",
       "    <tr>\n",
       "      <th>0</th>\n",
       "      <td>2022-08-13</td>\n",
       "      <td>21:00</td>\n",
       "      <td>La Liga</td>\n",
       "      <td>Matchweek 1</td>\n",
       "      <td>Sat</td>\n",
       "      <td>Home</td>\n",
       "      <td>D</td>\n",
       "      <td>0</td>\n",
       "      <td>0.0</td>\n",
       "      <td>Rayo Vallecano</td>\n",
       "      <td>67.0</td>\n",
       "      <td>4-3-3</td>\n",
       "      <td>21.0</td>\n",
       "      <td>5</td>\n",
       "      <td>0.0</td>\n",
       "      <td>0.0</td>\n",
       "      <td>2022</td>\n",
       "      <td>Barcelona</td>\n",
       "      <td>1</td>\n",
       "      <td>22</td>\n",
       "      <td>2</td>\n",
       "    </tr>\n",
       "    <tr>\n",
       "      <th>1</th>\n",
       "      <td>2022-08-21</td>\n",
       "      <td>22:00</td>\n",
       "      <td>La Liga</td>\n",
       "      <td>Matchweek 2</td>\n",
       "      <td>Sun</td>\n",
       "      <td>Away</td>\n",
       "      <td>W</td>\n",
       "      <td>4</td>\n",
       "      <td>1.0</td>\n",
       "      <td>Real Sociedad</td>\n",
       "      <td>58.0</td>\n",
       "      <td>3-2-4-1</td>\n",
       "      <td>15.0</td>\n",
       "      <td>7</td>\n",
       "      <td>0.0</td>\n",
       "      <td>0.0</td>\n",
       "      <td>2022</td>\n",
       "      <td>Barcelona</td>\n",
       "      <td>0</td>\n",
       "      <td>24</td>\n",
       "      <td>1</td>\n",
       "    </tr>\n",
       "    <tr>\n",
       "      <th>2</th>\n",
       "      <td>2022-08-28</td>\n",
       "      <td>19:30</td>\n",
       "      <td>La Liga</td>\n",
       "      <td>Matchweek 3</td>\n",
       "      <td>Sun</td>\n",
       "      <td>Home</td>\n",
       "      <td>W</td>\n",
       "      <td>4</td>\n",
       "      <td>0.0</td>\n",
       "      <td>Valladolid</td>\n",
       "      <td>67.0</td>\n",
       "      <td>4-3-3</td>\n",
       "      <td>24.0</td>\n",
       "      <td>9</td>\n",
       "      <td>0.0</td>\n",
       "      <td>0.0</td>\n",
       "      <td>2022</td>\n",
       "      <td>Barcelona</td>\n",
       "      <td>1</td>\n",
       "      <td>28</td>\n",
       "      <td>1</td>\n",
       "    </tr>\n",
       "    <tr>\n",
       "      <th>3</th>\n",
       "      <td>2022-09-03</td>\n",
       "      <td>21:00</td>\n",
       "      <td>La Liga</td>\n",
       "      <td>Matchweek 4</td>\n",
       "      <td>Sat</td>\n",
       "      <td>Away</td>\n",
       "      <td>W</td>\n",
       "      <td>3</td>\n",
       "      <td>0.0</td>\n",
       "      <td>Sevilla</td>\n",
       "      <td>54.0</td>\n",
       "      <td>4-3-3</td>\n",
       "      <td>18.0</td>\n",
       "      <td>5</td>\n",
       "      <td>0.0</td>\n",
       "      <td>0.0</td>\n",
       "      <td>2022</td>\n",
       "      <td>Barcelona</td>\n",
       "      <td>0</td>\n",
       "      <td>25</td>\n",
       "      <td>1</td>\n",
       "    </tr>\n",
       "    <tr>\n",
       "      <th>5</th>\n",
       "      <td>2022-09-10</td>\n",
       "      <td>18:30</td>\n",
       "      <td>La Liga</td>\n",
       "      <td>Matchweek 5</td>\n",
       "      <td>Sat</td>\n",
       "      <td>Away</td>\n",
       "      <td>W</td>\n",
       "      <td>4</td>\n",
       "      <td>0.0</td>\n",
       "      <td>Cádiz</td>\n",
       "      <td>70.0</td>\n",
       "      <td>4-3-3</td>\n",
       "      <td>16.0</td>\n",
       "      <td>8</td>\n",
       "      <td>0.0</td>\n",
       "      <td>0.0</td>\n",
       "      <td>2022</td>\n",
       "      <td>Barcelona</td>\n",
       "      <td>0</td>\n",
       "      <td>7</td>\n",
       "      <td>1</td>\n",
       "    </tr>\n",
       "  </tbody>\n",
       "</table>\n",
       "</div>"
      ],
      "text/plain": [
       "        date   time     comp        round  day venue result  gf   ga  \\\n",
       "0 2022-08-13  21:00  La Liga  Matchweek 1  Sat  Home      D   0  0.0   \n",
       "1 2022-08-21  22:00  La Liga  Matchweek 2  Sun  Away      W   4  1.0   \n",
       "2 2022-08-28  19:30  La Liga  Matchweek 3  Sun  Home      W   4  0.0   \n",
       "3 2022-09-03  21:00  La Liga  Matchweek 4  Sat  Away      W   3  0.0   \n",
       "5 2022-09-10  18:30  La Liga  Matchweek 5  Sat  Away      W   4  0.0   \n",
       "\n",
       "         opponent  poss formation    sh  sot   pk  pkatt  season       team  \\\n",
       "0  Rayo Vallecano  67.0     4-3-3  21.0    5  0.0    0.0    2022  Barcelona   \n",
       "1   Real Sociedad  58.0   3-2-4-1  15.0    7  0.0    0.0    2022  Barcelona   \n",
       "2      Valladolid  67.0     4-3-3  24.0    9  0.0    0.0    2022  Barcelona   \n",
       "3         Sevilla  54.0     4-3-3  18.0    5  0.0    0.0    2022  Barcelona   \n",
       "5           Cádiz  70.0     4-3-3  16.0    8  0.0    0.0    2022  Barcelona   \n",
       "\n",
       "   venue_code  opp_code  target  \n",
       "0           1        22       2  \n",
       "1           0        24       1  \n",
       "2           1        28       1  \n",
       "3           0        25       1  \n",
       "5           0         7       1  "
      ]
     },
     "execution_count": 262,
     "metadata": {},
     "output_type": "execute_result"
    }
   ],
   "source": [
    "df.head()"
   ]
  },
  {
   "cell_type": "markdown",
   "id": "0153426e",
   "metadata": {},
   "source": [
    "#### In the above we can see target column is having values as 0 for lose, 1 for win , 2 for draw. Now based on this we are going to predict the results."
   ]
  },
  {
   "cell_type": "markdown",
   "id": "6365c257",
   "metadata": {},
   "source": [
    "## pandas profiling"
   ]
  },
  {
   "cell_type": "code",
   "execution_count": 263,
   "id": "0c7f0ad6",
   "metadata": {},
   "outputs": [
    {
     "data": {
      "application/vnd.jupyter.widget-view+json": {
       "model_id": "61db787bd20040f3ba91311da1010c25",
       "version_major": 2,
       "version_minor": 0
      },
      "text/plain": [
       "Summarize dataset:   0%|          | 0/5 [00:00<?, ?it/s]"
      ]
     },
     "metadata": {},
     "output_type": "display_data"
    },
    {
     "data": {
      "application/vnd.jupyter.widget-view+json": {
       "model_id": "174cbde6aa1d4364ae32fc2a52b69ff9",
       "version_major": 2,
       "version_minor": 0
      },
      "text/plain": [
       "Generate report structure:   0%|          | 0/1 [00:00<?, ?it/s]"
      ]
     },
     "metadata": {},
     "output_type": "display_data"
    },
    {
     "data": {
      "application/vnd.jupyter.widget-view+json": {
       "model_id": "c14cd4e7955b47f9bdb9f47dff05b904",
       "version_major": 2,
       "version_minor": 0
      },
      "text/plain": [
       "Render HTML:   0%|          | 0/1 [00:00<?, ?it/s]"
      ]
     },
     "metadata": {},
     "output_type": "display_data"
    },
    {
     "data": {
      "application/vnd.jupyter.widget-view+json": {
       "model_id": "fc15aecaef264e839a4a5d8af3bbb173",
       "version_major": 2,
       "version_minor": 0
      },
      "text/plain": [
       "Export report to file:   0%|          | 0/1 [00:00<?, ?it/s]"
      ]
     },
     "metadata": {},
     "output_type": "display_data"
    }
   ],
   "source": [
    "profile = pandas_profiling.ProfileReport(df)\n",
    "\n",
    "profile.to_file(\"clean_report.html\")"
   ]
  },
  {
   "cell_type": "markdown",
   "id": "7fca0337",
   "metadata": {},
   "source": [
    "## 9. Applying ML Models  <a name='model'></a>"
   ]
  },
  {
   "cell_type": "markdown",
   "id": "ddb4ebf9",
   "metadata": {},
   "source": [
    "### Three way classification of the result(win,lose,draw)"
   ]
  },
  {
   "cell_type": "markdown",
   "id": "1a9059a2",
   "metadata": {},
   "source": [
    "### RandomForest Classifier"
   ]
  },
  {
   "cell_type": "code",
   "execution_count": 264,
   "id": "3cfda878",
   "metadata": {},
   "outputs": [
    {
     "data": {
      "text/html": [
       "<style>#sk-container-id-10 {color: black;}#sk-container-id-10 pre{padding: 0;}#sk-container-id-10 div.sk-toggleable {background-color: white;}#sk-container-id-10 label.sk-toggleable__label {cursor: pointer;display: block;width: 100%;margin-bottom: 0;padding: 0.3em;box-sizing: border-box;text-align: center;}#sk-container-id-10 label.sk-toggleable__label-arrow:before {content: \"▸\";float: left;margin-right: 0.25em;color: #696969;}#sk-container-id-10 label.sk-toggleable__label-arrow:hover:before {color: black;}#sk-container-id-10 div.sk-estimator:hover label.sk-toggleable__label-arrow:before {color: black;}#sk-container-id-10 div.sk-toggleable__content {max-height: 0;max-width: 0;overflow: hidden;text-align: left;background-color: #f0f8ff;}#sk-container-id-10 div.sk-toggleable__content pre {margin: 0.2em;color: black;border-radius: 0.25em;background-color: #f0f8ff;}#sk-container-id-10 input.sk-toggleable__control:checked~div.sk-toggleable__content {max-height: 200px;max-width: 100%;overflow: auto;}#sk-container-id-10 input.sk-toggleable__control:checked~label.sk-toggleable__label-arrow:before {content: \"▾\";}#sk-container-id-10 div.sk-estimator input.sk-toggleable__control:checked~label.sk-toggleable__label {background-color: #d4ebff;}#sk-container-id-10 div.sk-label input.sk-toggleable__control:checked~label.sk-toggleable__label {background-color: #d4ebff;}#sk-container-id-10 input.sk-hidden--visually {border: 0;clip: rect(1px 1px 1px 1px);clip: rect(1px, 1px, 1px, 1px);height: 1px;margin: -1px;overflow: hidden;padding: 0;position: absolute;width: 1px;}#sk-container-id-10 div.sk-estimator {font-family: monospace;background-color: #f0f8ff;border: 1px dotted black;border-radius: 0.25em;box-sizing: border-box;margin-bottom: 0.5em;}#sk-container-id-10 div.sk-estimator:hover {background-color: #d4ebff;}#sk-container-id-10 div.sk-parallel-item::after {content: \"\";width: 100%;border-bottom: 1px solid gray;flex-grow: 1;}#sk-container-id-10 div.sk-label:hover label.sk-toggleable__label {background-color: #d4ebff;}#sk-container-id-10 div.sk-serial::before {content: \"\";position: absolute;border-left: 1px solid gray;box-sizing: border-box;top: 0;bottom: 0;left: 50%;z-index: 0;}#sk-container-id-10 div.sk-serial {display: flex;flex-direction: column;align-items: center;background-color: white;padding-right: 0.2em;padding-left: 0.2em;position: relative;}#sk-container-id-10 div.sk-item {position: relative;z-index: 1;}#sk-container-id-10 div.sk-parallel {display: flex;align-items: stretch;justify-content: center;background-color: white;position: relative;}#sk-container-id-10 div.sk-item::before, #sk-container-id-10 div.sk-parallel-item::before {content: \"\";position: absolute;border-left: 1px solid gray;box-sizing: border-box;top: 0;bottom: 0;left: 50%;z-index: -1;}#sk-container-id-10 div.sk-parallel-item {display: flex;flex-direction: column;z-index: 1;position: relative;background-color: white;}#sk-container-id-10 div.sk-parallel-item:first-child::after {align-self: flex-end;width: 50%;}#sk-container-id-10 div.sk-parallel-item:last-child::after {align-self: flex-start;width: 50%;}#sk-container-id-10 div.sk-parallel-item:only-child::after {width: 0;}#sk-container-id-10 div.sk-dashed-wrapped {border: 1px dashed gray;margin: 0 0.4em 0.5em 0.4em;box-sizing: border-box;padding-bottom: 0.4em;background-color: white;}#sk-container-id-10 div.sk-label label {font-family: monospace;font-weight: bold;display: inline-block;line-height: 1.2em;}#sk-container-id-10 div.sk-label-container {text-align: center;}#sk-container-id-10 div.sk-container {/* jupyter's `normalize.less` sets `[hidden] { display: none; }` but bootstrap.min.css set `[hidden] { display: none !important; }` so we also need the `!important` here to be able to override the default hidden behavior on the sphinx rendered scikit-learn.org. See: https://github.com/scikit-learn/scikit-learn/issues/21755 */display: inline-block !important;position: relative;}#sk-container-id-10 div.sk-text-repr-fallback {display: none;}</style><div id=\"sk-container-id-10\" class=\"sk-top-container\"><div class=\"sk-text-repr-fallback\"><pre>RandomForestClassifier(min_samples_split=10, n_estimators=50, random_state=1)</pre><b>In a Jupyter environment, please rerun this cell to show the HTML representation or trust the notebook. <br />On GitHub, the HTML representation is unable to render, please try loading this page with nbviewer.org.</b></div><div class=\"sk-container\" hidden><div class=\"sk-item\"><div class=\"sk-estimator sk-toggleable\"><input class=\"sk-toggleable__control sk-hidden--visually\" id=\"sk-estimator-id-10\" type=\"checkbox\" checked><label for=\"sk-estimator-id-10\" class=\"sk-toggleable__label sk-toggleable__label-arrow\">RandomForestClassifier</label><div class=\"sk-toggleable__content\"><pre>RandomForestClassifier(min_samples_split=10, n_estimators=50, random_state=1)</pre></div></div></div></div></div>"
      ],
      "text/plain": [
       "RandomForestClassifier(min_samples_split=10, n_estimators=50, random_state=1)"
      ]
     },
     "execution_count": 264,
     "metadata": {},
     "output_type": "execute_result"
    }
   ],
   "source": [
    "rf = RandomForestClassifier(n_estimators=50, min_samples_split=10, random_state=1)\n",
    "#train and test data\n",
    "train = df[df[\"date\"] < '2022-01-01']\n",
    "test = df[df[\"date\"] > '2022-01-01']\n",
    "\n",
    "#predictors\n",
    "predictors = [\"venue_code\", \"opp_code\",\"sot\"]\n",
    "\n",
    "#fitting the model\n",
    "rf.fit(train[predictors], train[\"target\"])"
   ]
  },
  {
   "cell_type": "code",
   "execution_count": 265,
   "id": "dd577262",
   "metadata": {},
   "outputs": [],
   "source": [
    "pred = rf.predict(test[predictors])"
   ]
  },
  {
   "cell_type": "code",
   "execution_count": 266,
   "id": "68d95e74",
   "metadata": {},
   "outputs": [
    {
     "data": {
      "text/plain": [
       "0.5129757785467128"
      ]
     },
     "execution_count": 266,
     "metadata": {},
     "output_type": "execute_result"
    }
   ],
   "source": [
    "accuracy = accuracy_score(test[\"target\"], pred)\n",
    "accuracy"
   ]
  },
  {
   "cell_type": "code",
   "execution_count": 267,
   "id": "c894df60",
   "metadata": {},
   "outputs": [
    {
     "name": "stdout",
     "output_type": "stream",
     "text": [
      "Classification Report:\n",
      "               precision    recall  f1-score   support\n",
      "\n",
      "           0       0.54      0.59      0.56       437\n",
      "           1       0.58      0.65      0.61       437\n",
      "           2       0.27      0.18      0.22       282\n",
      "\n",
      "    accuracy                           0.51      1156\n",
      "   macro avg       0.46      0.47      0.46      1156\n",
      "weighted avg       0.49      0.51      0.50      1156\n",
      "\n"
     ]
    },
    {
     "data": {
      "image/png": "[encoded data removed]",
      "text/plain": [
       "<Figure size 576x432 with 1 Axes>"
      ]
     },
     "metadata": {
      "needs_background": "light"
     },
     "output_type": "display_data"
    }
   ],
   "source": [
    "#classification report\n",
    "report = classification_report(test[\"target\"], pred)\n",
    "print(\"Classification Report:\\n\", report)\n",
    "\n",
    "#confusion matrix\n",
    "matrix = confusion_matrix(test[\"target\"], pred)\n",
    "plt.figure(figsize=(8, 6))\n",
    "sns.heatmap(matrix, annot=True, cmap='Blues', fmt='d', cbar=False)\n",
    "plt.xlabel('Predicted')\n",
    "plt.ylabel('True')\n",
    "plt.title('Confusion Matrix')\n",
    "plt.show()"
   ]
  },
  {
   "cell_type": "code",
   "execution_count": 268,
   "id": "a1372b46",
   "metadata": {},
   "outputs": [],
   "source": [
    "#converting the predictions into dataframe\n",
    "prediction_df = pd.DataFrame({\n",
    "    \"date\": test[\"date\"],\n",
    "    \"team\": test[\"team\"],\n",
    "    \"season\": test[\"season\"],\n",
    "    \"round\": test[\"round\"],\n",
    "    \"result\": test[\"result\"],\n",
    "    \"predicted_target\": pred\n",
    "})\n",
    "\n",
    "prediction_df.to_csv(\"test_3way_predictions_rf.csv\", index=False)"
   ]
  },
  {
   "cell_type": "markdown",
   "id": "912097b3",
   "metadata": {},
   "source": [
    "### Prediction on the train set"
   ]
  },
  {
   "cell_type": "code",
   "execution_count": 269,
   "id": "458271fd",
   "metadata": {},
   "outputs": [
    {
     "data": {
      "text/plain": [
       "0.5885458976441917"
      ]
     },
     "execution_count": 269,
     "metadata": {},
     "output_type": "execute_result"
    }
   ],
   "source": [
    "pred_train = rf.predict(train[predictors])\n",
    "\n",
    "accuracy = accuracy_score(train[\"target\"], pred_train)\n",
    "accuracy"
   ]
  },
  {
   "cell_type": "code",
   "execution_count": 270,
   "id": "3978312e",
   "metadata": {},
   "outputs": [
    {
     "name": "stdout",
     "output_type": "stream",
     "text": [
      "Classification Report:\n",
      "               precision    recall  f1-score   support\n",
      "\n",
      "           0       0.60      0.67      0.63      1812\n",
      "           1       0.61      0.72      0.66      1812\n",
      "           2       0.51      0.28      0.36      1300\n",
      "\n",
      "    accuracy                           0.59      4924\n",
      "   macro avg       0.57      0.56      0.55      4924\n",
      "weighted avg       0.58      0.59      0.57      4924\n",
      "\n"
     ]
    },
    {
     "data": {
      "image/png": "[encoded data removed]",
      "text/plain": [
       "<Figure size 576x432 with 1 Axes>"
      ]
     },
     "metadata": {
      "needs_background": "light"
     },
     "output_type": "display_data"
    }
   ],
   "source": [
    "#classification report\n",
    "report = classification_report(train[\"target\"], pred_train)\n",
    "print(\"Classification Report:\\n\", report)\n",
    "\n",
    "#confusion matrix\n",
    "matrix_train = confusion_matrix(train[\"target\"], pred_train)\n",
    "plt.figure(figsize=(8, 6))\n",
    "sns.heatmap(matrix_train, annot=True, cmap='Blues', fmt='d', cbar=False)\n",
    "plt.xlabel('Predicted')\n",
    "plt.ylabel('True')\n",
    "plt.title('Confusion Matrix')\n",
    "plt.show()"
   ]
  },
  {
   "cell_type": "code",
   "execution_count": 271,
   "id": "75b5ef88",
   "metadata": {},
   "outputs": [],
   "source": [
    "#converting the predictions into dataframe\n",
    "prediction_df_train = pd.DataFrame({\n",
    "    \"date\": train[\"date\"],\n",
    "    \"team\": train[\"team\"],\n",
    "    \"season\": train[\"season\"],\n",
    "    \"round\": train[\"round\"],\n",
    "    \"result\": train[\"result\"],\n",
    "    \"predicted_target\": pred_train\n",
    "})\n",
    "\n",
    "\n",
    "prediction_df_train.to_csv(\"train_3way_predictions_rf.csv\", index=False)"
   ]
  },
  {
   "cell_type": "markdown",
   "id": "e342ea22",
   "metadata": {},
   "source": [
    "### xgboost"
   ]
  },
  {
   "cell_type": "code",
   "execution_count": 272,
   "id": "337cf6e7",
   "metadata": {},
   "outputs": [],
   "source": [
    "clf = xgb.XGBClassifier(n_estimators=10, random_state=10)\n",
    "\n",
    "#fit on the training data\n",
    "clf.fit(train[predictors], train[\"target\"])\n",
    "\n",
    "#predictions on the test data\n",
    "xg_pred = clf.predict(test[predictors])"
   ]
  },
  {
   "cell_type": "code",
   "execution_count": 273,
   "id": "a5c8fc02",
   "metadata": {},
   "outputs": [
    {
     "data": {
      "text/plain": [
       "0.5441176470588235"
      ]
     },
     "execution_count": 273,
     "metadata": {},
     "output_type": "execute_result"
    }
   ],
   "source": [
    "accuracy_xgb = accuracy_score(test[\"target\"], xg_pred)\n",
    "accuracy_xgb"
   ]
  },
  {
   "cell_type": "code",
   "execution_count": 274,
   "id": "ae77958a",
   "metadata": {},
   "outputs": [
    {
     "name": "stdout",
     "output_type": "stream",
     "text": [
      "Classification Report:\n",
      "               precision    recall  f1-score   support\n",
      "\n",
      "           0       0.56      0.66      0.61       437\n",
      "           1       0.56      0.72      0.63       437\n",
      "           2       0.32      0.09      0.14       282\n",
      "\n",
      "    accuracy                           0.54      1156\n",
      "   macro avg       0.48      0.49      0.46      1156\n",
      "weighted avg       0.50      0.54      0.50      1156\n",
      "\n"
     ]
    },
    {
     "data": {
      "image/png": "[encoded data removed]",
      "text/plain": [
       "<Figure size 576x432 with 1 Axes>"
      ]
     },
     "metadata": {
      "needs_background": "light"
     },
     "output_type": "display_data"
    }
   ],
   "source": [
    "report_xgb = classification_report(test[\"target\"], xg_pred)\n",
    "print(\"Classification Report:\\n\", report_xgb)\n",
    "\n",
    "matrix_xgb = confusion_matrix(test[\"target\"], xg_pred)\n",
    "plt.figure(figsize=(8, 6))\n",
    "sns.heatmap(matrix_xgb, annot=True, cmap='Blues', fmt='d', cbar=False)\n",
    "plt.xlabel('Predicted')\n",
    "plt.ylabel('True')\n",
    "plt.title('Confusion Matrix')\n",
    "plt.show()"
   ]
  },
  {
   "cell_type": "code",
   "execution_count": 275,
   "id": "414f594c",
   "metadata": {},
   "outputs": [],
   "source": [
    "prediction_df_xg = pd.DataFrame({\n",
    "    \"date\": test[\"date\"],\n",
    "    \"team\": test[\"team\"],\n",
    "    \"season\": test[\"season\"],\n",
    "    \"round\": test[\"round\"],\n",
    "    \"result\": test[\"result\"],\n",
    "    \"predicted_target\": xg_pred\n",
    "})\n",
    "\n",
    "prediction_df_xg.to_csv(\"test_3way_predictions_xgb.csv\", index=False)"
   ]
  },
  {
   "cell_type": "markdown",
   "id": "84f47ef2",
   "metadata": {},
   "source": [
    "### Prediction on train set"
   ]
  },
  {
   "cell_type": "code",
   "execution_count": 276,
   "id": "762d093c",
   "metadata": {},
   "outputs": [
    {
     "data": {
      "text/plain": [
       "0.5664094232331438"
      ]
     },
     "execution_count": 276,
     "metadata": {},
     "output_type": "execute_result"
    }
   ],
   "source": [
    "prediction_train_xgb = clf.predict(train[predictors])\n",
    "\n",
    "accuracy = accuracy_score(train[\"target\"], prediction_train_xgb)\n",
    "accuracy"
   ]
  },
  {
   "cell_type": "code",
   "execution_count": 277,
   "id": "37aaaf2a",
   "metadata": {},
   "outputs": [
    {
     "name": "stdout",
     "output_type": "stream",
     "text": [
      "Classification Report:\n",
      "               precision    recall  f1-score   support\n",
      "\n",
      "           0       0.57      0.67      0.62      1812\n",
      "           1       0.58      0.75      0.65      1812\n",
      "           2       0.48      0.15      0.23      1300\n",
      "\n",
      "    accuracy                           0.57      4924\n",
      "   macro avg       0.54      0.53      0.50      4924\n",
      "weighted avg       0.55      0.57      0.53      4924\n",
      "\n"
     ]
    },
    {
     "data": {
      "image/png": "[encoded data removed]",
      "text/plain": [
       "<Figure size 576x432 with 1 Axes>"
      ]
     },
     "metadata": {
      "needs_background": "light"
     },
     "output_type": "display_data"
    }
   ],
   "source": [
    "report_xgb_train = classification_report(train[\"target\"], prediction_train_xgb)\n",
    "print(\"Classification Report:\\n\", report_xgb_train)\n",
    "\n",
    "matrix_xgb_train = confusion_matrix(train[\"target\"], prediction_train_xgb)\n",
    "plt.figure(figsize=(8, 6))\n",
    "sns.heatmap(matrix_xgb_train, annot=True, cmap='Blues', fmt='d', cbar=False)\n",
    "plt.xlabel('Predicted')\n",
    "plt.ylabel('True')\n",
    "plt.title('Confusion Matrix')\n",
    "plt.show()"
   ]
  },
  {
   "cell_type": "code",
   "execution_count": 278,
   "id": "9d5d53b6",
   "metadata": {},
   "outputs": [],
   "source": [
    "prediction_df_train = pd.DataFrame({\n",
    "    \"date\": train[\"date\"],\n",
    "    \"team\": train[\"team\"],\n",
    "    \"season\": train[\"season\"],\n",
    "    \"round\": train[\"round\"],\n",
    "    \"result\": train[\"result\"],\n",
    "    \"predicted_target\": prediction_train_xgb\n",
    "})\n",
    "\n",
    "prediction_df_train.to_csv(\"train_3way_predictions_xgb.csv\", index=False)"
   ]
  },
  {
   "cell_type": "markdown",
   "id": "ba06a7ca",
   "metadata": {},
   "source": [
    "### Logistic Regression"
   ]
  },
  {
   "cell_type": "code",
   "execution_count": 279,
   "id": "2fc2b267",
   "metadata": {},
   "outputs": [],
   "source": [
    "lr = LogisticRegression(random_state=42)\n",
    "lr.fit(train[predictors], train[\"target\"])\n",
    "\n",
    "#predictions on the test data\n",
    "lr_pred = lr.predict(test[predictors])"
   ]
  },
  {
   "cell_type": "code",
   "execution_count": 280,
   "id": "44f317ba",
   "metadata": {},
   "outputs": [
    {
     "data": {
      "text/plain": [
       "0.5311418685121108"
      ]
     },
     "execution_count": 280,
     "metadata": {},
     "output_type": "execute_result"
    }
   ],
   "source": [
    "accuracy_lr = accuracy_score(test[\"target\"], lr_pred)\n",
    "accuracy_lr"
   ]
  },
  {
   "cell_type": "code",
   "execution_count": 281,
   "id": "ebb4ea73",
   "metadata": {},
   "outputs": [
    {
     "name": "stdout",
     "output_type": "stream",
     "text": [
      "Classification Report:\n",
      "               precision    recall  f1-score   support\n",
      "\n",
      "           0       0.50      0.75      0.60       437\n",
      "           1       0.57      0.65      0.61       437\n",
      "           2       0.00      0.00      0.00       282\n",
      "\n",
      "    accuracy                           0.53      1156\n",
      "   macro avg       0.36      0.47      0.40      1156\n",
      "weighted avg       0.41      0.53      0.46      1156\n",
      "\n"
     ]
    },
    {
     "data": {
      "image/png": "[encoded data removed]",
      "text/plain": [
       "<Figure size 576x432 with 1 Axes>"
      ]
     },
     "metadata": {
      "needs_background": "light"
     },
     "output_type": "display_data"
    }
   ],
   "source": [
    "report_lr = classification_report(test[\"target\"], lr_pred)\n",
    "print(\"Classification Report:\\n\", report_lr)\n",
    "\n",
    "matrix_lr = confusion_matrix(test[\"target\"], lr_pred)\n",
    "plt.figure(figsize=(8, 6))\n",
    "sns.heatmap(matrix_lr, annot=True, cmap='Blues', fmt='d', cbar=False)\n",
    "plt.xlabel('Predicted')\n",
    "plt.ylabel('True')\n",
    "plt.title('Confusion Matrix')\n",
    "plt.show()"
   ]
  },
  {
   "cell_type": "code",
   "execution_count": 282,
   "id": "eadfadb7",
   "metadata": {},
   "outputs": [],
   "source": [
    "prediction_df_lr = pd.DataFrame({\n",
    "    \"date\": test[\"date\"],\n",
    "    \"team\": test[\"team\"],\n",
    "    \"season\": test[\"season\"],\n",
    "    \"round\": test[\"round\"],\n",
    "    \"result\": test[\"result\"],\n",
    "    \"predicted_target\": lr_pred\n",
    "})\n",
    "\n",
    "prediction_df_lr.to_csv(\"test_3way_predictions_lr.csv\", index=False)"
   ]
  },
  {
   "cell_type": "markdown",
   "id": "a8b0754b",
   "metadata": {},
   "source": [
    "### Prediction on the train set"
   ]
  },
  {
   "cell_type": "code",
   "execution_count": 283,
   "id": "beb511df",
   "metadata": {},
   "outputs": [
    {
     "data": {
      "text/plain": [
       "0.5073111291632819"
      ]
     },
     "execution_count": 283,
     "metadata": {},
     "output_type": "execute_result"
    }
   ],
   "source": [
    "prediction_train_lr = lr.predict(train[predictors])\n",
    "\n",
    "accuracy = accuracy_score(train[\"target\"], prediction_train_lr)\n",
    "accuracy"
   ]
  },
  {
   "cell_type": "code",
   "execution_count": 284,
   "id": "0aa5f11a",
   "metadata": {},
   "outputs": [
    {
     "name": "stdout",
     "output_type": "stream",
     "text": [
      "Classification Report:\n",
      "               precision    recall  f1-score   support\n",
      "\n",
      "           0       0.48      0.71      0.57      1812\n",
      "           1       0.55      0.67      0.60      1812\n",
      "           2       0.00      0.00      0.00      1300\n",
      "\n",
      "    accuracy                           0.51      4924\n",
      "   macro avg       0.34      0.46      0.39      4924\n",
      "weighted avg       0.38      0.51      0.43      4924\n",
      "\n"
     ]
    },
    {
     "data": {
      "image/png": "[encoded data removed]",
      "text/plain": [
       "<Figure size 576x432 with 1 Axes>"
      ]
     },
     "metadata": {
      "needs_background": "light"
     },
     "output_type": "display_data"
    }
   ],
   "source": [
    "report_lr_train = classification_report(train[\"target\"], prediction_train_lr)\n",
    "print(\"Classification Report:\\n\", report_lr_train)\n",
    "\n",
    "matrix_lr_train = confusion_matrix(train[\"target\"], prediction_train_lr)\n",
    "plt.figure(figsize=(8, 6))\n",
    "sns.heatmap(matrix_lr_train, annot=True, cmap='Blues', fmt='d', cbar=False)\n",
    "plt.xlabel('Predicted')\n",
    "plt.ylabel('True')\n",
    "plt.title('Confusion Matrix')\n",
    "plt.show()"
   ]
  },
  {
   "cell_type": "code",
   "execution_count": 285,
   "id": "bd95e7a6",
   "metadata": {},
   "outputs": [],
   "source": [
    "prediction_df_train = pd.DataFrame({\n",
    "    \"date\": train[\"date\"],\n",
    "    \"team\": train[\"team\"],\n",
    "    \"season\": train[\"season\"],\n",
    "    \"round\": train[\"round\"],\n",
    "    \"result\": train[\"result\"],\n",
    "    \"predicted_target\": prediction_train_lr\n",
    "})\n",
    "\n",
    "prediction_df_train.to_csv(\"train_3way_predictions_lr.csv\", index=False)"
   ]
  },
  {
   "cell_type": "markdown",
   "id": "bc301568",
   "metadata": {},
   "source": [
    "#### From the above results we can see xgboost perfomed well when compared with the other two models. Logistic Regression performed very bad when it comes to predicting the draw result. Now we will try to predict the result in a two way and see if we can improve the performance of the models."
   ]
  },
  {
   "cell_type": "markdown",
   "id": "152a7325",
   "metadata": {},
   "source": [
    "### Two way classification of the result(Win and Lose)"
   ]
  },
  {
   "cell_type": "code",
   "execution_count": 286,
   "id": "dd1ce8cf",
   "metadata": {},
   "outputs": [],
   "source": [
    "df[\"target\"] = (df[\"result\"] == \"W\").astype(\"int\")"
   ]
  },
  {
   "cell_type": "code",
   "execution_count": 287,
   "id": "8accc41f",
   "metadata": {},
   "outputs": [
    {
     "data": {
      "text/html": [
       "<div>\n",
       "<style scoped>\n",
       "    .dataframe tbody tr th:only-of-type {\n",
       "        vertical-align: middle;\n",
       "    }\n",
       "\n",
       "    .dataframe tbody tr th {\n",
       "        vertical-align: top;\n",
       "    }\n",
       "\n",
       "    .dataframe thead th {\n",
       "        text-align: right;\n",
       "    }\n",
       "</style>\n",
       "<table border=\"1\" class=\"dataframe\">\n",
       "  <thead>\n",
       "    <tr style=\"text-align: right;\">\n",
       "      <th></th>\n",
       "      <th>date</th>\n",
       "      <th>time</th>\n",
       "      <th>comp</th>\n",
       "      <th>round</th>\n",
       "      <th>day</th>\n",
       "      <th>venue</th>\n",
       "      <th>result</th>\n",
       "      <th>gf</th>\n",
       "      <th>ga</th>\n",
       "      <th>opponent</th>\n",
       "      <th>poss</th>\n",
       "      <th>formation</th>\n",
       "      <th>sh</th>\n",
       "      <th>sot</th>\n",
       "      <th>pk</th>\n",
       "      <th>pkatt</th>\n",
       "      <th>season</th>\n",
       "      <th>team</th>\n",
       "      <th>venue_code</th>\n",
       "      <th>opp_code</th>\n",
       "      <th>target</th>\n",
       "    </tr>\n",
       "  </thead>\n",
       "  <tbody>\n",
       "    <tr>\n",
       "      <th>0</th>\n",
       "      <td>2022-08-13</td>\n",
       "      <td>21:00</td>\n",
       "      <td>La Liga</td>\n",
       "      <td>Matchweek 1</td>\n",
       "      <td>Sat</td>\n",
       "      <td>Home</td>\n",
       "      <td>D</td>\n",
       "      <td>0</td>\n",
       "      <td>0.0</td>\n",
       "      <td>Rayo Vallecano</td>\n",
       "      <td>67.0</td>\n",
       "      <td>4-3-3</td>\n",
       "      <td>21.0</td>\n",
       "      <td>5</td>\n",
       "      <td>0.0</td>\n",
       "      <td>0.0</td>\n",
       "      <td>2022</td>\n",
       "      <td>Barcelona</td>\n",
       "      <td>1</td>\n",
       "      <td>22</td>\n",
       "      <td>0</td>\n",
       "    </tr>\n",
       "    <tr>\n",
       "      <th>1</th>\n",
       "      <td>2022-08-21</td>\n",
       "      <td>22:00</td>\n",
       "      <td>La Liga</td>\n",
       "      <td>Matchweek 2</td>\n",
       "      <td>Sun</td>\n",
       "      <td>Away</td>\n",
       "      <td>W</td>\n",
       "      <td>4</td>\n",
       "      <td>1.0</td>\n",
       "      <td>Real Sociedad</td>\n",
       "      <td>58.0</td>\n",
       "      <td>3-2-4-1</td>\n",
       "      <td>15.0</td>\n",
       "      <td>7</td>\n",
       "      <td>0.0</td>\n",
       "      <td>0.0</td>\n",
       "      <td>2022</td>\n",
       "      <td>Barcelona</td>\n",
       "      <td>0</td>\n",
       "      <td>24</td>\n",
       "      <td>1</td>\n",
       "    </tr>\n",
       "    <tr>\n",
       "      <th>2</th>\n",
       "      <td>2022-08-28</td>\n",
       "      <td>19:30</td>\n",
       "      <td>La Liga</td>\n",
       "      <td>Matchweek 3</td>\n",
       "      <td>Sun</td>\n",
       "      <td>Home</td>\n",
       "      <td>W</td>\n",
       "      <td>4</td>\n",
       "      <td>0.0</td>\n",
       "      <td>Valladolid</td>\n",
       "      <td>67.0</td>\n",
       "      <td>4-3-3</td>\n",
       "      <td>24.0</td>\n",
       "      <td>9</td>\n",
       "      <td>0.0</td>\n",
       "      <td>0.0</td>\n",
       "      <td>2022</td>\n",
       "      <td>Barcelona</td>\n",
       "      <td>1</td>\n",
       "      <td>28</td>\n",
       "      <td>1</td>\n",
       "    </tr>\n",
       "    <tr>\n",
       "      <th>3</th>\n",
       "      <td>2022-09-03</td>\n",
       "      <td>21:00</td>\n",
       "      <td>La Liga</td>\n",
       "      <td>Matchweek 4</td>\n",
       "      <td>Sat</td>\n",
       "      <td>Away</td>\n",
       "      <td>W</td>\n",
       "      <td>3</td>\n",
       "      <td>0.0</td>\n",
       "      <td>Sevilla</td>\n",
       "      <td>54.0</td>\n",
       "      <td>4-3-3</td>\n",
       "      <td>18.0</td>\n",
       "      <td>5</td>\n",
       "      <td>0.0</td>\n",
       "      <td>0.0</td>\n",
       "      <td>2022</td>\n",
       "      <td>Barcelona</td>\n",
       "      <td>0</td>\n",
       "      <td>25</td>\n",
       "      <td>1</td>\n",
       "    </tr>\n",
       "    <tr>\n",
       "      <th>5</th>\n",
       "      <td>2022-09-10</td>\n",
       "      <td>18:30</td>\n",
       "      <td>La Liga</td>\n",
       "      <td>Matchweek 5</td>\n",
       "      <td>Sat</td>\n",
       "      <td>Away</td>\n",
       "      <td>W</td>\n",
       "      <td>4</td>\n",
       "      <td>0.0</td>\n",
       "      <td>Cádiz</td>\n",
       "      <td>70.0</td>\n",
       "      <td>4-3-3</td>\n",
       "      <td>16.0</td>\n",
       "      <td>8</td>\n",
       "      <td>0.0</td>\n",
       "      <td>0.0</td>\n",
       "      <td>2022</td>\n",
       "      <td>Barcelona</td>\n",
       "      <td>0</td>\n",
       "      <td>7</td>\n",
       "      <td>1</td>\n",
       "    </tr>\n",
       "  </tbody>\n",
       "</table>\n",
       "</div>"
      ],
      "text/plain": [
       "        date   time     comp        round  day venue result  gf   ga  \\\n",
       "0 2022-08-13  21:00  La Liga  Matchweek 1  Sat  Home      D   0  0.0   \n",
       "1 2022-08-21  22:00  La Liga  Matchweek 2  Sun  Away      W   4  1.0   \n",
       "2 2022-08-28  19:30  La Liga  Matchweek 3  Sun  Home      W   4  0.0   \n",
       "3 2022-09-03  21:00  La Liga  Matchweek 4  Sat  Away      W   3  0.0   \n",
       "5 2022-09-10  18:30  La Liga  Matchweek 5  Sat  Away      W   4  0.0   \n",
       "\n",
       "         opponent  poss formation    sh  sot   pk  pkatt  season       team  \\\n",
       "0  Rayo Vallecano  67.0     4-3-3  21.0    5  0.0    0.0    2022  Barcelona   \n",
       "1   Real Sociedad  58.0   3-2-4-1  15.0    7  0.0    0.0    2022  Barcelona   \n",
       "2      Valladolid  67.0     4-3-3  24.0    9  0.0    0.0    2022  Barcelona   \n",
       "3         Sevilla  54.0     4-3-3  18.0    5  0.0    0.0    2022  Barcelona   \n",
       "5           Cádiz  70.0     4-3-3  16.0    8  0.0    0.0    2022  Barcelona   \n",
       "\n",
       "   venue_code  opp_code  target  \n",
       "0           1        22       0  \n",
       "1           0        24       1  \n",
       "2           1        28       1  \n",
       "3           0        25       1  \n",
       "5           0         7       1  "
      ]
     },
     "execution_count": 287,
     "metadata": {},
     "output_type": "execute_result"
    }
   ],
   "source": [
    "df.head()"
   ]
  },
  {
   "cell_type": "markdown",
   "id": "b0435441",
   "metadata": {},
   "source": [
    "### RandomForest Classifier"
   ]
  },
  {
   "cell_type": "code",
   "execution_count": 288,
   "id": "3075fa15",
   "metadata": {},
   "outputs": [
    {
     "data": {
      "text/html": [
       "<style>#sk-container-id-11 {color: black;}#sk-container-id-11 pre{padding: 0;}#sk-container-id-11 div.sk-toggleable {background-color: white;}#sk-container-id-11 label.sk-toggleable__label {cursor: pointer;display: block;width: 100%;margin-bottom: 0;padding: 0.3em;box-sizing: border-box;text-align: center;}#sk-container-id-11 label.sk-toggleable__label-arrow:before {content: \"▸\";float: left;margin-right: 0.25em;color: #696969;}#sk-container-id-11 label.sk-toggleable__label-arrow:hover:before {color: black;}#sk-container-id-11 div.sk-estimator:hover label.sk-toggleable__label-arrow:before {color: black;}#sk-container-id-11 div.sk-toggleable__content {max-height: 0;max-width: 0;overflow: hidden;text-align: left;background-color: #f0f8ff;}#sk-container-id-11 div.sk-toggleable__content pre {margin: 0.2em;color: black;border-radius: 0.25em;background-color: #f0f8ff;}#sk-container-id-11 input.sk-toggleable__control:checked~div.sk-toggleable__content {max-height: 200px;max-width: 100%;overflow: auto;}#sk-container-id-11 input.sk-toggleable__control:checked~label.sk-toggleable__label-arrow:before {content: \"▾\";}#sk-container-id-11 div.sk-estimator input.sk-toggleable__control:checked~label.sk-toggleable__label {background-color: #d4ebff;}#sk-container-id-11 div.sk-label input.sk-toggleable__control:checked~label.sk-toggleable__label {background-color: #d4ebff;}#sk-container-id-11 input.sk-hidden--visually {border: 0;clip: rect(1px 1px 1px 1px);clip: rect(1px, 1px, 1px, 1px);height: 1px;margin: -1px;overflow: hidden;padding: 0;position: absolute;width: 1px;}#sk-container-id-11 div.sk-estimator {font-family: monospace;background-color: #f0f8ff;border: 1px dotted black;border-radius: 0.25em;box-sizing: border-box;margin-bottom: 0.5em;}#sk-container-id-11 div.sk-estimator:hover {background-color: #d4ebff;}#sk-container-id-11 div.sk-parallel-item::after {content: \"\";width: 100%;border-bottom: 1px solid gray;flex-grow: 1;}#sk-container-id-11 div.sk-label:hover label.sk-toggleable__label {background-color: #d4ebff;}#sk-container-id-11 div.sk-serial::before {content: \"\";position: absolute;border-left: 1px solid gray;box-sizing: border-box;top: 0;bottom: 0;left: 50%;z-index: 0;}#sk-container-id-11 div.sk-serial {display: flex;flex-direction: column;align-items: center;background-color: white;padding-right: 0.2em;padding-left: 0.2em;position: relative;}#sk-container-id-11 div.sk-item {position: relative;z-index: 1;}#sk-container-id-11 div.sk-parallel {display: flex;align-items: stretch;justify-content: center;background-color: white;position: relative;}#sk-container-id-11 div.sk-item::before, #sk-container-id-11 div.sk-parallel-item::before {content: \"\";position: absolute;border-left: 1px solid gray;box-sizing: border-box;top: 0;bottom: 0;left: 50%;z-index: -1;}#sk-container-id-11 div.sk-parallel-item {display: flex;flex-direction: column;z-index: 1;position: relative;background-color: white;}#sk-container-id-11 div.sk-parallel-item:first-child::after {align-self: flex-end;width: 50%;}#sk-container-id-11 div.sk-parallel-item:last-child::after {align-self: flex-start;width: 50%;}#sk-container-id-11 div.sk-parallel-item:only-child::after {width: 0;}#sk-container-id-11 div.sk-dashed-wrapped {border: 1px dashed gray;margin: 0 0.4em 0.5em 0.4em;box-sizing: border-box;padding-bottom: 0.4em;background-color: white;}#sk-container-id-11 div.sk-label label {font-family: monospace;font-weight: bold;display: inline-block;line-height: 1.2em;}#sk-container-id-11 div.sk-label-container {text-align: center;}#sk-container-id-11 div.sk-container {/* jupyter's `normalize.less` sets `[hidden] { display: none; }` but bootstrap.min.css set `[hidden] { display: none !important; }` so we also need the `!important` here to be able to override the default hidden behavior on the sphinx rendered scikit-learn.org. See: https://github.com/scikit-learn/scikit-learn/issues/21755 */display: inline-block !important;position: relative;}#sk-container-id-11 div.sk-text-repr-fallback {display: none;}</style><div id=\"sk-container-id-11\" class=\"sk-top-container\"><div class=\"sk-text-repr-fallback\"><pre>RandomForestClassifier(min_samples_split=10, n_estimators=50, random_state=1)</pre><b>In a Jupyter environment, please rerun this cell to show the HTML representation or trust the notebook. <br />On GitHub, the HTML representation is unable to render, please try loading this page with nbviewer.org.</b></div><div class=\"sk-container\" hidden><div class=\"sk-item\"><div class=\"sk-estimator sk-toggleable\"><input class=\"sk-toggleable__control sk-hidden--visually\" id=\"sk-estimator-id-11\" type=\"checkbox\" checked><label for=\"sk-estimator-id-11\" class=\"sk-toggleable__label sk-toggleable__label-arrow\">RandomForestClassifier</label><div class=\"sk-toggleable__content\"><pre>RandomForestClassifier(min_samples_split=10, n_estimators=50, random_state=1)</pre></div></div></div></div></div>"
      ],
      "text/plain": [
       "RandomForestClassifier(min_samples_split=10, n_estimators=50, random_state=1)"
      ]
     },
     "execution_count": 288,
     "metadata": {},
     "output_type": "execute_result"
    }
   ],
   "source": [
    "rf = RandomForestClassifier(n_estimators=50, min_samples_split=10, random_state=1)\n",
    "#train and test data\n",
    "train = df[df[\"date\"] < '2022-01-01']\n",
    "test = df[df[\"date\"] > '2022-01-01']\n",
    "\n",
    "#predictors\n",
    "predictors = [\"venue_code\", \"opp_code\",\"sot\"]\n",
    "\n",
    "#fitting the model\n",
    "rf.fit(train[predictors], train[\"target\"])"
   ]
  },
  {
   "cell_type": "code",
   "execution_count": 289,
   "id": "e73ceea3",
   "metadata": {},
   "outputs": [],
   "source": [
    "#prediction on test data\n",
    "prediction = rf.predict(test[predictors])"
   ]
  },
  {
   "cell_type": "code",
   "execution_count": 290,
   "id": "d96ed429",
   "metadata": {},
   "outputs": [
    {
     "data": {
      "text/plain": [
       "0.6955017301038062"
      ]
     },
     "execution_count": 290,
     "metadata": {},
     "output_type": "execute_result"
    }
   ],
   "source": [
    "#accuracy\n",
    "accuracy = accuracy_score(test[\"target\"], prediction)\n",
    "accuracy"
   ]
  },
  {
   "cell_type": "code",
   "execution_count": 291,
   "id": "52f6c13a",
   "metadata": {},
   "outputs": [
    {
     "name": "stdout",
     "output_type": "stream",
     "text": [
      "Classification Report:\n",
      "               precision    recall  f1-score   support\n",
      "\n",
      "           0       0.72      0.83      0.77       719\n",
      "           1       0.63      0.48      0.54       437\n",
      "\n",
      "    accuracy                           0.70      1156\n",
      "   macro avg       0.68      0.65      0.66      1156\n",
      "weighted avg       0.69      0.70      0.69      1156\n",
      "\n"
     ]
    }
   ],
   "source": [
    "#classification report\n",
    "report = classification_report(test[\"target\"], prediction)\n",
    "print(\"Classification Report:\\n\", report)"
   ]
  },
  {
   "cell_type": "code",
   "execution_count": 292,
   "id": "60be5889",
   "metadata": {},
   "outputs": [
    {
     "data": {
      "image/png": "[encoded data removed]",
      "text/plain": [
       "<Figure size 576x432 with 1 Axes>"
      ]
     },
     "metadata": {
      "needs_background": "light"
     },
     "output_type": "display_data"
    }
   ],
   "source": [
    "matrix = confusion_matrix(test[\"target\"], prediction)\n",
    "plt.figure(figsize=(8, 6))\n",
    "sns.heatmap(matrix, annot=True, cmap='Blues', fmt='d', cbar=False)\n",
    "plt.xlabel('Predicted')\n",
    "plt.ylabel('True')\n",
    "plt.title('Confusion Matrix')\n",
    "plt.show()"
   ]
  },
  {
   "cell_type": "code",
   "execution_count": 293,
   "id": "b6ff5d05",
   "metadata": {},
   "outputs": [
    {
     "data": {
      "image/png": "[encoded data removed]",
      "text/plain": [
       "<Figure size 432x288 with 1 Axes>"
      ]
     },
     "metadata": {
      "needs_background": "light"
     },
     "output_type": "display_data"
    }
   ],
   "source": [
    "fpr, tpr, thresholds = roc_curve(test[\"target\"], prediction)\n",
    "roc_auc = auc(fpr, tpr)\n",
    "\n",
    "# Plot ROC curve\n",
    "plt.figure()\n",
    "plt.plot(fpr, tpr, color='darkorange', lw=2, label='ROC curve (area = %0.2f)' % roc_auc)\n",
    "plt.plot([0, 1], [0, 1], color='navy', lw=2, linestyle='--')\n",
    "plt.xlim([0.0, 1.0])\n",
    "plt.ylim([0.0, 1.05])\n",
    "plt.xlabel('False Positive Rate')\n",
    "plt.ylabel('True Positive Rate')\n",
    "plt.title('Receiver Operating Characteristic')\n",
    "plt.legend(loc=\"lower right\")\n",
    "plt.show()\n"
   ]
  },
  {
   "cell_type": "code",
   "execution_count": 294,
   "id": "f7f4dece",
   "metadata": {},
   "outputs": [],
   "source": [
    "#converting the predictions into dataframe\n",
    "prediction_df = pd.DataFrame({\n",
    "    \"date\": test[\"date\"],\n",
    "    \"team\": test[\"team\"],\n",
    "    \"season\": test[\"season\"],\n",
    "    \"round\": test[\"round\"],\n",
    "    \"result\": test[\"result\"],\n",
    "    \"predicted_target\": prediction\n",
    "})\n"
   ]
  },
  {
   "cell_type": "code",
   "execution_count": 295,
   "id": "d3cd533a",
   "metadata": {},
   "outputs": [],
   "source": [
    "prediction_df.to_csv(\"test_predictions_rf.csv\", index=False)"
   ]
  },
  {
   "cell_type": "markdown",
   "id": "e5eef40a",
   "metadata": {},
   "source": [
    "### Prediction on train set"
   ]
  },
  {
   "cell_type": "code",
   "execution_count": 296,
   "id": "b6007528",
   "metadata": {},
   "outputs": [],
   "source": [
    "prediction_train = rf.predict(train[predictors])"
   ]
  },
  {
   "cell_type": "code",
   "execution_count": 297,
   "id": "f411d870",
   "metadata": {},
   "outputs": [
    {
     "data": {
      "text/plain": [
       "0.7475629569455727"
      ]
     },
     "execution_count": 297,
     "metadata": {},
     "output_type": "execute_result"
    }
   ],
   "source": [
    "#accuracy\n",
    "accuracy = accuracy_score(train[\"target\"], prediction_train)\n",
    "accuracy"
   ]
  },
  {
   "cell_type": "code",
   "execution_count": 298,
   "id": "6ab0ee73",
   "metadata": {},
   "outputs": [
    {
     "name": "stdout",
     "output_type": "stream",
     "text": [
      "Classification Report:\n",
      "               precision    recall  f1-score   support\n",
      "\n",
      "           0       0.77      0.86      0.81      3112\n",
      "           1       0.70      0.55      0.62      1812\n",
      "\n",
      "    accuracy                           0.75      4924\n",
      "   macro avg       0.73      0.71      0.71      4924\n",
      "weighted avg       0.74      0.75      0.74      4924\n",
      "\n"
     ]
    }
   ],
   "source": [
    "#classification report\n",
    "report = classification_report(train[\"target\"], prediction_train)\n",
    "print(\"Classification Report:\\n\", report)"
   ]
  },
  {
   "cell_type": "code",
   "execution_count": 299,
   "id": "3c4b64c6",
   "metadata": {},
   "outputs": [
    {
     "data": {
      "image/png": "[encoded data removed]",
      "text/plain": [
       "<Figure size 576x432 with 1 Axes>"
      ]
     },
     "metadata": {
      "needs_background": "light"
     },
     "output_type": "display_data"
    }
   ],
   "source": [
    "#confusion matrix\n",
    "matrix_train = confusion_matrix(train[\"target\"], prediction_train)\n",
    "plt.figure(figsize=(8, 6))\n",
    "sns.heatmap(matrix_train, annot=True, cmap='Blues', fmt='d', cbar=False,\n",
    "            xticklabels=['Predicted 0', 'Predicted 1'],\n",
    "            yticklabels=['True 0', 'True 1'])\n",
    "plt.xlabel('Predicted')\n",
    "plt.ylabel('True')\n",
    "plt.title('Confusion Matrix')\n",
    "plt.show()"
   ]
  },
  {
   "cell_type": "code",
   "execution_count": 300,
   "id": "f26d11e9",
   "metadata": {},
   "outputs": [
    {
     "data": {
      "image/png": "[encoded data removed]",
      "text/plain": [
       "<Figure size 432x288 with 1 Axes>"
      ]
     },
     "metadata": {
      "needs_background": "light"
     },
     "output_type": "display_data"
    }
   ],
   "source": [
    "fpr, tpr, thresholds = roc_curve(train[\"target\"], prediction_train)\n",
    "roc_auc = auc(fpr, tpr)\n",
    "\n",
    "# Plot ROC curve\n",
    "plt.figure()\n",
    "plt.plot(fpr, tpr, color='darkorange', lw=2, label='ROC curve (area = %0.2f)' % roc_auc)\n",
    "plt.plot([0, 1], [0, 1], color='navy', lw=2, linestyle='--')\n",
    "plt.xlim([0.0, 1.0])\n",
    "plt.ylim([0.0, 1.05])\n",
    "plt.xlabel('False Positive Rate')\n",
    "plt.ylabel('True Positive Rate')\n",
    "plt.title('Receiver Operating Characteristic')\n",
    "plt.legend(loc=\"lower right\")\n",
    "plt.show()\n"
   ]
  },
  {
   "cell_type": "code",
   "execution_count": 301,
   "id": "b26a75e3",
   "metadata": {},
   "outputs": [],
   "source": [
    "#converting the predictions into dataframe\n",
    "prediction_df_train = pd.DataFrame({\n",
    "    \"date\": train[\"date\"],\n",
    "    \"team\": train[\"team\"],\n",
    "    \"season\": train[\"season\"],\n",
    "    \"round\": train[\"round\"],\n",
    "    \"result\": train[\"result\"],\n",
    "    \"predicted_target\": prediction_train\n",
    "})\n"
   ]
  },
  {
   "cell_type": "code",
   "execution_count": 302,
   "id": "90680155",
   "metadata": {},
   "outputs": [],
   "source": [
    "prediction_df_train.to_csv(\"train_predictions_rf.csv\", index=False)"
   ]
  },
  {
   "cell_type": "markdown",
   "id": "da346dd5",
   "metadata": {},
   "source": [
    "### xgboost"
   ]
  },
  {
   "cell_type": "code",
   "execution_count": 303,
   "id": "3b25c774",
   "metadata": {},
   "outputs": [],
   "source": [
    "clf = xgb.XGBClassifier(n_estimators=10, random_state=10)\n",
    "\n",
    "#fit on the training data\n",
    "clf.fit(train[predictors], train[\"target\"])\n",
    "\n",
    "#predictions on the test data\n",
    "xg_pred = clf.predict(test[predictors])"
   ]
  },
  {
   "cell_type": "code",
   "execution_count": 304,
   "id": "bbcd2d91",
   "metadata": {},
   "outputs": [
    {
     "data": {
      "text/plain": [
       "0.7093425605536332"
      ]
     },
     "execution_count": 304,
     "metadata": {},
     "output_type": "execute_result"
    }
   ],
   "source": [
    "accuracy_xgb = accuracy_score(test[\"target\"], xg_pred)\n",
    "accuracy_xgb"
   ]
  },
  {
   "cell_type": "code",
   "execution_count": 305,
   "id": "8a44e774",
   "metadata": {},
   "outputs": [
    {
     "name": "stdout",
     "output_type": "stream",
     "text": [
      "Classification Report:\n",
      "               precision    recall  f1-score   support\n",
      "\n",
      "           0       0.74      0.82      0.78       719\n",
      "           1       0.64      0.53      0.58       437\n",
      "\n",
      "    accuracy                           0.71      1156\n",
      "   macro avg       0.69      0.67      0.68      1156\n",
      "weighted avg       0.70      0.71      0.70      1156\n",
      "\n"
     ]
    }
   ],
   "source": [
    "report_xgb = classification_report(test[\"target\"], xg_pred)\n",
    "print(\"Classification Report:\\n\", report_xgb)"
   ]
  },
  {
   "cell_type": "code",
   "execution_count": 306,
   "id": "5346f883",
   "metadata": {},
   "outputs": [
    {
     "data": {
      "image/png": "[encoded data removed]",
      "text/plain": [
       "<Figure size 576x432 with 1 Axes>"
      ]
     },
     "metadata": {
      "needs_background": "light"
     },
     "output_type": "display_data"
    }
   ],
   "source": [
    "matrix_xgb = confusion_matrix(test[\"target\"], xg_pred)\n",
    "plt.figure(figsize=(8, 6))\n",
    "sns.heatmap(matrix_xgb, annot=True, cmap='Blues', fmt='d', cbar=False)\n",
    "plt.xlabel('Predicted')\n",
    "plt.ylabel('True')\n",
    "plt.title('Confusion Matrix')\n",
    "plt.show()"
   ]
  },
  {
   "cell_type": "code",
   "execution_count": 307,
   "id": "940df020",
   "metadata": {},
   "outputs": [
    {
     "data": {
      "image/png": "[encoded data removed]",
      "text/plain": [
       "<Figure size 432x288 with 1 Axes>"
      ]
     },
     "metadata": {
      "needs_background": "light"
     },
     "output_type": "display_data"
    }
   ],
   "source": [
    "fpr, tpr, thresholds = roc_curve(test[\"target\"], xg_pred)\n",
    "roc_auc = auc(fpr, tpr)\n",
    "\n",
    "# Plot ROC curve\n",
    "plt.figure()\n",
    "plt.plot(fpr, tpr, color='darkorange', lw=2, label='ROC curve (area = %0.2f)' % roc_auc)\n",
    "plt.plot([0, 1], [0, 1], color='navy', lw=2, linestyle='--')\n",
    "plt.xlim([0.0, 1.0])\n",
    "plt.ylim([0.0, 1.05])\n",
    "plt.xlabel('False Positive Rate')\n",
    "plt.ylabel('True Positive Rate')\n",
    "plt.title('Receiver Operating Characteristic')\n",
    "plt.legend(loc=\"lower right\")\n",
    "plt.show()\n"
   ]
  },
  {
   "cell_type": "code",
   "execution_count": 308,
   "id": "8ceb2209",
   "metadata": {},
   "outputs": [],
   "source": [
    "prediction_df_xg = pd.DataFrame({\n",
    "    \"date\": test[\"date\"],\n",
    "    \"team\": test[\"team\"],\n",
    "    \"season\": test[\"season\"],\n",
    "    \"round\": test[\"round\"],\n",
    "    \"result\": test[\"result\"],\n",
    "    \"predicted_target\": xg_pred\n",
    "})"
   ]
  },
  {
   "cell_type": "code",
   "execution_count": 309,
   "id": "e168678e",
   "metadata": {},
   "outputs": [],
   "source": [
    "prediction_df_xg.to_csv(\"test_predictions_xgb.csv\", index=False)"
   ]
  },
  {
   "cell_type": "markdown",
   "id": "55b12ae4",
   "metadata": {},
   "source": [
    "### Prediction on train set"
   ]
  },
  {
   "cell_type": "code",
   "execution_count": 310,
   "id": "9b3bca5c",
   "metadata": {},
   "outputs": [],
   "source": [
    "prediction_train_xgb = clf.predict(train[predictors])"
   ]
  },
  {
   "cell_type": "code",
   "execution_count": 311,
   "id": "406d51e4",
   "metadata": {},
   "outputs": [
    {
     "data": {
      "text/plain": [
       "0.7254264825345248"
      ]
     },
     "execution_count": 311,
     "metadata": {},
     "output_type": "execute_result"
    }
   ],
   "source": [
    "accuracy = accuracy_score(train[\"target\"], prediction_train_xgb)\n",
    "accuracy"
   ]
  },
  {
   "cell_type": "code",
   "execution_count": 312,
   "id": "76ffb8ae",
   "metadata": {},
   "outputs": [
    {
     "name": "stdout",
     "output_type": "stream",
     "text": [
      "Classification Report:\n",
      "               precision    recall  f1-score   support\n",
      "\n",
      "           0       0.76      0.83      0.79      3112\n",
      "           1       0.65      0.54      0.59      1812\n",
      "\n",
      "    accuracy                           0.73      4924\n",
      "   macro avg       0.71      0.69      0.69      4924\n",
      "weighted avg       0.72      0.73      0.72      4924\n",
      "\n"
     ]
    }
   ],
   "source": [
    "report_xgb_train = classification_report(train[\"target\"], prediction_train_xgb)\n",
    "print(\"Classification Report:\\n\", report_xgb_train)"
   ]
  },
  {
   "cell_type": "code",
   "execution_count": 313,
   "id": "44c6aec9",
   "metadata": {},
   "outputs": [
    {
     "data": {
      "image/png": "[encoded data removed]",
      "text/plain": [
       "<Figure size 576x432 with 1 Axes>"
      ]
     },
     "metadata": {
      "needs_background": "light"
     },
     "output_type": "display_data"
    }
   ],
   "source": [
    "matrix_xgb_train = confusion_matrix(train[\"target\"], prediction_train_xgb)\n",
    "plt.figure(figsize=(8, 6))\n",
    "sns.heatmap(matrix_xgb_train, annot=True, cmap='Blues', fmt='d', cbar=False)\n",
    "plt.xlabel('Predicted')\n",
    "plt.ylabel('True')\n",
    "plt.title('Confusion Matrix')\n",
    "plt.show()"
   ]
  },
  {
   "cell_type": "code",
   "execution_count": 314,
   "id": "c783a5fd",
   "metadata": {},
   "outputs": [
    {
     "data": {
      "image/png": "[encoded data removed]",
      "text/plain": [
       "<Figure size 432x288 with 1 Axes>"
      ]
     },
     "metadata": {
      "needs_background": "light"
     },
     "output_type": "display_data"
    }
   ],
   "source": [
    "fpr, tpr, thresholds = roc_curve(train[\"target\"], prediction_train_xgb)\n",
    "roc_auc = auc(fpr, tpr)\n",
    "\n",
    "# Plot ROC curve\n",
    "plt.figure()\n",
    "plt.plot(fpr, tpr, color='darkorange', lw=2, label='ROC curve (area = %0.2f)' % roc_auc)\n",
    "plt.plot([0, 1], [0, 1], color='navy', lw=2, linestyle='--')\n",
    "plt.xlim([0.0, 1.0])\n",
    "plt.ylim([0.0, 1.05])\n",
    "plt.xlabel('False Positive Rate')\n",
    "plt.ylabel('True Positive Rate')\n",
    "plt.title('Receiver Operating Characteristic')\n",
    "plt.legend(loc=\"lower right\")\n",
    "plt.show()\n"
   ]
  },
  {
   "cell_type": "code",
   "execution_count": 315,
   "id": "a8ab7cf6",
   "metadata": {},
   "outputs": [],
   "source": [
    "prediction_df_train = pd.DataFrame({\n",
    "    \"date\": train[\"date\"],\n",
    "    \"team\": train[\"team\"],\n",
    "    \"season\": train[\"season\"],\n",
    "    \"round\": train[\"round\"],\n",
    "    \"result\": train[\"result\"],\n",
    "    \"predicted_target\": prediction_train_xgb\n",
    "})"
   ]
  },
  {
   "cell_type": "code",
   "execution_count": 316,
   "id": "694096fc",
   "metadata": {},
   "outputs": [],
   "source": [
    "prediction_df_train.to_csv(\"train_predictions_xgb.csv\", index=False)"
   ]
  },
  {
   "cell_type": "markdown",
   "id": "6292ef81",
   "metadata": {},
   "source": [
    "### Logistic Regression"
   ]
  },
  {
   "cell_type": "code",
   "execution_count": 317,
   "id": "1cd15cc6",
   "metadata": {},
   "outputs": [],
   "source": [
    "lr = LogisticRegression(random_state=42)\n",
    "lr.fit(train[predictors], train[\"target\"])\n",
    "\n",
    "#predictions on the test data\n",
    "lr_pred = lr.predict(test[predictors])"
   ]
  },
  {
   "cell_type": "code",
   "execution_count": 318,
   "id": "cd728c6b",
   "metadata": {},
   "outputs": [
    {
     "data": {
      "text/plain": [
       "0.6894463667820069"
      ]
     },
     "execution_count": 318,
     "metadata": {},
     "output_type": "execute_result"
    }
   ],
   "source": [
    "accuracy_lr = accuracy_score(test[\"target\"], lr_pred)\n",
    "accuracy_lr"
   ]
  },
  {
   "cell_type": "code",
   "execution_count": 319,
   "id": "18ebb215",
   "metadata": {},
   "outputs": [
    {
     "name": "stdout",
     "output_type": "stream",
     "text": [
      "Classification Report:\n",
      "               precision    recall  f1-score   support\n",
      "\n",
      "           0       0.71      0.85      0.77       719\n",
      "           1       0.64      0.42      0.50       437\n",
      "\n",
      "    accuracy                           0.69      1156\n",
      "   macro avg       0.67      0.64      0.64      1156\n",
      "weighted avg       0.68      0.69      0.67      1156\n",
      "\n"
     ]
    }
   ],
   "source": [
    "report_lr = classification_report(test[\"target\"], lr_pred)\n",
    "print(\"Classification Report:\\n\", report_lr)"
   ]
  },
  {
   "cell_type": "code",
   "execution_count": 320,
   "id": "ac90e931",
   "metadata": {},
   "outputs": [
    {
     "data": {
      "image/png": "[encoded data removed]",
      "text/plain": [
       "<Figure size 576x432 with 1 Axes>"
      ]
     },
     "metadata": {
      "needs_background": "light"
     },
     "output_type": "display_data"
    }
   ],
   "source": [
    "matrix_lr = confusion_matrix(test[\"target\"], lr_pred)\n",
    "plt.figure(figsize=(8, 6))\n",
    "sns.heatmap(matrix_lr, annot=True, cmap='Blues', fmt='d', cbar=False)\n",
    "plt.xlabel('Predicted')\n",
    "plt.ylabel('True')\n",
    "plt.title('Confusion Matrix')\n",
    "plt.show()"
   ]
  },
  {
   "cell_type": "code",
   "execution_count": 321,
   "id": "f19256aa",
   "metadata": {},
   "outputs": [
    {
     "data": {
      "image/png": "[encoded data removed]",
      "text/plain": [
       "<Figure size 432x288 with 1 Axes>"
      ]
     },
     "metadata": {
      "needs_background": "light"
     },
     "output_type": "display_data"
    }
   ],
   "source": [
    "fpr, tpr, thresholds = roc_curve(test[\"target\"], lr_pred)\n",
    "roc_auc = auc(fpr, tpr)\n",
    "\n",
    "# Plot ROC curve\n",
    "plt.figure()\n",
    "plt.plot(fpr, tpr, color='darkorange', lw=2, label='ROC curve (area = %0.2f)' % roc_auc)\n",
    "plt.plot([0, 1], [0, 1], color='navy', lw=2, linestyle='--')\n",
    "plt.xlim([0.0, 1.0])\n",
    "plt.ylim([0.0, 1.05])\n",
    "plt.xlabel('False Positive Rate')\n",
    "plt.ylabel('True Positive Rate')\n",
    "plt.title('Receiver Operating Characteristic')\n",
    "plt.legend(loc=\"lower right\")\n",
    "plt.show()\n"
   ]
  },
  {
   "cell_type": "code",
   "execution_count": 322,
   "id": "75981581",
   "metadata": {},
   "outputs": [],
   "source": [
    "prediction_df_lr = pd.DataFrame({\n",
    "    \"date\": test[\"date\"],\n",
    "    \"team\": test[\"team\"],\n",
    "    \"season\": test[\"season\"],\n",
    "    \"round\": test[\"round\"],\n",
    "    \"result\": test[\"result\"],\n",
    "    \"predicted_target\": lr_pred\n",
    "})"
   ]
  },
  {
   "cell_type": "code",
   "execution_count": 323,
   "id": "ec15ed23",
   "metadata": {},
   "outputs": [],
   "source": [
    "prediction_df_lr.to_csv(\"test_predictions_lr.csv\", index=False)"
   ]
  },
  {
   "cell_type": "markdown",
   "id": "0c081d62",
   "metadata": {},
   "source": [
    "### Prediction on train set"
   ]
  },
  {
   "cell_type": "code",
   "execution_count": 324,
   "id": "a7273eaa",
   "metadata": {},
   "outputs": [],
   "source": [
    "prediction_train_lr = lr.predict(train[predictors])"
   ]
  },
  {
   "cell_type": "code",
   "execution_count": 325,
   "id": "86908917",
   "metadata": {},
   "outputs": [
    {
     "data": {
      "text/plain": [
       "0.6917140536149472"
      ]
     },
     "execution_count": 325,
     "metadata": {},
     "output_type": "execute_result"
    }
   ],
   "source": [
    "accuracy = accuracy_score(train[\"target\"], prediction_train_lr)\n",
    "accuracy"
   ]
  },
  {
   "cell_type": "code",
   "execution_count": 326,
   "id": "5a67badb",
   "metadata": {},
   "outputs": [
    {
     "name": "stdout",
     "output_type": "stream",
     "text": [
      "Classification Report:\n",
      "               precision    recall  f1-score   support\n",
      "\n",
      "           0       0.72      0.84      0.78      3112\n",
      "           1       0.62      0.43      0.51      1812\n",
      "\n",
      "    accuracy                           0.69      4924\n",
      "   macro avg       0.67      0.64      0.64      4924\n",
      "weighted avg       0.68      0.69      0.68      4924\n",
      "\n"
     ]
    }
   ],
   "source": [
    "report_lr_train = classification_report(train[\"target\"], prediction_train_lr)\n",
    "print(\"Classification Report:\\n\", report_lr_train)"
   ]
  },
  {
   "cell_type": "code",
   "execution_count": 327,
   "id": "36722946",
   "metadata": {},
   "outputs": [
    {
     "data": {
      "image/png": "[encoded data removed]",
      "text/plain": [
       "<Figure size 576x432 with 1 Axes>"
      ]
     },
     "metadata": {
      "needs_background": "light"
     },
     "output_type": "display_data"
    }
   ],
   "source": [
    "matrix_lr_train = confusion_matrix(train[\"target\"], prediction_train_lr)\n",
    "plt.figure(figsize=(8, 6))\n",
    "sns.heatmap(matrix_lr_train, annot=True, cmap='Blues', fmt='d', cbar=False)\n",
    "plt.xlabel('Predicted')\n",
    "plt.ylabel('True')\n",
    "plt.title('Confusion Matrix')\n",
    "plt.show()"
   ]
  },
  {
   "cell_type": "code",
   "execution_count": 328,
   "id": "b4dfc339",
   "metadata": {},
   "outputs": [],
   "source": [
    "prediction_df_train = pd.DataFrame({\n",
    "    \"date\": train[\"date\"],\n",
    "    \"team\": train[\"team\"],\n",
    "    \"season\": train[\"season\"],\n",
    "    \"round\": train[\"round\"],\n",
    "    \"result\": train[\"result\"],\n",
    "    \"predicted_target\": prediction_train_lr\n",
    "})"
   ]
  },
  {
   "cell_type": "code",
   "execution_count": 329,
   "id": "adc2cb36",
   "metadata": {},
   "outputs": [],
   "source": [
    "prediction_df_train.to_csv(\"train_predictions_lr.csv\", index=False)"
   ]
  },
  {
   "cell_type": "code",
   "execution_count": 330,
   "id": "f54716c2",
   "metadata": {},
   "outputs": [
    {
     "data": {
      "image/png": "[encoded data removed]",
      "text/plain": [
       "<Figure size 432x288 with 1 Axes>"
      ]
     },
     "metadata": {
      "needs_background": "light"
     },
     "output_type": "display_data"
    }
   ],
   "source": [
    "fpr, tpr, thresholds = roc_curve(train[\"target\"], prediction_train_lr)\n",
    "roc_auc = auc(fpr, tpr)\n",
    "\n",
    "# Plot ROC curve\n",
    "plt.figure()\n",
    "plt.plot(fpr, tpr, color='darkorange', lw=2, label='ROC curve (area = %0.2f)' % roc_auc)\n",
    "plt.plot([0, 1], [0, 1], color='navy', lw=2, linestyle='--')\n",
    "plt.xlim([0.0, 1.0])\n",
    "plt.ylim([0.0, 1.05])\n",
    "plt.xlabel('False Positive Rate')\n",
    "plt.ylabel('True Positive Rate')\n",
    "plt.title('Receiver Operating Characteristic')\n",
    "plt.legend(loc=\"lower right\")\n",
    "plt.show()\n"
   ]
  },
  {
   "cell_type": "markdown",
   "id": "dd509dc1",
   "metadata": {},
   "source": [
    "#### From  the above results on the predcitions of test an train set we can observe all the models performed in almost similar way in terms of all the accuracy measures . xg boost performed slighlty better when compared to random forest and logistic regression"
   ]
  },
  {
   "cell_type": "markdown",
   "id": "7fc4b551",
   "metadata": {},
   "source": [
    "\n",
    "<div class=\"alert alert-block alert-info\">\n",
    "\n",
    "In conclusion when we predicted in a three way the results were pretty bad this might be because of the less data on the draw results becuase in \n",
    "most of the matches either of the team wins, so in a two way prediction we considered loss and draw as loss and it improved the performance of the model.\n",
    "\n",
    "</div>"
   ]
  }
 ],
 "metadata": {
  "kernelspec": {
   "display_name": "Python 3 (ipykernel)",
   "language": "python",
   "name": "python3"
  },
  "language_info": {
   "codemirror_mode": {
    "name": "ipython",
    "version": 3
   },
   "file_extension": ".py",
   "mimetype": "text/x-python",
   "name": "python",
   "nbconvert_exporter": "python",
   "pygments_lexer": "ipython3",
   "version": "3.9.12"
  }
 },
 "nbformat": 4,
 "nbformat_minor": 5
}
